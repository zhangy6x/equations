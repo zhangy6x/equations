{
 "cells": [
  {
   "cell_type": "markdown",
   "metadata": {},
   "source": [
    "Beer-Lambert Law 1: (with option to add upper)\n",
    "\n",
    "$$Tr\\left( E \\right) =\\frac { I\\left( E \\right)  }{ { I }_{ 0 }\\left( E \\right)  } =exp\\left[ -\\sum_{ i }^{  } { { N }_{ i }{ d }_{ i } } \\sum_{ j }^{  } { { \\sigma  }_{ ij }\\left( E \\right) { A }_{ ij } }  \\right]$$"
   ]
  },
  {
   "cell_type": "markdown",
   "metadata": {},
   "source": [
    "Beer-Lambert Law 1: (sum upper hided)\n",
    "\n",
    "$$Tr\\left( E \\right) =\\frac { I\\left( E \\right)  }{ { I }_{ 0 }\\left( E \\right)  } =exp\\left[ -\\sum_i { { N }_{ i }{ d }_{ i } } \\sum_j { { \\sigma  }_{ ij }\\left( E \\right) { A }_{ ij } }  \\right]$$"
   ]
  },
  {
   "cell_type": "markdown",
   "metadata": {},
   "source": [
    "Beer-Lambert Law 1: (with option to add upper, lower index on side)\n",
    "\n",
    "$$Tr\\left( E \\right) =\\frac { I\\left( E \\right)  }{ { I }_{ 0 }\\left( E \\right)  } =exp\\left[ -\\sum\\nolimits_{ i }^{  } { { N }_{ i }{ d }_{ i } } \\sum\\nolimits_{ j }^{  } { { \\sigma  }_{ ij }\\left( E \\right) { A }_{ ij } }  \\right]$$"
   ]
  },
  {
   "cell_type": "markdown",
   "metadata": {},
   "source": [
    "Beer-Lambert Law 1: (sum upper hided, lower index on side)\n",
    "\n",
    "$$Tr\\left( E \\right) =\\frac { I\\left( E \\right)  }{ { I }_{ 0 }\\left( E \\right)  } =exp\\left[ -\\sum\\nolimits_i { { N }_{ i }{ d }_{ i } } \\sum\\nolimits_j { { \\sigma  }_{ ij }\\left( E \\right) { A }_{ ij } }  \\right]$$"
   ]
  },
  {
   "cell_type": "markdown",
   "metadata": {},
   "source": [
    "Beer-Lambert Law 2:\n",
    "\n",
    "$${ N }_{ i }=\\frac { { \\rho  }_{ i } }{ \\sum _{ j }^{  }{ { m }_{ ij }{ A }_{ ij } }  }\n",
    "$$"
   ]
  },
  {
   "cell_type": "markdown",
   "metadata": {},
   "source": [
    "Beer-Lambert Law 2: (lower index on side, sum upper hided)\n",
    "\n",
    "$${ N }_{ i }=\\frac { { \\rho  }_{ i } }{ \\sum\\nolimits_j { { m }_{ ij }{ A }_{ ij } }  }$$"
   ]
  },
  {
   "cell_type": "markdown",
   "metadata": {},
   "source": [
    "$${N_i} = {N_A}{C_i} = \\frac{{{N_A}{\\rho _i}}}{{\\sum\\nolimits_j {{m_{ij}}{A_{ij}}} }}$$"
   ]
  },
  {
   "cell_type": "markdown",
   "metadata": {},
   "source": [
    "Beer-Lambert Law 3:\n",
    "\n",
    "$${ N }_{ i }=\\frac { { s }_{ i }\\sum _{ j }^{  }{ { P }_{ ij } }  }{ kT }  \n",
    "$$"
   ]
  },
  {
   "cell_type": "markdown",
   "metadata": {},
   "source": [
    "Beer-Lambert Law 3: (lower index on side, sum upper hided)\n",
    "\n",
    "$${ N }_{ i }=\\frac { { s }_{ i }\\sum\\nolimits_j { { P }_{ ij } }  }{ kT }$$"
   ]
  },
  {
   "cell_type": "markdown",
   "metadata": {},
   "source": [
    "Beer-Lambert Law 4:\n",
    "\n",
    "$$Tr\\left( E \\right) ={ Tr }_{ solid }\\left( E \\right) \\times { Tr }_{ gas }\\left( E \\right) =exp\\left[ -\\sum _{ i }^{  }{ \\frac { { \\rho  }_{ i }{ d }_{ i }\\sum _{ j }^{  }{ { \\sigma  }_{ ij }\\left( E \\right) { A }_{ ij } }  }{ \\sum _{ j }^{  }{ { m }_{ ij }{ A }_{ ij } }  }  }  \\right] \\times exp\\left[ -\\frac { 1 }{ kT } \\sum _{ i }^{  }{ { s }_{ i }{ d }_{ i }\\sum _{ j }^{  }{ { { P }_{ ij }\\sigma  }_{ ij }\\left( E \\right) { A }_{ ij } }  }  \\right]$$"
   ]
  },
  {
   "cell_type": "markdown",
   "metadata": {},
   "source": [
    "Beer-Lambert Law 4: (lower index on side, sum upper hided)\n",
    "\n",
    "$$Tr\\left( E \\right) ={ Tr }_{ solid }\\left( E \\right) \\times { Tr }_{ gas }\\left( E \\right) =exp\\left[ -\\sum\\nolimits_i { \\frac { { \\rho  }_{ i }{ d }_{ i }\\sum\\nolimits_j { { \\sigma  }_{ ij }\\left( E \\right) { A }_{ ij } }  }{ \\sum\\nolimits_j { { m }_{ ij }{ A }_{ ij } }  }  }  \\right] \\times exp\\left[ -\\frac { 1 }{ kT } \\sum\\nolimits_i { { s }_{ i }{ d }_{ i }\\sum\\nolimits_j { { { P }_{ ij }\\sigma  }_{ ij }\\left( E \\right) { A }_{ ij } }  }  \\right]$$"
   ]
  },
  {
   "cell_type": "code",
   "execution_count": null,
   "metadata": {
    "collapsed": true
   },
   "outputs": [],
   "source": []
  }
 ],
 "metadata": {
  "kernelspec": {
   "display_name": "Python 3",
   "language": "python",
   "name": "python3"
  },
  "language_info": {
   "codemirror_mode": {
    "name": "ipython",
    "version": 3
   },
   "file_extension": ".py",
   "mimetype": "text/x-python",
   "name": "python",
   "nbconvert_exporter": "python",
   "pygments_lexer": "ipython3",
   "version": "3.6.1"
  }
 },
 "nbformat": 4,
 "nbformat_minor": 2
}
