{
 "cells": [
  {
   "cell_type": "markdown",
   "metadata": {},
   "source": [
    "# wo shi ji ji kun !!!\n",
    "# wuda shi wo ge!!!"
   ]
  },
  {
   "cell_type": "code",
   "execution_count": 1,
   "metadata": {
    "collapsed": true
   },
   "outputs": [],
   "source": [
    "from lmfit import Parameters\n",
    "from lmfit import minimize\n",
    "import numpy as np\n",
    "import pandas as pd"
   ]
  },
  {
   "cell_type": "markdown",
   "metadata": {},
   "source": [
    "### Define parameters"
   ]
  },
  {
   "cell_type": "code",
   "execution_count": 2,
   "metadata": {
    "collapsed": true
   },
   "outputs": [],
   "source": [
    "# risk aversion\n",
    "delta = 4  # 3.5 < delta < 4.5"
   ]
  },
  {
   "cell_type": "code",
   "execution_count": 3,
   "metadata": {
    "collapsed": true
   },
   "outputs": [],
   "source": [
    "# convariance_quantities\n",
    "sigma_all = [[.02778, .00387, .00021],\n",
    "             [.00387, .01112, -.00020],\n",
    "             [.00021, -.00020, .00115],\n",
    "            ]"
   ]
  },
  {
   "cell_type": "code",
   "execution_count": 4,
   "metadata": {},
   "outputs": [
    {
     "data": {
      "text/html": [
       "<div>\n",
       "<style>\n",
       "    .dataframe thead tr:only-child th {\n",
       "        text-align: right;\n",
       "    }\n",
       "\n",
       "    .dataframe thead th {\n",
       "        text-align: left;\n",
       "    }\n",
       "\n",
       "    .dataframe tbody tr th {\n",
       "        vertical-align: top;\n",
       "    }\n",
       "</style>\n",
       "<table border=\"1\" class=\"dataframe\">\n",
       "  <thead>\n",
       "    <tr style=\"text-align: right;\">\n",
       "      <th></th>\n",
       "      <th>0</th>\n",
       "      <th>1</th>\n",
       "      <th>2</th>\n",
       "    </tr>\n",
       "  </thead>\n",
       "  <tbody>\n",
       "    <tr>\n",
       "      <th>0</th>\n",
       "      <td>0.02778</td>\n",
       "      <td>0.00387</td>\n",
       "      <td>0.00021</td>\n",
       "    </tr>\n",
       "    <tr>\n",
       "      <th>1</th>\n",
       "      <td>0.00387</td>\n",
       "      <td>0.01112</td>\n",
       "      <td>-0.00020</td>\n",
       "    </tr>\n",
       "    <tr>\n",
       "      <th>2</th>\n",
       "      <td>0.00021</td>\n",
       "      <td>-0.00020</td>\n",
       "      <td>0.00115</td>\n",
       "    </tr>\n",
       "  </tbody>\n",
       "</table>\n",
       "</div>"
      ],
      "text/plain": [
       "         0        1        2\n",
       "0  0.02778  0.00387  0.00021\n",
       "1  0.00387  0.01112 -0.00020\n",
       "2  0.00021 -0.00020  0.00115"
      ]
     },
     "execution_count": 4,
     "metadata": {},
     "output_type": "execute_result"
    }
   ],
   "source": [
    "pd.DataFrame(sigma_all)"
   ]
  },
  {
   "cell_type": "code",
   "execution_count": 5,
   "metadata": {
    "collapsed": true
   },
   "outputs": [],
   "source": [
    "# expect_return\n",
    "expect_return = [0.1073, 0.0737, 0.0627]"
   ]
  },
  {
   "cell_type": "markdown",
   "metadata": {},
   "source": [
    "### Generate intial guess for xi "
   ]
  },
  {
   "cell_type": "code",
   "execution_count": 6,
   "metadata": {},
   "outputs": [
    {
     "name": "stdout",
     "output_type": "stream",
     "text": [
      "[0.1248767861310295, 0.56475222319501195, 0.31037099067395857]\n",
      "Sum: 1.0\n"
     ]
    }
   ],
   "source": [
    "# Generate random xi or input yours as list\n",
    "nbr_assets = len(expect_return)\n",
    "xi_weights = list(np.random.dirichlet(np.ones(nbr_assets),size=1)[0]) # generate random xi list\n",
    "if sum(xi_weights)!=1: # test the sum is 1\n",
    "    raise ValueError(\"The sum of your input weight '{}' is not '1'.\".format(xi_weights))\n",
    "print(xi_weights)\n",
    "print(\"Sum: {}\".format(sum(xi_weights)))"
   ]
  },
  {
   "cell_type": "markdown",
   "metadata": {},
   "source": [
    "### Form params for minimization"
   ]
  },
  {
   "cell_type": "code",
   "execution_count": 7,
   "metadata": {},
   "outputs": [
    {
     "name": "stdout",
     "output_type": "stream",
     "text": [
      "\n",
      "----------Before apply constraint---------- \n",
      "\n",
      "Name     Value      Min      Max   Stderr     Vary     Expr Brute_Step\n",
      "x1    0.1249        0        1     None     True     None     None\n",
      "x2    0.5648        0        1     None     True     None     None\n",
      "x3    0.3104        0        1     None     True     None     None\n",
      "\n",
      "----------After apply constraint---------- \n",
      "\n",
      "Name     Value      Min      Max   Stderr     Vary     Expr Brute_Step\n",
      "x1    0.1249        0        1     None     True     None     None\n",
      "x2    0.5648        0        1     None     True     None     None\n",
      "x3    0.3104        0        1     None    False  1-x1-x2     None\n"
     ]
    }
   ],
   "source": [
    "# pack parameters for fitting\n",
    "params = Parameters()\n",
    "for n in range(len(xi_weights)):\n",
    "    params.add('x' + str(n+1),\n",
    "                value=xi_weights[n],\n",
    "                vary=True,\n",
    "                min=0,\n",
    "                max=1)\n",
    "print(\"\\n----------Before apply constraint---------- \\n\")\n",
    "params.pretty_print()\n",
    "\n",
    "# form constraint\n",
    "_param_list = list(params.valuesdict().keys())\n",
    "_constraint_param = _param_list.pop(-1)\n",
    "_constraint = '-'.join(_param_list)\n",
    "_constraint = '1-' + _constraint\n",
    "\n",
    "# set constraint\n",
    "params[_constraint_param].set(expr=_constraint)\n",
    "print(\"\\n----------After apply constraint---------- \\n\")\n",
    "params.pretty_print()\n"
   ]
  },
  {
   "cell_type": "markdown",
   "metadata": {},
   "source": [
    "# Define model"
   ]
  },
  {
   "cell_type": "code",
   "execution_count": 8,
   "metadata": {
    "collapsed": true
   },
   "outputs": [],
   "source": [
    "def model(params, expect_return, sigma_all):\n",
    "    # unpack params\n",
    "    parvals = params.valuesdict()\n",
    "    param_names = parvals.keys()\n",
    "    xi_weights = []\n",
    "    for each in param_names:\n",
    "        xi_weights.append(parvals[each])\n",
    "    print(\"Trying: {}\".format(xi_weights))\n",
    "    \n",
    "    # calculate the cost\n",
    "    sum_1 = 0\n",
    "    sum_2 = 0\n",
    "    for i in range(len(xi_weights)):\n",
    "        j=0\n",
    "        _sum_1 = xi_weights[i] * expect_return[i]\n",
    "        sum_1 = sum_1 + _sum_1\n",
    "#         print(i)\n",
    "        while j <= len(xi_weights)-1:\n",
    "#             print(i, j)\n",
    "            _sum_2 = sigma_all[i][j] * xi_weights[i] * xi_weights[j]\n",
    "            sum_2 = sum_2 + _sum_2\n",
    "            j=j+1\n",
    "    cost = -(sum_1 - (delta/2)*sum_2)\n",
    "    print(-cost)\n",
    "    return cost\n",
    "    "
   ]
  },
  {
   "cell_type": "code",
   "execution_count": 9,
   "metadata": {},
   "outputs": [
    {
     "name": "stdout",
     "output_type": "stream",
     "text": [
      "Trying: [0.1248767861310295, 0.56475222319501195, 0.31037099067395857]\n",
      "0.0653164178911\n"
     ]
    },
    {
     "data": {
      "text/plain": [
       "-0.065316417891058201"
      ]
     },
     "execution_count": 9,
     "metadata": {},
     "output_type": "execute_result"
    }
   ],
   "source": [
    "model(params, expect_return=expect_return, sigma_all=sigma_all)"
   ]
  },
  {
   "cell_type": "code",
   "execution_count": 10,
   "metadata": {
    "collapsed": true
   },
   "outputs": [],
   "source": [
    "def jacobian(x):\n",
    "    return np.array((-2*.5*(1 - x[0]) - 4*x[0]*(x[1] - x[0]**2), 2*(x[1] - x[0]**2)))"
   ]
  },
  {
   "cell_type": "code",
   "execution_count": 11,
   "metadata": {},
   "outputs": [
    {
     "name": "stdout",
     "output_type": "stream",
     "text": [
      "Trying: [0.12487678613102948, 0.56475222319501195, 0.31037099067395857]\n",
      "0.0653164178911\n",
      "Trying: [0.26977714009712866, 0.62041856152351404, 0.10980429837935723]\n",
      "0.066363345901\n",
      "Trying: [0.27041212380573937, 0.61974796677040667, 0.10983990942385402]\n",
      "0.0663803105608\n",
      "Trying: [0.27295674124508063, 0.61706331470334841, 0.10997994405157097]\n",
      "0.0664477211738\n",
      "Trying: [0.28320867149596723, 0.60628977425720465, 0.11050155424682817]\n",
      "0.0667100512375\n",
      "Trying: [0.32529686926726831, 0.56272923078488046, 0.11197389994785123]\n",
      "0.0676336967859\n",
      "Trying: [0.5045861629456565, 0.38703056835370409, 0.10838326870063941]\n",
      "0.0689220228294\n",
      "Trying: [0.5067502279166981, 0.38800927567151366, 0.10524049641178823]\n",
      "0.0688719889114\n",
      "Trying: [0.50503899860079327, 0.38723532373532277, 0.10772567766388397]\n",
      "0.0689116088923\n",
      "Trying: [0.50468068222870599, 0.38707330465233614, 0.10824601311895787]\n",
      "0.0689198515911\n",
      "Trying: [0.50460588132636097, 0.38703948381742259, 0.10835463485621644]\n",
      "0.0689215699772\n",
      "Trying: [0.50459027609281659, 0.38703242806764127, 0.10837729583954214]\n",
      "0.0689219283715\n",
      "Trying: [0.50458702090610852, 0.38703095627087342, 0.10838202282301806]\n",
      "0.0689220031267\n",
      "Trying: [0.50458634190657869, 0.38703064926886599, 0.10838300882455532]\n",
      "0.0689220187197\n",
      "Trying: [0.50458620027485923, 0.38703058523168166, 0.10838321449345911]\n",
      "0.0689220219722\n",
      "Trying: [0.50458617073209988, 0.38703057187425655, 0.10838325739364357]\n",
      "0.0689220226506\n",
      "Trying: [0.50458616553084101, 0.38703056952256609, 0.10838326494659289]\n",
      "0.0689220227701\n",
      "Trying: [0.5067502279166981, 0.38800927567151366, 0.10524049641178823]\n",
      "0.0688719889114\n",
      "Trying: [0.50565783451038893, 0.38751517350654313, 0.10682699198306794]\n",
      "0.0688973296876\n",
      "Trying: [0.50503414306029748, 0.38723312812577837, 0.10773272881392415]\n",
      "0.0689117207125\n",
      "Trying: [0.50477952058095166, 0.38711799480167947, 0.10810248461736888]\n",
      "0.0689175797624\n",
      "Trying: [0.50466916295918451, 0.38706809623661792, 0.10826274080419757]\n",
      "0.0689201162734\n",
      "Trying: [0.50462182558057067, 0.38704669287857407, 0.10833148154085526]\n",
      "0.0689212037606\n",
      "Trying: [0.50460148356403633, 0.38703749541070598, 0.10836102102525769]\n",
      "0.068921670981\n",
      "Trying: [0.50459274485693917, 0.38703354429285719, 0.10837371085020364]\n",
      "0.0689218716755\n",
      "Trying: [0.50458899059538775, 0.38703184684402314, 0.1083791625605891]\n",
      "0.0689219578931\n",
      "Trying: [0.50458737773120077, 0.38703111760534875, 0.10838150466345048]\n",
      "0.0689219949323\n",
      "Trying: [0.50458668482915514, 0.38703080431744941, 0.10838251085339545]\n",
      "0.0689220108446\n",
      "Trying: [0.50458638715181237, 0.38703066972598843, 0.1083829431221992]\n",
      "0.0689220176806\n",
      "Trying: [0.5045861629456565, 0.38703056835370409, 0.10838326870063941]\n",
      "0.0689220228294\n"
     ]
    }
   ],
   "source": [
    "result = minimize(model, params, method='newton', jac=jacobian, args=(expect_return, sigma_all))"
   ]
  },
  {
   "cell_type": "code",
   "execution_count": 12,
   "metadata": {},
   "outputs": [
    {
     "data": {
      "text/plain": [
       "Parameters([('x1', <Parameter 'x1', 0.5045861629456565, bounds=[0:1]>),\n",
       "            ('x2', <Parameter 'x2', 0.38703056835370409, bounds=[0:1]>),\n",
       "            ('x3',\n",
       "             <Parameter 'x3', 0.10838326870063941, bounds=[0:1], expr='1-x1-x2'>)])"
      ]
     },
     "execution_count": 12,
     "metadata": {},
     "output_type": "execute_result"
    }
   ],
   "source": [
    "result.params"
   ]
  },
  {
   "cell_type": "code",
   "execution_count": 13,
   "metadata": {},
   "outputs": [
    {
     "data": {
      "text/plain": [
       "Parameters([('x1', <Parameter 'x1', 0.5045861629456565, bounds=[0:1]>),\n",
       "            ('x2', <Parameter 'x2', 0.38703056835370409, bounds=[0:1]>),\n",
       "            ('x3',\n",
       "             <Parameter 'x3', 0.10838326870063941, bounds=[0:1], expr='1-x1-x2'>)])"
      ]
     },
     "execution_count": 13,
     "metadata": {},
     "output_type": "execute_result"
    }
   ],
   "source": [
    "result.params"
   ]
  },
  {
   "cell_type": "code",
   "execution_count": 14,
   "metadata": {},
   "outputs": [
    {
     "data": {
      "text/plain": [
       "{'aborted': False,\n",
       " 'aic': -1.3495590347100066,\n",
       " 'bic': -5.3495590347100066,\n",
       " 'chisqr': 0.0047502452309016252,\n",
       " 'errorbars': False,\n",
       " 'fun': -0.06892202282943838,\n",
       " 'init_vals': [-0.84843472143810839, 0.12986920118456446],\n",
       " 'init_values': {'x1': -0.84843472143810839, 'x2': 0.12986920118456446},\n",
       " 'jac': array([-0.9824626, -0.4559817]),\n",
       " 'message': 'Warning: Desired error not necessarily achieved due to precision loss.',\n",
       " 'method': 'Newton-CG',\n",
       " 'ndata': 1,\n",
       " 'nfev': 30,\n",
       " 'nfree': -1,\n",
       " 'nhev': 0,\n",
       " 'nit': 2,\n",
       " 'njev': 27,\n",
       " 'nvarys': 2,\n",
       " 'params': Parameters([('x1',\n",
       "              <Parameter 'x1', 0.5045861629456565, bounds=[0:1]>),\n",
       "             ('x2', <Parameter 'x2', 0.38703056835370409, bounds=[0:1]>),\n",
       "             ('x3',\n",
       "              <Parameter 'x3', 0.10838326870063941, bounds=[0:1], expr='1-x1-x2'>)]),\n",
       " 'redchi': 0.0047502452309016252,\n",
       " 'residual': array([-0.06892202]),\n",
       " 'status': 2,\n",
       " 'success': False,\n",
       " 'var_names': ['x1', 'x2'],\n",
       " 'x': array([ 0.00917245, -0.22790671])}"
      ]
     },
     "execution_count": 14,
     "metadata": {},
     "output_type": "execute_result"
    }
   ],
   "source": [
    "result.__dict__"
   ]
  },
  {
   "cell_type": "code",
   "execution_count": 64,
   "metadata": {
    "collapsed": true
   },
   "outputs": [],
   "source": []
  },
  {
   "cell_type": "code",
   "execution_count": null,
   "metadata": {
    "collapsed": true
   },
   "outputs": [],
   "source": []
  }
 ],
 "metadata": {
  "kernelspec": {
   "display_name": "Python 3",
   "language": "python",
   "name": "python3"
  },
  "language_info": {
   "codemirror_mode": {
    "name": "ipython",
    "version": 3
   },
   "file_extension": ".py",
   "mimetype": "text/x-python",
   "name": "python",
   "nbconvert_exporter": "python",
   "pygments_lexer": "ipython3",
   "version": "3.6.1"
  }
 },
 "nbformat": 4,
 "nbformat_minor": 2
}
