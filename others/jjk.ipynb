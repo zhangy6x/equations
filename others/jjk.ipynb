{
 "cells": [
  {
   "cell_type": "markdown",
   "metadata": {},
   "source": [
    "# wo shi ji ji kun !!!\n",
    "# wuda shi wo ge!!!"
   ]
  },
  {
   "cell_type": "code",
   "execution_count": 1,
   "metadata": {
    "collapsed": true
   },
   "outputs": [],
   "source": [
    "from lmfit import Parameters\n",
    "from lmfit import minimize\n",
    "import numpy as np\n",
    "import pandas as pd"
   ]
  },
  {
   "cell_type": "markdown",
   "metadata": {},
   "source": [
    "### Define parameters"
   ]
  },
  {
   "cell_type": "code",
   "execution_count": 2,
   "metadata": {
    "collapsed": true
   },
   "outputs": [],
   "source": [
    "# risk aversion\n",
    "delta = 4  # 3.5 < delta < 4.5"
   ]
  },
  {
   "cell_type": "code",
   "execution_count": 3,
   "metadata": {
    "collapsed": true
   },
   "outputs": [],
   "source": [
    "# convariance_quantities\n",
    "sigma_all = [[.02778, .00387, .00021],\n",
    "             [.00387, .01112, -.00020],\n",
    "             [.00021, -.00020, .00115],\n",
    "            ]"
   ]
  },
  {
   "cell_type": "code",
   "execution_count": 4,
   "metadata": {},
   "outputs": [
    {
     "data": {
      "text/html": [
       "<div>\n",
       "<style>\n",
       "    .dataframe thead tr:only-child th {\n",
       "        text-align: right;\n",
       "    }\n",
       "\n",
       "    .dataframe thead th {\n",
       "        text-align: left;\n",
       "    }\n",
       "\n",
       "    .dataframe tbody tr th {\n",
       "        vertical-align: top;\n",
       "    }\n",
       "</style>\n",
       "<table border=\"1\" class=\"dataframe\">\n",
       "  <thead>\n",
       "    <tr style=\"text-align: right;\">\n",
       "      <th></th>\n",
       "      <th>0</th>\n",
       "      <th>1</th>\n",
       "      <th>2</th>\n",
       "    </tr>\n",
       "  </thead>\n",
       "  <tbody>\n",
       "    <tr>\n",
       "      <th>0</th>\n",
       "      <td>0.02778</td>\n",
       "      <td>0.00387</td>\n",
       "      <td>0.00021</td>\n",
       "    </tr>\n",
       "    <tr>\n",
       "      <th>1</th>\n",
       "      <td>0.00387</td>\n",
       "      <td>0.01112</td>\n",
       "      <td>-0.00020</td>\n",
       "    </tr>\n",
       "    <tr>\n",
       "      <th>2</th>\n",
       "      <td>0.00021</td>\n",
       "      <td>-0.00020</td>\n",
       "      <td>0.00115</td>\n",
       "    </tr>\n",
       "  </tbody>\n",
       "</table>\n",
       "</div>"
      ],
      "text/plain": [
       "         0        1        2\n",
       "0  0.02778  0.00387  0.00021\n",
       "1  0.00387  0.01112 -0.00020\n",
       "2  0.00021 -0.00020  0.00115"
      ]
     },
     "execution_count": 4,
     "metadata": {},
     "output_type": "execute_result"
    }
   ],
   "source": [
    "pd.DataFrame(sigma_all)"
   ]
  },
  {
   "cell_type": "code",
   "execution_count": 5,
   "metadata": {
    "collapsed": true
   },
   "outputs": [],
   "source": [
    "# expect_return\n",
    "expect_return = [0.1073, 0.0737, 0.0627]"
   ]
  },
  {
   "cell_type": "markdown",
   "metadata": {},
   "source": [
    "### Generate intial guess for xi "
   ]
  },
  {
   "cell_type": "code",
   "execution_count": 68,
   "metadata": {},
   "outputs": [
    {
     "name": "stdout",
     "output_type": "stream",
     "text": [
      "[0.5614786416208134, 0.11007931644116234, 0.32844204193802434]\n",
      "Sum: 1.0\n"
     ]
    }
   ],
   "source": [
    "# Generate random xi or input yours as list\n",
    "nbr_assets = len(expect_return)\n",
    "xi_weights = list(np.random.dirichlet(np.ones(nbr_assets),size=1)[0]) # generate random xi list\n",
    "if sum(xi_weights)!=1: # test the sum is 1\n",
    "    raise ValueError(\"The sum of your input weight '{}' is not '1'.\".format(xi_weights))\n",
    "print(xi_weights)\n",
    "print(\"Sum: {}\".format(sum(xi_weights)))"
   ]
  },
  {
   "cell_type": "markdown",
   "metadata": {},
   "source": [
    "### Form params for minimization"
   ]
  },
  {
   "cell_type": "code",
   "execution_count": 84,
   "metadata": {},
   "outputs": [
    {
     "name": "stdout",
     "output_type": "stream",
     "text": [
      "\n",
      "----------Before apply constraint---------- \n",
      "\n",
      "Name     Value      Min      Max   Stderr     Vary     Expr Brute_Step\n",
      "x1    0.5615        0        1     None     True     None     None\n",
      "x2    0.1101        0        1     None     True     None     None\n",
      "x3    0.3284        0        1     None     True     None     None\n",
      "\n",
      "----------After apply constraint---------- \n",
      "\n",
      "Name     Value      Min      Max   Stderr     Vary     Expr Brute_Step\n",
      "x1    0.5615        0        1     None     True     None     None\n",
      "x2    0.1101        0        1     None     True     None     None\n",
      "x3    0.3284        0        1     None    False  1-x1-x2     None\n"
     ]
    }
   ],
   "source": [
    "# pack parameters for fitting\n",
    "params = Parameters()\n",
    "for n in range(len(xi_weights)):\n",
    "    params.add('x' + str(n+1),\n",
    "                value=xi_weights[n],\n",
    "                vary=True,\n",
    "                min=0,\n",
    "                max=1)\n",
    "print(\"\\n----------Before apply constraint---------- \\n\")\n",
    "params.pretty_print()\n",
    "\n",
    "# form constraint\n",
    "_param_list = list(params.valuesdict().keys())\n",
    "_constraint_param = _param_list.pop(-1)\n",
    "_constraint = '-'.join(_param_list)\n",
    "_constraint = '1-' + _constraint\n",
    "\n",
    "# set constraint\n",
    "params[_constraint_param].set(expr=_constraint)\n",
    "print(\"\\n----------After apply constraint---------- \\n\")\n",
    "params.pretty_print()\n"
   ]
  },
  {
   "cell_type": "markdown",
   "metadata": {},
   "source": [
    "# Define model"
   ]
  },
  {
   "cell_type": "code",
   "execution_count": 87,
   "metadata": {},
   "outputs": [],
   "source": [
    "def model(params, expect_return, sigma_all):\n",
    "    # unpack params\n",
    "    parvals = params.valuesdict()\n",
    "    param_names = parvals.keys()\n",
    "    xi_weights = []\n",
    "    for each in param_names:\n",
    "        xi_weights.append(parvals[each])\n",
    "    print(\"Trying: {}\".format(xi_weights))\n",
    "    \n",
    "    # calculate the cost\n",
    "    sum_1 = 0\n",
    "    sum_2 = 0\n",
    "    for i in range(len(xi_weights)):\n",
    "        j=0\n",
    "        _sum_1 = xi_weights[i] * expect_return[i]\n",
    "        sum_1 = sum_1 + _sum_1\n",
    "#         print(i)\n",
    "        while j <= len(xi_weights)-1:\n",
    "#             print(i, j)\n",
    "            _sum_2 = sigma_all[i][j] * xi_weights[i] * xi_weights[j]\n",
    "            sum_2 = sum_2 + _sum_2\n",
    "            j=j+1\n",
    "    cost = sum_1 - (delta/2)*sum_2\n",
    "    return cost\n",
    "    "
   ]
  },
  {
   "cell_type": "code",
   "execution_count": 88,
   "metadata": {},
   "outputs": [
    {
     "name": "stdout",
     "output_type": "stream",
     "text": [
      "Trying: [0.5614786416208134, 0.11007931644116234, 0.32844204193802429]\n"
     ]
    },
    {
     "data": {
      "text/plain": [
       "0.069836709306891634"
      ]
     },
     "execution_count": 88,
     "metadata": {},
     "output_type": "execute_result"
    }
   ],
   "source": [
    "model(params, expect_return=expect_return, sigma_all=sigma_all)"
   ]
  },
  {
   "cell_type": "code",
   "execution_count": 52,
   "metadata": {
    "collapsed": true
   },
   "outputs": [],
   "source": [
    "def jacobian(x):\n",
    "    return np.array((-2*.5*(1 - x[0]) - 4*x[0]*(x[1] - x[0]**2), 2*(x[1] - x[0]**2)))"
   ]
  },
  {
   "cell_type": "code",
   "execution_count": 89,
   "metadata": {},
   "outputs": [
    {
     "name": "stdout",
     "output_type": "stream",
     "text": [
      "Trying: [0.5614786416208134, 0.11007931644116231, 0.32844204193802429]\n",
      "Trying: [0.66944115806991489, 0.52531769711648824, 0]\n",
      "Trying: [0.59546342761710191, 0.21686493325310963, 0.18767163912978846]\n",
      "Trying: [0.5956594399581987, 0.21752880707810096, 0.18681175296370034]\n",
      "Trying: [0.59644333642366509, 0.2201916073017845, 0.18336505627455041]\n",
      "Trying: [0.59957644090214191, 0.2309577464212636, 0.1694658126765945]\n",
      "Trying: [0.61206692050960343, 0.2757343756852661, 0.11219870380513047]\n",
      "Trying: [0.6123024394006521, 0.27646070172379444, 0.11123685887555346]\n",
      "Trying: [0.6132442520331417, 0.27937188699004278, 0.10738386097681552]\n",
      "Trying: [0.61700723406967484, 0.29110856789118522, 0.091884198039139942]\n",
      "Trying: [0.63198693456404742, 0.33938601426513315, 0.028627051170819429]\n",
      "Trying: [0.63252612570794675, 0.34076016703436385, 0.026713707257689401]\n",
      "Trying: [0.63468122644462921, 0.34627006074658034, 0.019048712808790447]\n",
      "Trying: [0.6432742543350819, 0.36850913184334549, 0]\n",
      "Trying: [0.64329212658676216, 0.3685509398732475, 0]\n",
      "Trying: [0.64327786001349951, 0.36851756638317018, 0]\n",
      "Trying: [0.64327498173207764, 0.36851083339324409, 0]\n",
      "Trying: [0.64327440107603451, 0.36850947510419652, 0]\n",
      "Trying: [0.64327428393770669, 0.36850920109068808, 0]\n",
      "Trying: [0.64327426030693224, 0.36850914581287558, 0]\n",
      "Trying: [0.64327425553980588, 0.36850913466147178, 0]\n",
      "Trying: [0.64327425542704808, 0.36850913439770505, 0]\n",
      "Trying: [0.64329212658676216, 0.3685509398732475, 0]\n",
      "Trying: [0.64328288866126881, 0.36852932968574575, 0]\n",
      "Trying: [0.64327776393018066, 0.36851734162065597, 0]\n",
      "Trying: [0.64327572815605683, 0.36851257945416416, 0]\n",
      "Trying: [0.64327486979415638, 0.36851057154438616, 0]\n",
      "Trying: [0.64327451159910376, 0.36850973364315032, 0]\n",
      "Trying: [0.64327436185395603, 0.36850938335472117, 0]\n",
      "Trying: [0.64327429927200064, 0.36850923696112736, 0]\n",
      "Trying: [0.64327427311612073, 0.36850917577651093, 0]\n",
      "Trying: [0.64327426218447936, 0.36850915020488961, 0]\n",
      "Trying: [0.64327425761567947, 0.36850913951741698, 0]\n",
      "Trying: [0.64327425570618346, 0.36850913505066696, 0]\n",
      "Trying: [0.6432742543350819, 0.36850913184334549, 0]\n"
     ]
    }
   ],
   "source": [
    "result = minimize(model, params, method='newton', jac=jacobian, args=(expect_return, sigma_all))"
   ]
  },
  {
   "cell_type": "code",
   "execution_count": 90,
   "metadata": {},
   "outputs": [
    {
     "data": {
      "text/plain": [
       "Parameters([('x1', <Parameter 'x1', 0.6432742543350819, bounds=[0:1]>),\n",
       "            ('x2', <Parameter 'x2', 0.36850913184334549, bounds=[0:1]>),\n",
       "            ('x3', <Parameter 'x3', 0, bounds=[0:1], expr='1-x1-x2'>)])"
      ]
     },
     "execution_count": 90,
     "metadata": {},
     "output_type": "execute_result"
    }
   ],
   "source": [
    "result.params"
   ]
  },
  {
   "cell_type": "code",
   "execution_count": 91,
   "metadata": {},
   "outputs": [
    {
     "data": {
      "text/plain": [
       "{'aborted': False,\n",
       " 'aic': -1.4210500220496325,\n",
       " 'bic': -5.4210500220496325,\n",
       " 'chisqr': 0.0044225004859474292,\n",
       " 'errorbars': False,\n",
       " 'fun': 0.06650188332631964,\n",
       " 'init_vals': [0.12326923170405091, -0.8944123608221225],\n",
       " 'init_values': {'x1': 0.12326923170405091, 'x2': -0.8944123608221225},\n",
       " 'jac': array([-0.30184059, -0.70114553]),\n",
       " 'message': 'Warning: Desired error not necessarily achieved due to precision loss.',\n",
       " 'method': 'Newton-CG',\n",
       " 'ndata': 1,\n",
       " 'nfev': 35,\n",
       " 'nfree': -1,\n",
       " 'nhev': 0,\n",
       " 'nit': 4,\n",
       " 'njev': 36,\n",
       " 'nvarys': 2,\n",
       " 'params': Parameters([('x1',\n",
       "              <Parameter 'x1', 0.6432742543350819, bounds=[0:1]>),\n",
       "             ('x2', <Parameter 'x2', 0.36850913184334549, bounds=[0:1]>),\n",
       "             ('x3', <Parameter 'x3', 0, bounds=[0:1], expr='1-x1-x2'>)]),\n",
       " 'redchi': 0.0044225004859474292,\n",
       " 'residual': array([ 0.06650188]),\n",
       " 'status': 2,\n",
       " 'success': False,\n",
       " 'var_names': ['x1', 'x2'],\n",
       " 'x': array([ 0.29062232, -0.26611143])}"
      ]
     },
     "execution_count": 91,
     "metadata": {},
     "output_type": "execute_result"
    }
   ],
   "source": [
    "result.__dict__"
   ]
  },
  {
   "cell_type": "code",
   "execution_count": 64,
   "metadata": {},
   "outputs": [],
   "source": []
  },
  {
   "cell_type": "code",
   "execution_count": null,
   "metadata": {
    "collapsed": true
   },
   "outputs": [],
   "source": []
  }
 ],
 "metadata": {
  "kernelspec": {
   "display_name": "Python 3",
   "language": "python",
   "name": "python3"
  },
  "language_info": {
   "codemirror_mode": {
    "name": "ipython",
    "version": 3
   },
   "file_extension": ".py",
   "mimetype": "text/x-python",
   "name": "python",
   "nbconvert_exporter": "python",
   "pygments_lexer": "ipython3",
   "version": "3.6.1"
  }
 },
 "nbformat": 4,
 "nbformat_minor": 2
}
