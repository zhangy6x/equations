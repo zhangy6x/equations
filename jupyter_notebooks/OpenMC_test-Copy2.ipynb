{
 "cells": [
  {
   "cell_type": "code",
   "execution_count": 2,
   "metadata": {
    "collapsed": true
   },
   "outputs": [],
   "source": [
    "%matplotlib inline\n",
    "import os\n",
    "from pprint import pprint\n",
    "import shutil\n",
    "import subprocess\n",
    "import urllib.request\n",
    "\n",
    "import h5py\n",
    "import numpy as np\n",
    "import matplotlib.pyplot as plt\n",
    "import matplotlib.cm\n",
    "from matplotlib.patches import Rectangle\n",
    "\n",
    "import openmc.data"
   ]
  },
  {
   "cell_type": "code",
   "execution_count": 16,
   "metadata": {},
   "outputs": [
    {
     "data": {
      "text/plain": [
       "<IncidentNeutron: U238>"
      ]
     },
     "execution_count": 16,
     "metadata": {},
     "output_type": "execute_result"
    }
   ],
   "source": [
    "# Download ENDF file\n",
    "# url = 'https://t2.lanl.gov/nis/data/data/ENDFB-VII.1-neutron/U/238'\n",
    "# filename, headers = urllib.request.urlretrieve(url, 'u238.endf')\n",
    "\n",
    "# Load into memory\n",
    "filename = 'u238.endf'\n",
    "# u238_endf = openmc.data.IncidentNeutron.from_endf(filename)\n",
    "u238_h5 = openmc.data.IncidentNeutron.from_hdf5('/Users/y9z/Documents/GitHub/openmc/scripts/nndc_hdf5/U238.h5')\n",
    "u238_h5\n"
   ]
  },
  {
   "cell_type": "code",
   "execution_count": 20,
   "metadata": {},
   "outputs": [
    {
     "data": {
      "text/plain": [
       "7554.5941599255293"
      ]
     },
     "execution_count": 20,
     "metadata": {},
     "output_type": "execute_result"
    }
   ],
   "source": [
    "u238_h5[1].xs['294K'](6.67666666)"
   ]
  },
  {
   "cell_type": "code",
   "execution_count": 21,
   "metadata": {},
   "outputs": [
    {
     "data": {
      "text/plain": [
       "{'294K': array([  1.00000000e-05,   1.03125000e-05,   1.06250000e-05, ...,\n",
       "          2.95000000e+07,   2.97500000e+07,   3.00000000e+07])}"
      ]
     },
     "execution_count": 21,
     "metadata": {},
     "output_type": "execute_result"
    }
   ],
   "source": [
    "u238_h5.energy"
   ]
  },
  {
   "cell_type": "code",
   "execution_count": 22,
   "metadata": {
    "collapsed": true
   },
   "outputs": [],
   "source": [
    "u238_ace = openmc.data.IncidentNeutron.from_ace('/Users/y9z/Documents/GitHub/openmc/scripts/nndc/293.6K/U_238_293.6K.ace')"
   ]
  },
  {
   "cell_type": "code",
   "execution_count": 23,
   "metadata": {},
   "outputs": [
    {
     "data": {
      "text/plain": [
       "7554.5941640761521"
      ]
     },
     "execution_count": 23,
     "metadata": {},
     "output_type": "execute_result"
    }
   ],
   "source": [
    "u238_ace[1].xs['294K'](6.67666666)"
   ]
  },
  {
   "cell_type": "code",
   "execution_count": 25,
   "metadata": {},
   "outputs": [
    {
     "data": {
      "text/plain": [
       "array([  1.00000000e-05,   1.03125000e-05,   1.06250000e-05, ...,\n",
       "         2.95000000e+07,   2.97500000e+07,   3.00000000e+07])"
      ]
     },
     "execution_count": 25,
     "metadata": {},
     "output_type": "execute_result"
    }
   ],
   "source": [
    "u238_ace.energy['294K']"
   ]
  },
  {
   "cell_type": "code",
   "execution_count": 27,
   "metadata": {},
   "outputs": [
    {
     "data": {
      "text/plain": [
       "array([  1.00000000e-05,   1.03125000e-05,   1.06250000e-05,\n",
       "         1.09375000e-05,   1.12500000e-05,   1.15625000e-05,\n",
       "         1.18750000e-05,   1.21875000e-05,   1.25000000e-05,\n",
       "         1.28125000e-05,   1.31250000e-05,   1.34375000e-05,\n",
       "         1.37500000e-05,   1.43750000e-05,   1.50000000e-05,\n",
       "         1.56250000e-05,   1.62500000e-05,   1.68750000e-05,\n",
       "         1.75000000e-05,   1.81250000e-05,   1.87500000e-05,\n",
       "         1.93750000e-05,   2.00000000e-05,   2.09375000e-05,\n",
       "         2.18750000e-05,   2.28125000e-05,   2.37500000e-05,\n",
       "         2.46875000e-05,   2.56250000e-05,   2.65625000e-05,\n",
       "         2.75000000e-05,   2.84375000e-05,   2.93750000e-05,\n",
       "         3.03125000e-05,   3.12500000e-05,   3.21875000e-05,\n",
       "         3.31250000e-05,   3.40625000e-05,   3.50000000e-05,\n",
       "         3.59375000e-05,   3.68750000e-05,   3.78125000e-05,\n",
       "         3.87500000e-05,   3.96875000e-05,   4.06250000e-05,\n",
       "         4.25000000e-05,   4.43750000e-05,   4.62500000e-05,\n",
       "         4.81250000e-05,   5.00000000e-05])"
      ]
     },
     "execution_count": 27,
     "metadata": {},
     "output_type": "execute_result"
    }
   ],
   "source": [
    "u238_ace.energy['294K'][:50]"
   ]
  },
  {
   "cell_type": "code",
   "execution_count": 32,
   "metadata": {},
   "outputs": [
    {
     "data": {
      "text/plain": [
       "'U238'"
      ]
     },
     "execution_count": 32,
     "metadata": {},
     "output_type": "execute_result"
    }
   ],
   "source": [
    "u238_ace.name"
   ]
  },
  {
   "cell_type": "code",
   "execution_count": 33,
   "metadata": {},
   "outputs": [
    {
     "data": {
      "text/plain": [
       "['294K']"
      ]
     },
     "execution_count": 33,
     "metadata": {},
     "output_type": "execute_result"
    }
   ],
   "source": [
    "u238_ace.temperatures"
   ]
  },
  {
   "cell_type": "code",
   "execution_count": null,
   "metadata": {
    "collapsed": true
   },
   "outputs": [],
   "source": []
  },
  {
   "cell_type": "code",
   "execution_count": null,
   "metadata": {
    "collapsed": true
   },
   "outputs": [],
   "source": []
  },
  {
   "cell_type": "code",
   "execution_count": null,
   "metadata": {
    "collapsed": true
   },
   "outputs": [],
   "source": []
  },
  {
   "cell_type": "code",
   "execution_count": 5,
   "metadata": {},
   "outputs": [
    {
     "name": "stdout",
     "output_type": "stream",
     "text": [
      "\n",
      " njoy 2016.20  30Jul17                                       11/22/17 08:47:26\n",
      " *****************************************************************************\n",
      "\n",
      " reconr...                                                                0.0s\n",
      "\n",
      " broadr...                                                                0.0s\n",
      "      300.0 deg                                                           0.0s\n",
      "      400.0 deg                                                           0.2s\n",
      "      500.0 deg                                                           0.3s\n",
      "\n",
      " heatr...                                                                 0.4s\n",
      "\n",
      " purr...                                                                  0.6s\n",
      "\n",
      " mat =  128                                                               0.6s\n",
      "\n",
      " ---message from purr---mat  128 has no resonance parameters\n",
      "                          copy as is to nout\n",
      "\n",
      " acer...                                                                  0.6s\n",
      "\n",
      " acer...                                                                  0.8s\n",
      "\n",
      " acer...                                                                  0.9s\n",
      "                                                                          1.0s\n",
      " *****************************************************************************\n"
     ]
    }
   ],
   "source": [
    "# Download ENDF file\n",
    "url = 'https://t2.lanl.gov/nis/data/data/ENDFB-VII.1-neutron/H/2'\n",
    "filename, headers = urllib.request.urlretrieve(url, 'h2.endf')\n",
    "\n",
    "# Run NJOY to create deuterium data\n",
    "h2 = openmc.data.IncidentNeutron.from_njoy('h2.endf', temperatures=[300., 400., 500.], stdout=True, njoy_exec='/Users/y9z/Documents/Softwares/NJOY2016/bin/njoy')"
   ]
  },
  {
   "cell_type": "code",
   "execution_count": 12,
   "metadata": {},
   "outputs": [
    {
     "data": {
      "text/plain": [
       "3.3994348599999999"
      ]
     },
     "execution_count": 12,
     "metadata": {},
     "output_type": "execute_result"
    }
   ],
   "source": [
    "h2[1].xs['300K'](5)"
   ]
  },
  {
   "cell_type": "code",
   "execution_count": 13,
   "metadata": {},
   "outputs": [
    {
     "data": {
      "text/plain": [
       "3.4009008600000001"
      ]
     },
     "execution_count": 13,
     "metadata": {},
     "output_type": "execute_result"
    }
   ],
   "source": [
    "h2[1].xs['400K'](5)"
   ]
  },
  {
   "cell_type": "code",
   "execution_count": 14,
   "metadata": {},
   "outputs": [
    {
     "data": {
      "text/plain": [
       "3.4023658600000002"
      ]
     },
     "execution_count": 14,
     "metadata": {},
     "output_type": "execute_result"
    }
   ],
   "source": [
    "h2[1].xs['500K'](5)"
   ]
  },
  {
   "cell_type": "code",
   "execution_count": null,
   "metadata": {
    "collapsed": true
   },
   "outputs": [],
   "source": []
  },
  {
   "cell_type": "code",
   "execution_count": 4,
   "metadata": {},
   "outputs": [
    {
     "data": {
      "text/plain": [
       "{'0K': <openmc.data.function.Tabulated1D at 0x10fa34780>}"
      ]
     },
     "execution_count": 4,
     "metadata": {},
     "output_type": "execute_result"
    }
   ],
   "source": [
    "u238_endf[1].xs"
   ]
  },
  {
   "cell_type": "code",
   "execution_count": 5,
   "metadata": {},
   "outputs": [
    {
     "data": {
      "text/plain": [
       "8.9500782910581798"
      ]
     },
     "execution_count": 5,
     "metadata": {},
     "output_type": "execute_result"
    }
   ],
   "source": [
    "u238_endf[2].xs['0K'](2)"
   ]
  },
  {
   "cell_type": "code",
   "execution_count": 16,
   "metadata": {
    "collapsed": true
   },
   "outputs": [],
   "source": [
    "elastic = u238_endf[2]"
   ]
  },
  {
   "cell_type": "code",
   "execution_count": 12,
   "metadata": {},
   "outputs": [
    {
     "data": {
      "text/plain": [
       "[<openmc.data.resonance.ReichMoore at 0x118492ef0>,\n",
       " <openmc.data.resonance.Unresolved at 0x10a64c908>]"
      ]
     },
     "execution_count": 12,
     "metadata": {},
     "output_type": "execute_result"
    }
   ],
   "source": [
    "u238_endf.resonances.ranges"
   ]
  },
  {
   "cell_type": "code",
   "execution_count": 14,
   "metadata": {},
   "outputs": [
    {
     "data": {
      "text/plain": [
       "[(1e-05, 20000.0), (20000.0, 149028.8)]"
      ]
     },
     "execution_count": 14,
     "metadata": {},
     "output_type": "execute_result"
    }
   ],
   "source": [
    "[(r.energy_min, r.energy_max) for r in u238_endf.resonances.ranges]"
   ]
  },
  {
   "cell_type": "code",
   "execution_count": 19,
   "metadata": {},
   "outputs": [
    {
     "data": {
      "text/plain": [
       "Text(0,0.5,'Cross section (b)')"
      ]
     },
     "execution_count": 19,
     "metadata": {},
     "output_type": "execute_result"
    },
    {
     "data": {
      "image/png": "[encoded data removed]",
      "text/plain": [
       "<matplotlib.figure.Figure at 0x11ab1bcf8>"
      ]
     },
     "metadata": {},
     "output_type": "display_data"
    }
   ],
   "source": [
    "# Create log-spaced array of energies\n",
    "resolved = u238_endf.resonances.resolved\n",
    "energies = np.logspace(np.log10(resolved.energy_min),\n",
    "                       np.log10(resolved.energy_max), 1000)\n",
    "\n",
    "# Evaluate elastic scattering xs at energies\n",
    "xs = elastic.xs['0K'](energies)\n",
    "\n",
    "# Plot cross section vs energies\n",
    "plt.loglog(energies, xs)\n",
    "plt.xlabel('Energy (eV)')\n",
    "plt.ylabel('Cross section (b)')"
   ]
  },
  {
   "cell_type": "code",
   "execution_count": 23,
   "metadata": {},
   "outputs": [
    {
     "data": {
      "text/html": [
       "<div>\n",
       "<style>\n",
       "    .dataframe thead tr:only-child th {\n",
       "        text-align: right;\n",
       "    }\n",
       "\n",
       "    .dataframe thead th {\n",
       "        text-align: left;\n",
       "    }\n",
       "\n",
       "    .dataframe tbody tr th {\n",
       "        vertical-align: top;\n",
       "    }\n",
       "</style>\n",
       "<table border=\"1\" class=\"dataframe\">\n",
       "  <thead>\n",
       "    <tr style=\"text-align: right;\">\n",
       "      <th></th>\n",
       "      <th>energy</th>\n",
       "      <th>L</th>\n",
       "      <th>J</th>\n",
       "      <th>neutronWidth</th>\n",
       "      <th>captureWidth</th>\n",
       "      <th>fissionWidthA</th>\n",
       "      <th>fissionWidthB</th>\n",
       "    </tr>\n",
       "  </thead>\n",
       "  <tbody>\n",
       "    <tr>\n",
       "      <th>0</th>\n",
       "      <td>-4405.25</td>\n",
       "      <td>0</td>\n",
       "      <td>0.5</td>\n",
       "      <td>139.350000</td>\n",
       "      <td>0.023</td>\n",
       "      <td>0.0</td>\n",
       "      <td>0.0</td>\n",
       "    </tr>\n",
       "    <tr>\n",
       "      <th>1</th>\n",
       "      <td>-413.30</td>\n",
       "      <td>0</td>\n",
       "      <td>0.5</td>\n",
       "      <td>0.052154</td>\n",
       "      <td>0.023</td>\n",
       "      <td>0.0</td>\n",
       "      <td>0.0</td>\n",
       "    </tr>\n",
       "    <tr>\n",
       "      <th>2</th>\n",
       "      <td>-393.30</td>\n",
       "      <td>0</td>\n",
       "      <td>0.5</td>\n",
       "      <td>0.049939</td>\n",
       "      <td>0.023</td>\n",
       "      <td>0.0</td>\n",
       "      <td>0.0</td>\n",
       "    </tr>\n",
       "    <tr>\n",
       "      <th>3</th>\n",
       "      <td>-373.30</td>\n",
       "      <td>0</td>\n",
       "      <td>0.5</td>\n",
       "      <td>0.047647</td>\n",
       "      <td>0.023</td>\n",
       "      <td>0.0</td>\n",
       "      <td>0.0</td>\n",
       "    </tr>\n",
       "    <tr>\n",
       "      <th>4</th>\n",
       "      <td>-353.30</td>\n",
       "      <td>0</td>\n",
       "      <td>0.5</td>\n",
       "      <td>0.045274</td>\n",
       "      <td>0.023</td>\n",
       "      <td>0.0</td>\n",
       "      <td>0.0</td>\n",
       "    </tr>\n",
       "    <tr>\n",
       "      <th>5</th>\n",
       "      <td>-333.30</td>\n",
       "      <td>0</td>\n",
       "      <td>0.5</td>\n",
       "      <td>0.042811</td>\n",
       "      <td>0.023</td>\n",
       "      <td>0.0</td>\n",
       "      <td>0.0</td>\n",
       "    </tr>\n",
       "    <tr>\n",
       "      <th>6</th>\n",
       "      <td>-313.30</td>\n",
       "      <td>0</td>\n",
       "      <td>0.5</td>\n",
       "      <td>0.040253</td>\n",
       "      <td>0.023</td>\n",
       "      <td>0.0</td>\n",
       "      <td>0.0</td>\n",
       "    </tr>\n",
       "    <tr>\n",
       "      <th>7</th>\n",
       "      <td>-293.30</td>\n",
       "      <td>0</td>\n",
       "      <td>0.5</td>\n",
       "      <td>0.037593</td>\n",
       "      <td>0.023</td>\n",
       "      <td>0.0</td>\n",
       "      <td>0.0</td>\n",
       "    </tr>\n",
       "    <tr>\n",
       "      <th>8</th>\n",
       "      <td>-273.30</td>\n",
       "      <td>0</td>\n",
       "      <td>0.5</td>\n",
       "      <td>0.025514</td>\n",
       "      <td>0.023</td>\n",
       "      <td>0.0</td>\n",
       "      <td>0.0</td>\n",
       "    </tr>\n",
       "    <tr>\n",
       "      <th>9</th>\n",
       "      <td>-253.30</td>\n",
       "      <td>0</td>\n",
       "      <td>0.5</td>\n",
       "      <td>0.023972</td>\n",
       "      <td>0.023</td>\n",
       "      <td>0.0</td>\n",
       "      <td>0.0</td>\n",
       "    </tr>\n",
       "  </tbody>\n",
       "</table>\n",
       "</div>"
      ],
      "text/plain": [
       "    energy  L    J  neutronWidth  captureWidth  fissionWidthA  fissionWidthB\n",
       "0 -4405.25  0  0.5    139.350000         0.023            0.0            0.0\n",
       "1  -413.30  0  0.5      0.052154         0.023            0.0            0.0\n",
       "2  -393.30  0  0.5      0.049939         0.023            0.0            0.0\n",
       "3  -373.30  0  0.5      0.047647         0.023            0.0            0.0\n",
       "4  -353.30  0  0.5      0.045274         0.023            0.0            0.0\n",
       "5  -333.30  0  0.5      0.042811         0.023            0.0            0.0\n",
       "6  -313.30  0  0.5      0.040253         0.023            0.0            0.0\n",
       "7  -293.30  0  0.5      0.037593         0.023            0.0            0.0\n",
       "8  -273.30  0  0.5      0.025514         0.023            0.0            0.0\n",
       "9  -253.30  0  0.5      0.023972         0.023            0.0            0.0"
      ]
     },
     "execution_count": 23,
     "metadata": {},
     "output_type": "execute_result"
    }
   ],
   "source": [
    "resolved.parameters.head(10)"
   ]
  },
  {
   "cell_type": "code",
   "execution_count": null,
   "metadata": {
    "collapsed": true
   },
   "outputs": [],
   "source": []
  },
  {
   "cell_type": "code",
   "execution_count": null,
   "metadata": {
    "collapsed": true
   },
   "outputs": [],
   "source": []
  },
  {
   "cell_type": "code",
   "execution_count": 6,
   "metadata": {},
   "outputs": [
    {
     "name": "stdout",
     "output_type": "stream",
     "text": [
      "\n",
      " njoy 2016.20  30Jul17                                       11/21/17 13:01:07\n",
      " *****************************************************************************\n",
      "\n",
      " reconr...                                                                0.0s\n",
      "\n",
      " broadr...                                                              266.7s\n",
      "\n",
      " heatr...                                                               348.0s\n",
      "\n",
      " ---message from hinit---mt19 has no spectrum\n",
      "                          mt18 spectrum will be used.\n",
      "\n",
      " ---message from nheat---changed q from   1.977860E+08 to   1.810380E+08\n",
      "                          for mt  18\n",
      "\n",
      " purr...                                                                363.5s\n",
      "\n",
      " mat = 9237                                                             363.5s\n",
      "      1 of    18 loops done for all temps & sig0s.                      384.2s\n",
      "      2 of    18 loops done for all temps & sig0s.                      404.0s\n",
      "      3 of    18 loops done for all temps & sig0s.                      424.4s\n",
      "      4 of    18 loops done for all temps & sig0s.                      444.6s\n",
      "      5 of    18 loops done for all temps & sig0s.                      465.0s\n",
      "      6 of    18 loops done for all temps & sig0s.                      485.4s\n",
      "      7 of    18 loops done for all temps & sig0s.                      505.6s\n",
      "      8 of    18 loops done for all temps & sig0s.                      525.4s\n",
      "      9 of    18 loops done for all temps & sig0s.                      546.0s\n",
      "     10 of    18 loops done for all temps & sig0s.                      566.5s\n",
      "     11 of    18 loops done for all temps & sig0s.                      587.6s\n",
      "     12 of    18 loops done for all temps & sig0s.                      608.1s\n",
      "     13 of    18 loops done for all temps & sig0s.                      629.2s\n",
      "     14 of    18 loops done for all temps & sig0s.                      650.4s\n",
      "     15 of    18 loops done for all temps & sig0s.                      671.1s\n",
      "     16 of    18 loops done for all temps & sig0s.                      692.3s\n",
      "     17 of    18 loops done for all temps & sig0s.                      714.1s\n",
      "     18 of    18 loops done for all temps & sig0s.                      736.0s\n",
      "\n",
      " acer...                                                                739.1s\n",
      "\n",
      " ---message from ptleg2---negative probs found\n",
      "                            60 for mt=  2 e= 2.000E+07\n",
      "\n",
      " ---message from ptleg2---negative probs found\n",
      "                           270 for mt=  2 e= 2.200E+07\n",
      "\n",
      " ---message from ptleg2---negative probs found\n",
      "                           428 for mt=  2 e= 2.400E+07\n",
      "\n",
      " ---message from ptleg2---negative probs found\n",
      "                           680 for mt=  2 e= 2.600E+07\n",
      "\n",
      " ---message from ptleg2---negative probs found\n",
      "                           798 for mt=  2 e= 2.800E+07\n",
      "\n",
      " ---message from ptleg2---negative probs found\n",
      "                           893 for mt=  2 e= 3.000E+07\n",
      "\n",
      " ---message from ptleg2---negative probs found\n",
      "                             1 for mt= 51 e= 4.000E+06\n",
      "\n",
      " ---message from ptleg2---negative probs found\n",
      "                            13 for mt= 51 e= 2.600E+07\n",
      "\n",
      " ---message from ptleg2---negative probs found\n",
      "                           161 for mt= 51 e= 2.800E+07\n",
      "\n",
      " ---message from ptleg2---negative probs found\n",
      "                           197 for mt= 51 e= 3.000E+07\n",
      "\n",
      " ---message from ptleg2---negative probs found\n",
      "                             3 for mt= 52 e= 3.000E+07\n",
      "\n",
      " ---message from ptleg2---negative probs found\n",
      "                             1 for mt= 72 e= 2.600E+07\n",
      "\n",
      " ---message from ptleg2---negative probs found\n",
      "                             2 for mt= 72 e= 2.800E+07\n",
      "\n",
      " ---message from ptleg2---negative probs found\n",
      "                             2 for mt= 72 e= 3.000E+07\n",
      "\n",
      " ---message from ptleg2---negative probs found\n",
      "                            30 for mt= 73 e= 3.000E+07\n",
      "\n",
      " ---message from ptleg2---negative probs found\n",
      "                             1 for mt= 74 e= 2.600E+07\n",
      "\n",
      " ---message from ptleg2---negative probs found\n",
      "                             2 for mt= 74 e= 2.800E+07\n",
      "\n",
      " ---message from ptleg2---negative probs found\n",
      "                             2 for mt= 74 e= 3.000E+07\n",
      "\n",
      " ---message from ptleg2---negative probs found\n",
      "                             1 for mt= 75 e= 2.600E+07\n",
      "\n",
      " ---message from ptleg2---negative probs found\n",
      "                             2 for mt= 75 e= 2.800E+07\n",
      "\n",
      " ---message from ptleg2---negative probs found\n",
      "                             2 for mt= 75 e= 3.000E+07\n",
      "\n",
      " ---message from ptleg2---negative probs found\n",
      "                             1 for mt= 76 e= 2.600E+07\n",
      "\n",
      " ---message from ptleg2---negative probs found\n",
      "                             2 for mt= 76 e= 2.800E+07\n",
      "\n",
      " ---message from ptleg2---negative probs found\n",
      "                             2 for mt= 76 e= 3.000E+07\n",
      "\n",
      " ---message from ptleg2---negative probs found\n",
      "                             1 for mt= 77 e= 2.600E+07\n",
      "\n",
      " ---message from ptleg2---negative probs found\n",
      "                             2 for mt= 77 e= 2.800E+07\n",
      "\n",
      " ---message from ptleg2---negative probs found\n",
      "                             2 for mt= 77 e= 3.000E+07\n",
      "\n",
      " ---message from ptleg2---negative probs found\n",
      "                             1 for mt= 78 e= 2.600E+07\n",
      "\n",
      " ---message from ptleg2---negative probs found\n",
      "                             1 for mt= 78 e= 2.800E+07\n",
      "\n",
      " ---message from ptleg2---negative probs found\n",
      "                             2 for mt= 78 e= 3.000E+07\n",
      "\n",
      " ---message from ptleg2---negative probs found\n",
      "                             1 for mt= 79 e= 2.600E+07\n",
      "\n",
      " ---message from ptleg2---negative probs found\n",
      "                             1 for mt= 79 e= 2.800E+07\n",
      "\n",
      " ---message from ptleg2---negative probs found\n",
      "                             2 for mt= 79 e= 3.000E+07\n",
      "\n",
      " ---message from ptleg2---negative probs found\n",
      "                             1 for mt= 80 e= 2.600E+07\n",
      "\n",
      " ---message from ptleg2---negative probs found\n",
      "                             1 for mt= 80 e= 2.800E+07\n",
      "\n",
      " ---message from ptleg2---negative probs found\n",
      "                             2 for mt= 80 e= 3.000E+07\n",
      "\n",
      " ---message from ptleg2---negative probs found\n",
      "                            28 for mt= 82 e= 3.000E+07\n",
      "\n",
      " ---message from ptleg2---negative probs found\n",
      "                            26 for mt= 83 e= 3.000E+07\n",
      "\n",
      " ---message from ptleg2---negative probs found\n",
      "                            24 for mt= 84 e= 3.000E+07\n",
      "\n",
      " ---message from ptleg2---negative probs found\n",
      "                            22 for mt= 85 e= 3.000E+07\n",
      "\n",
      " ---message from ptleg2---negative probs found\n",
      "                            22 for mt= 86 e= 3.000E+07\n",
      "\n",
      " ---message from ptleg2---negative probs found\n",
      "                            20 for mt= 87 e= 3.000E+07\n",
      "\n",
      " ---message from ptleg2---negative probs found\n",
      "                            19 for mt= 88 e= 3.000E+07\n",
      "\n",
      " ---message from ptleg2---negative probs found\n",
      "                            18 for mt= 89 e= 3.000E+07\n",
      "\n",
      " ---message from ptleg2---negative probs found\n",
      "                            17 for mt= 90 e= 3.000E+07\n",
      "                                                                        765.9s\n",
      " *****************************************************************************\n"
     ]
    }
   ],
   "source": [
    "u238_2 = openmc.data.IncidentNeutron.from_njoy('u238.endf', temperatures=[300], njoy_exec='/Users/y9z/Documents/Softwares/NJOY2016/bin/njoy', stdout=True)"
   ]
  },
  {
   "cell_type": "code",
   "execution_count": 7,
   "metadata": {},
   "outputs": [
    {
     "data": {
      "text/plain": [
       "{'300K': <openmc.data.function.Tabulated1D at 0x11db43a90>}"
      ]
     },
     "execution_count": 7,
     "metadata": {},
     "output_type": "execute_result"
    }
   ],
   "source": [
    "u238_2[1].xs"
   ]
  },
  {
   "cell_type": "code",
   "execution_count": 8,
   "metadata": {},
   "outputs": [
    {
     "data": {
      "text/plain": [
       "91.974789643488009"
      ]
     },
     "execution_count": 8,
     "metadata": {},
     "output_type": "execute_result"
    }
   ],
   "source": [
    "u238_2[1].xs['300K'](3.52847e-05)"
   ]
  },
  {
   "cell_type": "code",
   "execution_count": null,
   "metadata": {
    "collapsed": true
   },
   "outputs": [],
   "source": []
  },
  {
   "cell_type": "code",
   "execution_count": null,
   "metadata": {
    "collapsed": true
   },
   "outputs": [],
   "source": []
  },
  {
   "cell_type": "code",
   "execution_count": null,
   "metadata": {
    "collapsed": true
   },
   "outputs": [],
   "source": []
  },
  {
   "cell_type": "code",
   "execution_count": 32,
   "metadata": {},
   "outputs": [
    {
     "data": {
      "text/plain": [
       "OrderedDict()"
      ]
     },
     "execution_count": 32,
     "metadata": {},
     "output_type": "execute_result"
    }
   ],
   "source": [
    "u238_endf.summed_reactions"
   ]
  },
  {
   "cell_type": "code",
   "execution_count": 30,
   "metadata": {},
   "outputs": [
    {
     "data": {
      "text/plain": [
       "[<Reaction: MT=1 (n,total)>,\n",
       " <Reaction: MT=2 (n,elastic)>,\n",
       " <Reaction: MT=3>,\n",
       " <Reaction: MT=4 (n,level)>,\n",
       " <Reaction: MT=16 (n,2n)>,\n",
       " <Reaction: MT=17 (n,3n)>,\n",
       " <Reaction: MT=18 (n,fission)>,\n",
       " <Reaction: MT=19 (n,f)>,\n",
       " <Reaction: MT=20 (n,nf)>,\n",
       " <Reaction: MT=21 (n,2nf)>,\n",
       " <Reaction: MT=37 (n,4n)>,\n",
       " <Reaction: MT=38 (n,3nf)>,\n",
       " <Reaction: MT=51 (n,n1)>,\n",
       " <Reaction: MT=52 (n,n2)>,\n",
       " <Reaction: MT=53 (n,n3)>,\n",
       " <Reaction: MT=54 (n,n4)>,\n",
       " <Reaction: MT=55 (n,n5)>,\n",
       " <Reaction: MT=56 (n,n6)>,\n",
       " <Reaction: MT=57 (n,n7)>,\n",
       " <Reaction: MT=58 (n,n8)>,\n",
       " <Reaction: MT=59 (n,n9)>,\n",
       " <Reaction: MT=60 (n,n10)>,\n",
       " <Reaction: MT=61 (n,n11)>,\n",
       " <Reaction: MT=62 (n,n12)>,\n",
       " <Reaction: MT=63 (n,n13)>,\n",
       " <Reaction: MT=64 (n,n14)>,\n",
       " <Reaction: MT=65 (n,n15)>,\n",
       " <Reaction: MT=66 (n,n16)>,\n",
       " <Reaction: MT=67 (n,n17)>,\n",
       " <Reaction: MT=68 (n,n18)>,\n",
       " <Reaction: MT=69 (n,n19)>,\n",
       " <Reaction: MT=70 (n,n20)>,\n",
       " <Reaction: MT=71 (n,n21)>,\n",
       " <Reaction: MT=72 (n,n22)>,\n",
       " <Reaction: MT=73 (n,n23)>,\n",
       " <Reaction: MT=74 (n,n24)>,\n",
       " <Reaction: MT=75 (n,n25)>,\n",
       " <Reaction: MT=76 (n,n26)>,\n",
       " <Reaction: MT=77 (n,n27)>,\n",
       " <Reaction: MT=78 (n,n28)>,\n",
       " <Reaction: MT=79 (n,n29)>,\n",
       " <Reaction: MT=80 (n,n30)>,\n",
       " <Reaction: MT=81 (n,n31)>,\n",
       " <Reaction: MT=82 (n,n32)>,\n",
       " <Reaction: MT=83 (n,n33)>,\n",
       " <Reaction: MT=84 (n,n34)>,\n",
       " <Reaction: MT=85 (n,n35)>,\n",
       " <Reaction: MT=86 (n,n36)>,\n",
       " <Reaction: MT=87 (n,n37)>,\n",
       " <Reaction: MT=88 (n,n38)>,\n",
       " <Reaction: MT=89 (n,n39)>,\n",
       " <Reaction: MT=90 (n,n40)>,\n",
       " <Reaction: MT=91 (n,nc)>,\n",
       " <Reaction: MT=102 (n,gamma)>]"
      ]
     },
     "execution_count": 30,
     "metadata": {},
     "output_type": "execute_result"
    }
   ],
   "source": [
    "list(u238_endf.reactions.values())"
   ]
  },
  {
   "cell_type": "code",
   "execution_count": 23,
   "metadata": {},
   "outputs": [
    {
     "data": {
      "text/plain": [
       "0.0"
      ]
     },
     "execution_count": 23,
     "metadata": {},
     "output_type": "execute_result"
    }
   ],
   "source": [
    "u238_endf[1].xs['0K'](700.0)"
   ]
  },
  {
   "cell_type": "code",
   "execution_count": 24,
   "metadata": {},
   "outputs": [
    {
     "data": {
      "text/plain": [
       "12.424712562613369"
      ]
     },
     "execution_count": 24,
     "metadata": {},
     "output_type": "execute_result"
    }
   ],
   "source": [
    "u238_endf[2].xs['0K'](700.0)"
   ]
  },
  {
   "cell_type": "code",
   "execution_count": 107,
   "metadata": {},
   "outputs": [
    {
     "ename": "AttributeError",
     "evalue": "'Reaction' object has no attribute 'energy'",
     "output_type": "error",
     "traceback": [
      "\u001b[0;31m---------------------------------------------------------------------------\u001b[0m",
      "\u001b[0;31mAttributeError\u001b[0m                            Traceback (most recent call last)",
      "\u001b[0;32m<ipython-input-107-653f79455cae>\u001b[0m in \u001b[0;36m<module>\u001b[0;34m()\u001b[0m\n\u001b[0;32m----> 1\u001b[0;31m \u001b[0mgd157_endf\u001b[0m\u001b[0;34m[\u001b[0m\u001b[0;36m2\u001b[0m\u001b[0;34m]\u001b[0m\u001b[0;34m.\u001b[0m\u001b[0menergy\u001b[0m\u001b[0;34m\u001b[0m\u001b[0m\n\u001b[0m",
      "\u001b[0;31mAttributeError\u001b[0m: 'Reaction' object has no attribute 'energy'"
     ]
    }
   ],
   "source": [
    "gd157_endf[2].energy"
   ]
  },
  {
   "cell_type": "code",
   "execution_count": 70,
   "metadata": {},
   "outputs": [
    {
     "ename": "FileNotFoundError",
     "evalue": "[Errno 2] No such file or directory: 'njoy'",
     "output_type": "error",
     "traceback": [
      "\u001b[0;31m---------------------------------------------------------------------------\u001b[0m",
      "\u001b[0;31mFileNotFoundError\u001b[0m                         Traceback (most recent call last)",
      "\u001b[0;32m<ipython-input-70-f50d5df3c4e2>\u001b[0m in \u001b[0;36m<module>\u001b[0;34m()\u001b[0m\n\u001b[0;32m----> 1\u001b[0;31m \u001b[0mh2\u001b[0m \u001b[0;34m=\u001b[0m \u001b[0mopenmc\u001b[0m\u001b[0;34m.\u001b[0m\u001b[0mdata\u001b[0m\u001b[0;34m.\u001b[0m\u001b[0mIncidentNeutron\u001b[0m\u001b[0;34m.\u001b[0m\u001b[0mfrom_njoy\u001b[0m\u001b[0;34m(\u001b[0m\u001b[0;34m'gd157.endf'\u001b[0m\u001b[0;34m,\u001b[0m \u001b[0mtemperatures\u001b[0m\u001b[0;34m=\u001b[0m\u001b[0;34m[\u001b[0m\u001b[0;36m300.\u001b[0m\u001b[0;34m,\u001b[0m \u001b[0;36m400.\u001b[0m\u001b[0;34m,\u001b[0m \u001b[0;36m500.\u001b[0m\u001b[0;34m]\u001b[0m\u001b[0;34m,\u001b[0m \u001b[0mstdout\u001b[0m\u001b[0;34m=\u001b[0m\u001b[0;32mTrue\u001b[0m\u001b[0;34m)\u001b[0m\u001b[0;34m\u001b[0m\u001b[0m\n\u001b[0m",
      "\u001b[0;32m~/anaconda/envs/py36/lib/python3.6/site-packages/openmc/data/neutron.py\u001b[0m in \u001b[0;36mfrom_njoy\u001b[0;34m(cls, filename, temperatures, **kwargs)\u001b[0m\n\u001b[1;32m    853\u001b[0m             \u001b[0mpendf_file\u001b[0m \u001b[0;34m=\u001b[0m \u001b[0mos\u001b[0m\u001b[0;34m.\u001b[0m\u001b[0mpath\u001b[0m\u001b[0;34m.\u001b[0m\u001b[0mjoin\u001b[0m\u001b[0;34m(\u001b[0m\u001b[0mtmpdir\u001b[0m\u001b[0;34m,\u001b[0m \u001b[0;34m'pendf'\u001b[0m\u001b[0;34m)\u001b[0m\u001b[0;34m\u001b[0m\u001b[0m\n\u001b[1;32m    854\u001b[0m             make_ace(filename, temperatures, ace_file, xsdir_file,\n\u001b[0;32m--> 855\u001b[0;31m                      pendf_file, **kwargs)\n\u001b[0m\u001b[1;32m    856\u001b[0m \u001b[0;34m\u001b[0m\u001b[0m\n\u001b[1;32m    857\u001b[0m             \u001b[0;31m# Create instance from ACE tables within library\u001b[0m\u001b[0;34m\u001b[0m\u001b[0;34m\u001b[0m\u001b[0m\n",
      "\u001b[0;32m~/anaconda/envs/py36/lib/python3.6/site-packages/openmc/data/njoy.py\u001b[0m in \u001b[0;36mmake_ace\u001b[0;34m(filename, temperatures, ace, xsdir, pendf, **kwargs)\u001b[0m\n\u001b[1;32m    282\u001b[0m         \u001b[0mtapeout\u001b[0m\u001b[0;34m[\u001b[0m\u001b[0mndir\u001b[0m\u001b[0;34m]\u001b[0m \u001b[0;34m=\u001b[0m \u001b[0mfname\u001b[0m\u001b[0;34m.\u001b[0m\u001b[0mformat\u001b[0m\u001b[0;34m(\u001b[0m\u001b[0mxsdir\u001b[0m\u001b[0;34m,\u001b[0m \u001b[0mtemperature\u001b[0m\u001b[0;34m)\u001b[0m\u001b[0;34m\u001b[0m\u001b[0m\n\u001b[1;32m    283\u001b[0m     \u001b[0mcommands\u001b[0m \u001b[0;34m+=\u001b[0m \u001b[0;34m'stop\\n'\u001b[0m\u001b[0;34m\u001b[0m\u001b[0m\n\u001b[0;32m--> 284\u001b[0;31m     \u001b[0mretcode\u001b[0m \u001b[0;34m=\u001b[0m \u001b[0mrun\u001b[0m\u001b[0;34m(\u001b[0m\u001b[0mcommands\u001b[0m\u001b[0;34m,\u001b[0m \u001b[0mtapein\u001b[0m\u001b[0;34m,\u001b[0m \u001b[0mtapeout\u001b[0m\u001b[0;34m,\u001b[0m \u001b[0;34m**\u001b[0m\u001b[0mkwargs\u001b[0m\u001b[0;34m)\u001b[0m\u001b[0;34m\u001b[0m\u001b[0m\n\u001b[0m\u001b[1;32m    285\u001b[0m \u001b[0;34m\u001b[0m\u001b[0m\n\u001b[1;32m    286\u001b[0m     \u001b[0;32mif\u001b[0m \u001b[0mretcode\u001b[0m \u001b[0;34m==\u001b[0m \u001b[0;36m0\u001b[0m\u001b[0;34m:\u001b[0m\u001b[0;34m\u001b[0m\u001b[0m\n",
      "\u001b[0;32m~/anaconda/envs/py36/lib/python3.6/site-packages/openmc/data/njoy.py\u001b[0m in \u001b[0;36mrun\u001b[0;34m(commands, tapein, tapeout, stdout, njoy_exec)\u001b[0m\n\u001b[1;32m    171\u001b[0m         \u001b[0;31m# Start up NJOY process\u001b[0m\u001b[0;34m\u001b[0m\u001b[0;34m\u001b[0m\u001b[0m\n\u001b[1;32m    172\u001b[0m         njoy = Popen([njoy_exec], cwd=tmpdir, stdin=PIPE, stdout=PIPE,\n\u001b[0;32m--> 173\u001b[0;31m                      stderr=STDOUT, universal_newlines=True)\n\u001b[0m\u001b[1;32m    174\u001b[0m \u001b[0;34m\u001b[0m\u001b[0m\n\u001b[1;32m    175\u001b[0m         \u001b[0mnjoy\u001b[0m\u001b[0;34m.\u001b[0m\u001b[0mstdin\u001b[0m\u001b[0;34m.\u001b[0m\u001b[0mwrite\u001b[0m\u001b[0;34m(\u001b[0m\u001b[0mcommands\u001b[0m\u001b[0;34m)\u001b[0m\u001b[0;34m\u001b[0m\u001b[0m\n",
      "\u001b[0;32m~/anaconda/envs/py36/lib/python3.6/subprocess.py\u001b[0m in \u001b[0;36m__init__\u001b[0;34m(self, args, bufsize, executable, stdin, stdout, stderr, preexec_fn, close_fds, shell, cwd, env, universal_newlines, startupinfo, creationflags, restore_signals, start_new_session, pass_fds, encoding, errors)\u001b[0m\n\u001b[1;32m    705\u001b[0m                                 \u001b[0mc2pread\u001b[0m\u001b[0;34m,\u001b[0m \u001b[0mc2pwrite\u001b[0m\u001b[0;34m,\u001b[0m\u001b[0;34m\u001b[0m\u001b[0m\n\u001b[1;32m    706\u001b[0m                                 \u001b[0merrread\u001b[0m\u001b[0;34m,\u001b[0m \u001b[0merrwrite\u001b[0m\u001b[0;34m,\u001b[0m\u001b[0;34m\u001b[0m\u001b[0m\n\u001b[0;32m--> 707\u001b[0;31m                                 restore_signals, start_new_session)\n\u001b[0m\u001b[1;32m    708\u001b[0m         \u001b[0;32mexcept\u001b[0m\u001b[0;34m:\u001b[0m\u001b[0;34m\u001b[0m\u001b[0m\n\u001b[1;32m    709\u001b[0m             \u001b[0;31m# Cleanup if the child failed starting.\u001b[0m\u001b[0;34m\u001b[0m\u001b[0;34m\u001b[0m\u001b[0m\n",
      "\u001b[0;32m~/anaconda/envs/py36/lib/python3.6/subprocess.py\u001b[0m in \u001b[0;36m_execute_child\u001b[0;34m(self, args, executable, preexec_fn, close_fds, pass_fds, cwd, env, startupinfo, creationflags, shell, p2cread, p2cwrite, c2pread, c2pwrite, errread, errwrite, restore_signals, start_new_session)\u001b[0m\n\u001b[1;32m   1324\u001b[0m                             \u001b[0;32melse\u001b[0m\u001b[0;34m:\u001b[0m\u001b[0;34m\u001b[0m\u001b[0m\n\u001b[1;32m   1325\u001b[0m                                 \u001b[0merr_msg\u001b[0m \u001b[0;34m+=\u001b[0m \u001b[0;34m': '\u001b[0m \u001b[0;34m+\u001b[0m \u001b[0mrepr\u001b[0m\u001b[0;34m(\u001b[0m\u001b[0morig_executable\u001b[0m\u001b[0;34m)\u001b[0m\u001b[0;34m\u001b[0m\u001b[0m\n\u001b[0;32m-> 1326\u001b[0;31m                     \u001b[0;32mraise\u001b[0m \u001b[0mchild_exception_type\u001b[0m\u001b[0;34m(\u001b[0m\u001b[0merrno_num\u001b[0m\u001b[0;34m,\u001b[0m \u001b[0merr_msg\u001b[0m\u001b[0;34m)\u001b[0m\u001b[0;34m\u001b[0m\u001b[0m\n\u001b[0m\u001b[1;32m   1327\u001b[0m                 \u001b[0;32mraise\u001b[0m \u001b[0mchild_exception_type\u001b[0m\u001b[0;34m(\u001b[0m\u001b[0merr_msg\u001b[0m\u001b[0;34m)\u001b[0m\u001b[0;34m\u001b[0m\u001b[0m\n\u001b[1;32m   1328\u001b[0m \u001b[0;34m\u001b[0m\u001b[0m\n",
      "\u001b[0;31mFileNotFoundError\u001b[0m: [Errno 2] No such file or directory: 'njoy'"
     ]
    }
   ],
   "source": [
    "h2 = openmc.data.IncidentNeutron.from_njoy('gd157.endf', temperatures=[300., 400., 500.], stdout=True)"
   ]
  },
  {
   "cell_type": "code",
   "execution_count": null,
   "metadata": {
    "collapsed": true
   },
   "outputs": [],
   "source": []
  },
  {
   "cell_type": "code",
   "execution_count": 65,
   "metadata": {},
   "outputs": [
    {
     "data": {
      "text/plain": [
       "OrderedDict([(1, <Reaction: MT=1 (n,total)>),\n",
       "             (2, <Reaction: MT=2 (n,elastic)>),\n",
       "             (4, <Reaction: MT=4 (n,level)>),\n",
       "             (16, <Reaction: MT=16 (n,2n)>),\n",
       "             (17, <Reaction: MT=17 (n,3n)>),\n",
       "             (22, <Reaction: MT=22 (n,na)>),\n",
       "             (24, <Reaction: MT=24 (n,2na)>),\n",
       "             (28, <Reaction: MT=28 (n,np)>),\n",
       "             (41, <Reaction: MT=41 (n,2np)>),\n",
       "             (51, <Reaction: MT=51 (n,n1)>),\n",
       "             (52, <Reaction: MT=52 (n,n2)>),\n",
       "             (53, <Reaction: MT=53 (n,n3)>),\n",
       "             (54, <Reaction: MT=54 (n,n4)>),\n",
       "             (55, <Reaction: MT=55 (n,n5)>),\n",
       "             (56, <Reaction: MT=56 (n,n6)>),\n",
       "             (57, <Reaction: MT=57 (n,n7)>),\n",
       "             (58, <Reaction: MT=58 (n,n8)>),\n",
       "             (59, <Reaction: MT=59 (n,n9)>),\n",
       "             (60, <Reaction: MT=60 (n,n10)>),\n",
       "             (61, <Reaction: MT=61 (n,n11)>),\n",
       "             (62, <Reaction: MT=62 (n,n12)>),\n",
       "             (63, <Reaction: MT=63 (n,n13)>),\n",
       "             (64, <Reaction: MT=64 (n,n14)>),\n",
       "             (65, <Reaction: MT=65 (n,n15)>),\n",
       "             (66, <Reaction: MT=66 (n,n16)>),\n",
       "             (67, <Reaction: MT=67 (n,n17)>),\n",
       "             (68, <Reaction: MT=68 (n,n18)>),\n",
       "             (69, <Reaction: MT=69 (n,n19)>),\n",
       "             (70, <Reaction: MT=70 (n,n20)>),\n",
       "             (71, <Reaction: MT=71 (n,n21)>),\n",
       "             (72, <Reaction: MT=72 (n,n22)>),\n",
       "             (73, <Reaction: MT=73 (n,n23)>),\n",
       "             (74, <Reaction: MT=74 (n,n24)>),\n",
       "             (75, <Reaction: MT=75 (n,n25)>),\n",
       "             (76, <Reaction: MT=76 (n,n26)>),\n",
       "             (77, <Reaction: MT=77 (n,n27)>),\n",
       "             (78, <Reaction: MT=78 (n,n28)>),\n",
       "             (79, <Reaction: MT=79 (n,n29)>),\n",
       "             (80, <Reaction: MT=80 (n,n30)>),\n",
       "             (81, <Reaction: MT=81 (n,n31)>),\n",
       "             (82, <Reaction: MT=82 (n,n32)>),\n",
       "             (83, <Reaction: MT=83 (n,n33)>),\n",
       "             (84, <Reaction: MT=84 (n,n34)>),\n",
       "             (85, <Reaction: MT=85 (n,n35)>),\n",
       "             (86, <Reaction: MT=86 (n,n36)>),\n",
       "             (87, <Reaction: MT=87 (n,n37)>),\n",
       "             (88, <Reaction: MT=88 (n,n38)>),\n",
       "             (89, <Reaction: MT=89 (n,n39)>),\n",
       "             (91, <Reaction: MT=91 (n,nc)>),\n",
       "             (102, <Reaction: MT=102 (n,gamma)>),\n",
       "             (103, <Reaction: MT=103 (n,p)>),\n",
       "             (107, <Reaction: MT=107 (n,a)>),\n",
       "             (600, <Reaction: MT=600 (n,p0)>),\n",
       "             (601, <Reaction: MT=601 (n,p1)>),\n",
       "             (602, <Reaction: MT=602 (n,p2)>),\n",
       "             (603, <Reaction: MT=603 (n,p3)>),\n",
       "             (604, <Reaction: MT=604 (n,p4)>),\n",
       "             (605, <Reaction: MT=605 (n,p5)>),\n",
       "             (606, <Reaction: MT=606 (n,p6)>),\n",
       "             (607, <Reaction: MT=607 (n,p7)>),\n",
       "             (608, <Reaction: MT=608 (n,p8)>),\n",
       "             (609, <Reaction: MT=609 (n,p9)>),\n",
       "             (610, <Reaction: MT=610 (n,p10)>),\n",
       "             (611, <Reaction: MT=611 (n,p11)>),\n",
       "             (612, <Reaction: MT=612 (n,p12)>),\n",
       "             (613, <Reaction: MT=613 (n,p13)>),\n",
       "             (614, <Reaction: MT=614 (n,p14)>),\n",
       "             (615, <Reaction: MT=615 (n,p15)>),\n",
       "             (616, <Reaction: MT=616 (n,p16)>),\n",
       "             (617, <Reaction: MT=617 (n,p17)>),\n",
       "             (618, <Reaction: MT=618 (n,p18)>),\n",
       "             (619, <Reaction: MT=619 (n,p19)>),\n",
       "             (620, <Reaction: MT=620 (n,p20)>),\n",
       "             (621, <Reaction: MT=621 (n,p21)>),\n",
       "             (622, <Reaction: MT=622 (n,p22)>),\n",
       "             (623, <Reaction: MT=623 (n,p23)>),\n",
       "             (624, <Reaction: MT=624 (n,p24)>),\n",
       "             (625, <Reaction: MT=625 (n,p25)>),\n",
       "             (626, <Reaction: MT=626 (n,p26)>),\n",
       "             (627, <Reaction: MT=627 (n,p27)>),\n",
       "             (628, <Reaction: MT=628 (n,p28)>),\n",
       "             (629, <Reaction: MT=629 (n,p29)>),\n",
       "             (630, <Reaction: MT=630 (n,p30)>),\n",
       "             (631, <Reaction: MT=631 (n,p31)>),\n",
       "             (632, <Reaction: MT=632 (n,p32)>),\n",
       "             (633, <Reaction: MT=633 (n,p33)>),\n",
       "             (634, <Reaction: MT=634 (n,p34)>),\n",
       "             (635, <Reaction: MT=635 (n,p35)>),\n",
       "             (649, <Reaction: MT=649 (n,pc)>)])"
      ]
     },
     "execution_count": 65,
     "metadata": {},
     "output_type": "execute_result"
    }
   ],
   "source": [
    "gd157_endf.reactions"
   ]
  },
  {
   "cell_type": "code",
   "execution_count": 48,
   "metadata": {},
   "outputs": [
    {
     "data": {
      "text/plain": [
       "<openmc.data.function.ResonancesWithBackground at 0x11e3df588>"
      ]
     },
     "execution_count": 48,
     "metadata": {},
     "output_type": "execute_result"
    }
   ],
   "source": [
    "elastic = gd157_endf[2]\n",
    "elastic.xs\n",
    "elastic.xs['0K']"
   ]
  },
  {
   "cell_type": "code",
   "execution_count": null,
   "metadata": {
    "collapsed": true
   },
   "outputs": [],
   "source": []
  },
  {
   "cell_type": "code",
   "execution_count": null,
   "metadata": {
    "collapsed": true
   },
   "outputs": [],
   "source": []
  },
  {
   "cell_type": "code",
   "execution_count": null,
   "metadata": {
    "collapsed": true
   },
   "outputs": [],
   "source": []
  },
  {
   "cell_type": "code",
   "execution_count": null,
   "metadata": {
    "collapsed": true
   },
   "outputs": [],
   "source": []
  },
  {
   "cell_type": "code",
   "execution_count": null,
   "metadata": {
    "collapsed": true
   },
   "outputs": [],
   "source": []
  },
  {
   "cell_type": "code",
   "execution_count": null,
   "metadata": {
    "collapsed": true
   },
   "outputs": [],
   "source": []
  },
  {
   "cell_type": "code",
   "execution_count": null,
   "metadata": {
    "collapsed": true
   },
   "outputs": [],
   "source": []
  },
  {
   "cell_type": "code",
   "execution_count": null,
   "metadata": {
    "collapsed": true
   },
   "outputs": [],
   "source": []
  },
  {
   "cell_type": "code",
   "execution_count": null,
   "metadata": {
    "collapsed": true
   },
   "outputs": [],
   "source": []
  },
  {
   "cell_type": "code",
   "execution_count": null,
   "metadata": {
    "collapsed": true
   },
   "outputs": [],
   "source": []
  },
  {
   "cell_type": "code",
   "execution_count": null,
   "metadata": {
    "collapsed": true
   },
   "outputs": [],
   "source": []
  },
  {
   "cell_type": "code",
   "execution_count": null,
   "metadata": {
    "collapsed": true
   },
   "outputs": [],
   "source": []
  },
  {
   "cell_type": "code",
   "execution_count": null,
   "metadata": {
    "collapsed": true
   },
   "outputs": [],
   "source": []
  },
  {
   "cell_type": "code",
   "execution_count": null,
   "metadata": {
    "collapsed": true
   },
   "outputs": [],
   "source": []
  },
  {
   "cell_type": "code",
   "execution_count": null,
   "metadata": {
    "collapsed": true
   },
   "outputs": [],
   "source": [
    "aaa"
   ]
  },
  {
   "cell_type": "code",
   "execution_count": 32,
   "metadata": {},
   "outputs": [
    {
     "data": {
      "text/plain": [
       "18.393302210853296"
      ]
     },
     "execution_count": 32,
     "metadata": {},
     "output_type": "execute_result"
    }
   ],
   "source": [
    "pt.elements.isotope('231-U').density"
   ]
  },
  {
   "cell_type": "code",
   "execution_count": 34,
   "metadata": {},
   "outputs": [
    {
     "data": {
      "text/plain": [
       "231.036289"
      ]
     },
     "execution_count": 34,
     "metadata": {},
     "output_type": "execute_result"
    }
   ],
   "source": [
    "pt.elements.isotope('231-U').mass"
   ]
  },
  {
   "cell_type": "code",
   "execution_count": 35,
   "metadata": {},
   "outputs": [
    {
     "data": {
      "text/plain": [
       "232.0371463"
      ]
     },
     "execution_count": 35,
     "metadata": {},
     "output_type": "execute_result"
    }
   ],
   "source": [
    "pt.elements.isotope('232-U').mass"
   ]
  },
  {
   "cell_type": "code",
   "execution_count": 33,
   "metadata": {},
   "outputs": [
    {
     "data": {
      "text/plain": [
       "18.472982640575044"
      ]
     },
     "execution_count": 33,
     "metadata": {},
     "output_type": "execute_result"
    }
   ],
   "source": [
    "pt.elements.isotope('232-U').density"
   ]
  },
  {
   "cell_type": "code",
   "execution_count": 36,
   "metadata": {},
   "outputs": [
    {
     "data": {
      "text/plain": [
       "18.95"
      ]
     },
     "execution_count": 36,
     "metadata": {},
     "output_type": "execute_result"
    }
   ],
   "source": [
    "pt.elements.U.density"
   ]
  },
  {
   "cell_type": "code",
   "execution_count": 37,
   "metadata": {},
   "outputs": [
    {
     "data": {
      "text/plain": [
       "238.02891"
      ]
     },
     "execution_count": 37,
     "metadata": {},
     "output_type": "execute_result"
    }
   ],
   "source": [
    "pt.elements.U.mass"
   ]
  },
  {
   "cell_type": "code",
   "execution_count": 38,
   "metadata": {},
   "outputs": [
    {
     "data": {
      "text/plain": [
       "12.56089234828496"
      ]
     },
     "execution_count": 38,
     "metadata": {},
     "output_type": "execute_result"
    }
   ],
   "source": [
    "pt.elements.U.mass/pt.elements.U.density"
   ]
  },
  {
   "cell_type": "code",
   "execution_count": 39,
   "metadata": {},
   "outputs": [
    {
     "data": {
      "text/plain": [
       "12.56089234828496"
      ]
     },
     "execution_count": 39,
     "metadata": {},
     "output_type": "execute_result"
    }
   ],
   "source": [
    "pt.elements.isotope('232-U').mass/pt.elements.isotope('232-U').density"
   ]
  },
  {
   "cell_type": "code",
   "execution_count": null,
   "metadata": {
    "collapsed": true
   },
   "outputs": [],
   "source": []
  }
 ],
 "metadata": {
  "kernelspec": {
   "display_name": "Python 3",
   "language": "python",
   "name": "python3"
  },
  "language_info": {
   "codemirror_mode": {
    "name": "ipython",
    "version": 3
   },
   "file_extension": ".py",
   "mimetype": "text/x-python",
   "name": "python",
   "nbconvert_exporter": "python",
   "pygments_lexer": "ipython3",
   "version": "3.6.1"
  }
 },
 "nbformat": 4,
 "nbformat_minor": 2
}
