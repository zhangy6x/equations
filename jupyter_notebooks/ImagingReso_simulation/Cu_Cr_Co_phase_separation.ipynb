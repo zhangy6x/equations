{
 "cells": [
  {
   "cell_type": "code",
   "execution_count": 1,
   "metadata": {},
   "outputs": [],
   "source": [
    "from ImagingReso.resonance import Resonance\n",
    "import pprint\n",
    "import numpy as np"
   ]
  },
  {
   "cell_type": "code",
   "execution_count": 2,
   "metadata": {},
   "outputs": [],
   "source": [
    "# Global parameters\n",
    "energy_min = 1\n",
    "energy_max = 1000\n",
    "energy_step = 1"
   ]
  },
  {
   "cell_type": "code",
   "execution_count": 3,
   "metadata": {},
   "outputs": [],
   "source": [
    "o_reso = Resonance(energy_min=energy_min,\n",
    "                   energy_max=energy_max,\n",
    "                   energy_step=energy_step,\n",
    "                   database='ENDF_VII')"
   ]
  },
  {
   "cell_type": "code",
   "execution_count": 4,
   "metadata": {},
   "outputs": [],
   "source": [
    "# Input sample name or names as str, case sensitive\n",
    "layer_1 = 'Cu'\n",
    "thickness_1 = 1  # mm\n",
    "# density_1 = 0.223  # g/cm3\n",
    "layer_2 = 'Co'\n",
    "thickness_2 = 1  # mm\n",
    "# density_2 = 0.243  # g/cm3\n",
    "layer_3 = 'Cr'\n",
    "thickness_3 = 1  # mm\n",
    "# density_3 = 0.223  # g/cm3\n",
    "# layer_4 = 'V'\n",
    "# thickness_4 = 0.01  # mm\n",
    "# # density_4 = 0.223  # g/cm3\n",
    "# layer_5 = 'Nb'\n",
    "# thickness_5 = 0.01  # mm\n",
    "# # density_5 = 0.223  # g/cm3\n",
    "# layer_6 = 'Mo'\n",
    "# thickness_6 = 0.01  # mm\n",
    "# # density_6 = 0.223  # g/cm3"
   ]
  },
  {
   "cell_type": "code",
   "execution_count": 5,
   "metadata": {},
   "outputs": [],
   "source": [
    "o_reso.add_layer(formula=layer_1, thickness=thickness_1)\n",
    "o_reso.add_layer(formula=layer_2, thickness=thickness_2)\n",
    "o_reso.add_layer(formula=layer_3, thickness=thickness_3)\n",
    "# o_reso.add_layer(formula=layer_4, thickness=thickness_4)\n",
    "# o_reso.add_layer(formula=layer_5, thickness=thickness_5)\n",
    "# o_reso.add_layer(formula=layer_6, thickness=thickness_6)"
   ]
  },
  {
   "cell_type": "code",
   "execution_count": 6,
   "metadata": {
    "scrolled": true
   },
   "outputs": [
    {
     "name": "stdout",
     "output_type": "stream",
     "text": [
      "{'Co': {'Co': {'density': {'units': 'g/cm3', 'value': 8.9},\n",
      "               'isotopes': {'density': {'units': 'g/cm3',\n",
      "                                        'value': [8.749367803547068,\n",
      "                                                  8.749367803547068,\n",
      "                                                  8.900000030203689]},\n",
      "                            'file_names': ['Co-58.csv',\n",
      "                                           'Co-58_m1.csv',\n",
      "                                           'Co-59.csv'],\n",
      "                            'isotopic_ratio': [0.0, 0.0, 1.0],\n",
      "                            'list': ['58-Co', '58-Co', '59-Co'],\n",
      "                            'mass': {'units': 'g/mol',\n",
      "                                     'value': [57.9357576,\n",
      "                                               57.9357576,\n",
      "                                               58.9332002]}},\n",
      "               'molar_mass': {'units': 'g/mol', 'value': 58.9332}},\n",
      "        'atoms_per_cm3': {'Co': 9.0945432502053166e+22},\n",
      "        'density': {'units': 'g/cm3', 'value': 8.9000000000000004},\n",
      "        'elements': ['Co'],\n",
      "        'stoichiometric_ratio': [1],\n",
      "        'thickness': {'units': 'mm', 'value': 1}},\n",
      " 'Cr': {'Cr': {'density': {'units': 'g/cm3', 'value': 7.19},\n",
      "               'isotopes': {'density': {'units': 'g/cm3',\n",
      "                                        'value': [6.906519847142382,\n",
      "                                                  7.182313299670553,\n",
      "                                                  7.320612523285401,\n",
      "                                                  7.458647522237245]},\n",
      "                            'file_names': ['Cr-50.csv',\n",
      "                                           'Cr-52.csv',\n",
      "                                           'Cr-53.csv',\n",
      "                                           'Cr-54.csv'],\n",
      "                            'isotopic_ratio': [0.043449999999999996,\n",
      "                                               0.83789,\n",
      "                                               0.09501,\n",
      "                                               0.02365],\n",
      "                            'list': ['50-Cr', '52-Cr', '53-Cr', '54-Cr'],\n",
      "                            'mass': {'units': 'g/mol',\n",
      "                                     'value': [49.9460496,\n",
      "                                               51.9405119,\n",
      "                                               52.9406538,\n",
      "                                               53.9388849]}},\n",
      "               'molar_mass': {'units': 'g/mol', 'value': 51.9961}},\n",
      "        'atoms_per_cm3': {'Cr': 8.3273923932429562e+22},\n",
      "        'density': {'units': 'g/cm3', 'value': 7.1900000000000004},\n",
      "        'elements': ['Cr'],\n",
      "        'stoichiometric_ratio': [1],\n",
      "        'thickness': {'units': 'mm', 'value': 1}},\n",
      " 'Cu': {'Cu': {'density': {'units': 'g/cm3', 'value': 8.96},\n",
      "               'isotopes': {'density': {'units': 'g/cm3',\n",
      "                                        'value': [8.873087619299406,\n",
      "                                                  9.154833216126901]},\n",
      "                            'file_names': ['Cu-63.csv', 'Cu-65.csv'],\n",
      "                            'isotopic_ratio': [0.6917, 0.30829999999999996],\n",
      "                            'list': ['63-Cu', '65-Cu'],\n",
      "                            'mass': {'units': 'g/mol',\n",
      "                                     'value': [62.9296011, 64.9277937]}},\n",
      "               'molar_mass': {'units': 'g/mol', 'value': 63.546}},\n",
      "        'atoms_per_cm3': {'Cu': 8.4912318759198077e+22},\n",
      "        'density': {'units': 'g/cm3', 'value': 8.9600000000000009},\n",
      "        'elements': ['Cu'],\n",
      "        'stoichiometric_ratio': [1],\n",
      "        'thickness': {'units': 'mm', 'value': 1}}}\n"
     ]
    }
   ],
   "source": [
    "pprint.pprint(o_reso.stack)"
   ]
  },
  {
   "cell_type": "code",
   "execution_count": 7,
   "metadata": {},
   "outputs": [
    {
     "data": {
      "image/png": "[encoded data removed]",
      "text/plain": [
       "<matplotlib.figure.Figure at 0x10de40550>"
      ]
     },
     "metadata": {},
     "output_type": "display_data"
    }
   ],
   "source": [
    "o_reso.plot(mixed=False,\n",
    "            all_elements=True,\n",
    "            all_isotopes=False,\n",
    "            y_axis='sigma',\n",
    "            x_axis='energy',\n",
    "           x_in_log=True,\n",
    "           y_in_log=True)"
   ]
  },
  {
   "cell_type": "code",
   "execution_count": null,
   "metadata": {},
   "outputs": [],
   "source": []
  }
 ],
 "metadata": {
  "kernelspec": {
   "display_name": "Python 3",
   "language": "python",
   "name": "python3"
  },
  "language_info": {
   "codemirror_mode": {
    "name": "ipython",
    "version": 3
   },
   "file_extension": ".py",
   "mimetype": "text/x-python",
   "name": "python",
   "nbconvert_exporter": "python",
   "pygments_lexer": "ipython3",
   "version": "3.6.5"
  }
 },
 "nbformat": 4,
 "nbformat_minor": 2
}
