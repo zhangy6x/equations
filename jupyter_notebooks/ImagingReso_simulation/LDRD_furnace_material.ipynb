{
 "cells": [
  {
   "cell_type": "code",
   "execution_count": 1,
   "metadata": {},
   "outputs": [],
   "source": [
    "from ImagingReso.resonance import Resonance\n",
    "import pprint\n",
    "import numpy as np"
   ]
  },
  {
   "cell_type": "code",
   "execution_count": 13,
   "metadata": {},
   "outputs": [],
   "source": [
    "# Global parameters\n",
    "energy_min = 1\n",
    "energy_max = 1000\n",
    "energy_step = 1"
   ]
  },
  {
   "cell_type": "code",
   "execution_count": 14,
   "metadata": {},
   "outputs": [],
   "source": [
    "o_reso = Resonance(energy_min=energy_min,\n",
    "                   energy_max=energy_max,\n",
    "                   energy_step=energy_step,\n",
    "                   database='ENDF_VII')"
   ]
  },
  {
   "cell_type": "code",
   "execution_count": 15,
   "metadata": {},
   "outputs": [],
   "source": [
    "# Input sample name or names as str, case sensitive\n",
    "layer_1 = 'Ti'\n",
    "thickness_1 = 1  # mm\n",
    "# density_1 = 0.223  # g/cm3\n",
    "layer_2 = 'Fe'\n",
    "thickness_2 = 1  # mm\n",
    "# density_2 = 0.243  # g/cm3\n",
    "layer_3 = 'Zr'\n",
    "thickness_3 = 1  # mm\n",
    "# density_3 = 0.223  # g/cm3\n",
    "layer_4 = 'U'\n",
    "thickness_4 = 0.01  # mm\n",
    "# density_4 = 0.223  # g/cm3\n",
    "layer_5 = 'Gd'\n",
    "thickness_5 = 0.01  # mm\n",
    "# density_4 = 0.223  # g/cm3"
   ]
  },
  {
   "cell_type": "code",
   "execution_count": 16,
   "metadata": {},
   "outputs": [],
   "source": [
    "o_reso.add_layer(formula=layer_1, thickness=thickness_1)\n",
    "o_reso.add_layer(formula=layer_2, thickness=thickness_2)\n",
    "o_reso.add_layer(formula=layer_3, thickness=thickness_3)\n",
    "# o_reso.add_layer(formula=layer_4, thickness=thickness_4)\n",
    "# o_reso.add_layer(formula=layer_5, thickness=thickness_5)"
   ]
  },
  {
   "cell_type": "code",
   "execution_count": 17,
   "metadata": {
    "scrolled": true
   },
   "outputs": [
    {
     "name": "stdout",
     "output_type": "stream",
     "text": [
      "{'Fe': {'Fe': {'density': {'units': 'g/cm3', 'value': 7.874},\n",
      "               'isotopes': {'density': {'units': 'g/cm3',\n",
      "                                        'value': [7.6053456340800425,\n",
      "                                                  7.886681602567821,\n",
      "                                                  8.027743385509893,\n",
      "                                                  8.168442128337363]},\n",
      "                            'file_names': ['Fe-54.csv',\n",
      "                                           'Fe-56.csv',\n",
      "                                           'Fe-57.csv',\n",
      "                                           'Fe-58.csv'],\n",
      "                            'isotopic_ratio': [0.058449999999999995,\n",
      "                                               0.91754,\n",
      "                                               0.02119,\n",
      "                                               0.0028199999999999996],\n",
      "                            'list': ['54-Fe', '56-Fe', '57-Fe', '58-Fe'],\n",
      "                            'mass': {'units': 'g/mol',\n",
      "                                     'value': [53.9396148,\n",
      "                                               55.9349421,\n",
      "                                               56.9353987,\n",
      "                                               57.9332805]}},\n",
      "               'molar_mass': {'units': 'g/mol', 'value': 55.845}},\n",
      "        'atoms_per_cm3': {'Fe': 8.4910622451460282e+22},\n",
      "        'density': {'units': 'g/cm3', 'value': 7.8739999999999997},\n",
      "        'elements': ['Fe'],\n",
      "        'stoichiometric_ratio': [1],\n",
      "        'thickness': {'units': 'mm', 'value': 1}},\n",
      " 'Ti': {'Ti': {'density': {'units': 'g/cm3', 'value': 4.54},\n",
      "               'isotopes': {'density': {'units': 'g/cm3',\n",
      "                                        'value': [4.358429354879145,\n",
      "                                                  4.453193382748031,\n",
      "                                                  4.547677519669084,\n",
      "                                                  4.642516419077861,\n",
      "                                                  4.737070552447406]},\n",
      "                            'file_names': ['Ti-46.csv',\n",
      "                                           'Ti-47.csv',\n",
      "                                           'Ti-48.csv',\n",
      "                                           'Ti-49.csv',\n",
      "                                           'Ti-50.csv'],\n",
      "                            'isotopic_ratio': [0.0825,\n",
      "                                               0.07440000000000001,\n",
      "                                               0.7372,\n",
      "                                               0.0541,\n",
      "                                               0.0518],\n",
      "                            'list': ['46-Ti',\n",
      "                                     '47-Ti',\n",
      "                                     '48-Ti',\n",
      "                                     '49-Ti',\n",
      "                                     '50-Ti'],\n",
      "                            'mass': {'units': 'g/mol',\n",
      "                                     'value': [45.9526295,\n",
      "                                               46.9517638,\n",
      "                                               47.9479471,\n",
      "                                               48.9478708,\n",
      "                                               49.9447921]}},\n",
      "               'molar_mass': {'units': 'g/mol', 'value': 47.867}},\n",
      "        'atoms_per_cm3': {'Ti': 5.7117679175172878e+22},\n",
      "        'density': {'units': 'g/cm3', 'value': 4.54},\n",
      "        'elements': ['Ti'],\n",
      "        'stoichiometric_ratio': [1],\n",
      "        'thickness': {'units': 'mm', 'value': 1}},\n",
      " 'Zr': {'Zr': {'density': {'units': 'g/cm3', 'value': 6.506},\n",
      "               'isotopes': {'density': {'units': 'g/cm3',\n",
      "                                        'value': [6.411909171623695,\n",
      "                                                  6.483295255305622,\n",
      "                                                  6.554571065625273,\n",
      "                                                  6.625992395132859,\n",
      "                                                  6.697299949517672,\n",
      "                                                  6.768742061367622,\n",
      "                                                  6.840077651232132]},\n",
      "                            'file_names': ['Zr-90.csv',\n",
      "                                           'Zr-91.csv',\n",
      "                                           'Zr-92.csv',\n",
      "                                           'Zr-93.csv',\n",
      "                                           'Zr-94.csv',\n",
      "                                           'Zr-95.csv',\n",
      "                                           'Zr-96.csv'],\n",
      "                            'isotopic_ratio': [0.5145000000000001,\n",
      "                                               0.11220000000000001,\n",
      "                                               0.17149999999999999,\n",
      "                                               0.0,\n",
      "                                               0.17379999999999998,\n",
      "                                               0.0,\n",
      "                                               0.027999999999999997],\n",
      "                            'list': ['90-Zr',\n",
      "                                     '91-Zr',\n",
      "                                     '92-Zr',\n",
      "                                     '93-Zr',\n",
      "                                     '94-Zr',\n",
      "                                     '95-Zr',\n",
      "                                     '96-Zr'],\n",
      "                            'mass': {'units': 'g/mol',\n",
      "                                     'value': [89.9047037,\n",
      "                                               90.905645,\n",
      "                                               91.9050401,\n",
      "                                               92.9064756,\n",
      "                                               93.9063158,\n",
      "                                               94.9080427,\n",
      "                                               95.908276]}},\n",
      "               'molar_mass': {'units': 'g/mol', 'value': 91.224}},\n",
      "        'atoms_per_cm3': {'Zr': 4.2949276961810489e+22},\n",
      "        'density': {'units': 'g/cm3', 'value': 6.5060000000000002},\n",
      "        'elements': ['Zr'],\n",
      "        'stoichiometric_ratio': [1],\n",
      "        'thickness': {'units': 'mm', 'value': 1}}}\n"
     ]
    }
   ],
   "source": [
    "pprint.pprint(o_reso.stack)"
   ]
  },
  {
   "cell_type": "code",
   "execution_count": 18,
   "metadata": {},
   "outputs": [
    {
     "data": {
      "image/png": "[encoded data removed]",
      "text/plain": [
       "<matplotlib.figure.Figure at 0x114172da0>"
      ]
     },
     "metadata": {},
     "output_type": "display_data"
    }
   ],
   "source": [
    "o_reso.plot(mixed=False,\n",
    "            all_elements=True,\n",
    "            all_isotopes=False,\n",
    "            y_axis='sigma',\n",
    "            x_axis='energy',\n",
    "           x_in_log=True,\n",
    "           y_in_log=True)"
   ]
  },
  {
   "cell_type": "code",
   "execution_count": null,
   "metadata": {},
   "outputs": [],
   "source": []
  }
 ],
 "metadata": {
  "kernelspec": {
   "display_name": "Python 3",
   "language": "python",
   "name": "python3"
  },
  "language_info": {
   "codemirror_mode": {
    "name": "ipython",
    "version": 3
   },
   "file_extension": ".py",
   "mimetype": "text/x-python",
   "name": "python",
   "nbconvert_exporter": "python",
   "pygments_lexer": "ipython3",
   "version": "3.6.1"
  }
 },
 "nbformat": 4,
 "nbformat_minor": 2
}
