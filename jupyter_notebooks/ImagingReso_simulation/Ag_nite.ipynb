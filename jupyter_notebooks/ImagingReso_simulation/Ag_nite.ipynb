{
 "cells": [
  {
   "cell_type": "code",
   "execution_count": 1,
   "metadata": {},
   "outputs": [],
   "source": [
    "from ImagingReso.resonance import Resonance\n",
    "import pprint\n",
    "import numpy as np"
   ]
  },
  {
   "cell_type": "code",
   "execution_count": 2,
   "metadata": {},
   "outputs": [],
   "source": [
    "# Global parameters\n",
    "energy_min = 0.01\n",
    "energy_max = 300\n",
    "energy_step = 0.01"
   ]
  },
  {
   "cell_type": "code",
   "execution_count": 3,
   "metadata": {},
   "outputs": [],
   "source": [
    "o_reso = Resonance(energy_min=energy_min,\n",
    "                   energy_max=energy_max,\n",
    "                   energy_step=energy_step,\n",
    "                   database='ENDF_VII')"
   ]
  },
  {
   "cell_type": "code",
   "execution_count": 4,
   "metadata": {},
   "outputs": [],
   "source": [
    "# Input sample name or names as str, case sensitive\n",
    "layer_1 = 'Ag'\n",
    "thickness_1 = 1.6  # mm\n",
    "density_1 = 0.223  # g/cm3\n",
    "layer_2 = 'I'\n",
    "thickness_2 = 1.6  # mm\n",
    "density_2 = 0.243  # g/cm3"
   ]
  },
  {
   "cell_type": "code",
   "execution_count": 5,
   "metadata": {},
   "outputs": [],
   "source": [
    "o_reso.add_layer(formula=layer_1, thickness=thickness_1, density=density_1)\n",
    "o_reso.add_layer(formula=layer_2, thickness=thickness_2, density=density_2)"
   ]
  },
  {
   "cell_type": "code",
   "execution_count": 6,
   "metadata": {},
   "outputs": [
    {
     "name": "stdout",
     "output_type": "stream",
     "text": [
      "{'Ag': {'Ag': {'density': {'units': 'g/cm3', 'value': 10.5},\n",
      "               'isotopes': {'density': {'units': 'g/cm3',\n",
      "                                        'value': [10.406250187729098,\n",
      "                                                  10.600899412431097,\n",
      "                                                  10.698372226476385,\n",
      "                                                  10.79563390786163]},\n",
      "                            'file_names': ['Ag-107.csv',\n",
      "                                           'Ag-109.csv',\n",
      "                                           'Ag-110_m1.csv',\n",
      "                                           'Ag-111.csv'],\n",
      "                            'isotopic_ratio': [0.51839,\n",
      "                                               0.48161000000000004,\n",
      "                                               0.0,\n",
      "                                               0.0],\n",
      "                            'list': ['107-Ag', '109-Ag', '110-Ag', '111-Ag'],\n",
      "                            'mass': {'units': 'g/mol',\n",
      "                                     'value': [106.905093,\n",
      "                                               108.904756,\n",
      "                                               109.90611,\n",
      "                                               110.905295]}},\n",
      "               'molar_mass': {'units': 'g/mol', 'value': 107.8682}},\n",
      "        'atoms_per_cm3': {'Ag': 1.2449799024281487e+21},\n",
      "        'density': {'units': 'g/cm3', 'value': 0.223},\n",
      "        'elements': ['Ag'],\n",
      "        'stoichiometric_ratio': [1],\n",
      "        'thickness': {'units': 'mm', 'value': 1.6}},\n",
      " 'I': {'I': {'density': {'units': 'g/cm3', 'value': 4.93},\n",
      "             'isotopes': {'density': {'units': 'g/cm3',\n",
      "                                      'value': [4.929999922303761,\n",
      "                                                5.007716323231167,\n",
      "                                                5.046629979385281,\n",
      "                                                5.085456740065972,\n",
      "                                                5.2410017275199205]},\n",
      "                          'file_names': ['I-127.csv',\n",
      "                                         'I-129.csv',\n",
      "                                         'I-130.csv',\n",
      "                                         'I-131.csv',\n",
      "                                         'I-135.csv'],\n",
      "                          'isotopic_ratio': [1.0, 0.0, 0.0, 0.0, 0.0],\n",
      "                          'list': ['127-I', '129-I', '130-I', '131-I', '135-I'],\n",
      "                          'mass': {'units': 'g/mol',\n",
      "                                   'value': [126.904468,\n",
      "                                             128.904987,\n",
      "                                             129.906674,\n",
      "                                             130.9061242,\n",
      "                                             134.91005]}},\n",
      "             'molar_mass': {'units': 'g/mol', 'value': 126.90447}},\n",
      "       'atoms_per_cm3': {'I': 1.1531352900737065e+21},\n",
      "       'density': {'units': 'g/cm3', 'value': 0.243},\n",
      "       'elements': ['I'],\n",
      "       'stoichiometric_ratio': [1],\n",
      "       'thickness': {'units': 'mm', 'value': 1.6}}}\n"
     ]
    }
   ],
   "source": [
    "pprint.pprint(o_reso.stack)"
   ]
  },
  {
   "cell_type": "code",
   "execution_count": 7,
   "metadata": {},
   "outputs": [
    {
     "data": {
      "image/png": "[encoded data removed]",
      "text/plain": [
       "<matplotlib.figure.Figure at 0x11da5a5f8>"
      ]
     },
     "metadata": {},
     "output_type": "display_data"
    }
   ],
   "source": [
    "o_reso.plot(mixed=True,\n",
    "            all_elements=True,\n",
    "            all_isotopes=False,\n",
    "            y_axis='attenuation',\n",
    "            x_axis='energy')"
   ]
  },
  {
   "cell_type": "code",
   "execution_count": null,
   "metadata": {},
   "outputs": [],
   "source": [
    "o_reso.export(mixed=True,\n",
    "              all_elements=True,\n",
    "              all_isotopes=False,\n",
    "              y_axis='attenuation',\n",
    "              x_axis='energy',\n",
    "              filename='AgI_gel_2mm.csv')"
   ]
  }
 ],
 "metadata": {
  "kernelspec": {
   "display_name": "Python 3",
   "language": "python",
   "name": "python3"
  },
  "language_info": {
   "codemirror_mode": {
    "name": "ipython",
    "version": 3
   },
   "file_extension": ".py",
   "mimetype": "text/x-python",
   "name": "python",
   "nbconvert_exporter": "python",
   "pygments_lexer": "ipython3",
   "version": "3.6.1"
  }
 },
 "nbformat": 4,
 "nbformat_minor": 2
}
