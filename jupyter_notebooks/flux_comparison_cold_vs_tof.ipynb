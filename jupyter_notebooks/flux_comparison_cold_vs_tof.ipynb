{
 "cells": [
  {
   "cell_type": "code",
   "execution_count": 6,
   "metadata": {},
   "outputs": [],
   "source": [
    "import pandas as pd\n",
    "import numpy as np\n",
    "import matplotlib.pyplot as plt"
   ]
  },
  {
   "cell_type": "code",
   "execution_count": 7,
   "metadata": {},
   "outputs": [],
   "source": [
    "%matplotlib notebook"
   ]
  },
  {
   "cell_type": "code",
   "execution_count": 8,
   "metadata": {},
   "outputs": [],
   "source": [
    "df_cg1d = pd.read_csv('beam_flux_cg1d.txt', sep='\\t', header=None, skiprows=1)\n",
    "df_venus = pd.read_csv('beam_flux_venus.txt', sep='\\t', header=None, skiprows=1)\n",
    "df_snap = pd.read_csv('beam_flux_snap.txt', sep='\\t', header=None, skiprows=1)\n",
    "df_trans = pd.read_csv('trans_venus_25m_60hz_3_5A.txt', sep='\\t', header=None, skiprows=1)"
   ]
  },
  {
   "cell_type": "code",
   "execution_count": 9,
   "metadata": {},
   "outputs": [],
   "source": [
    "df_dict = {\n",
    "    'cg1d': df_cg1d,\n",
    "    'venus': df_venus,\n",
    "    'snap': df_snap,\n",
    "#     'snap': df_trans\n",
    "}"
   ]
  },
  {
   "cell_type": "code",
   "execution_count": 10,
   "metadata": {},
   "outputs": [
    {
     "name": "stdout",
     "output_type": "stream",
     "text": [
      "          0             1\n",
      "0  0.812655  1.776169e+04\n",
      "1  1.028404  1.201199e+05\n",
      "2  1.244153  2.919421e+05\n",
      "3  1.459902  5.860009e+05\n",
      "4  1.675651  1.030660e+06\n",
      "       0           1\n",
      "0  0.086  17091571.2\n",
      "1  0.091  16583548.8\n",
      "2  0.099  16352582.4\n",
      "3  0.111  17028288.0\n",
      "4  0.124  17548876.8\n",
      "          0         1\n",
      "0  0.000286   86200.0\n",
      "1  0.000303  104000.0\n",
      "2  0.000321  154000.0\n",
      "3  0.000340  237000.0\n",
      "4  0.000360  365000.0\n"
     ]
    }
   ],
   "source": [
    "for each in df_dict.keys():\n",
    "    print(df_dict[each].head())"
   ]
  },
  {
   "cell_type": "code",
   "execution_count": 12,
   "metadata": {},
   "outputs": [
    {
     "name": "stdout",
     "output_type": "stream",
     "text": [
      "      0             1\n",
      "0  0.45  1.780000e-07\n",
      "1  0.50  3.160000e-08\n",
      "2  0.55  5.620000e-09\n",
      "3  0.60  1.000000e-09\n",
      "4  0.65  1.880000e-10\n",
      "       0           1\n",
      "0  0.086  17091571.2\n",
      "1  0.091  16583548.8\n",
      "2  0.099  16352582.4\n",
      "3  0.111  17028288.0\n",
      "4  0.124  17548876.8\n"
     ]
    }
   ],
   "source": [
    "print(df_trans.head())\n",
    "print(df_venus.head())"
   ]
  },
  {
   "cell_type": "code",
   "execution_count": 57,
   "metadata": {},
   "outputs": [
    {
     "name": "stdout",
     "output_type": "stream",
     "text": [
      "          0             1\n",
      "0  0.812655  1.776169e+04\n",
      "1  1.028404  1.201199e+05\n",
      "2  1.244153  2.919421e+05\n",
      "3  1.459902  5.860009e+05\n",
      "4  1.675651  1.030660e+06\n",
      "        0          1\n",
      "33  0.859  8988576.0\n",
      "34  0.908  8638348.8\n",
      "35  0.964  8301196.8\n",
      "36  1.015  8126496.0\n",
      "37  1.069  7963622.4\n",
      "         0           1\n",
      "139  0.854  16600000.0\n",
      "140  0.904  15700000.0\n",
      "141  0.958  15000000.0\n",
      "142  1.010  14400000.0\n",
      "143  1.070  13900000.0\n"
     ]
    }
   ],
   "source": [
    "for each in df_dict.keys():\n",
    "    df_dict[each] = df_dict[each][df_dict[each][0]<=max(df_dict['cg1d'][0])]\n",
    "    df_dict[each] = df_dict[each][df_dict[each][0]>=min(df_dict['cg1d'][0])]\n",
    "    print(df_dict[each].head())"
   ]
  },
  {
   "cell_type": "code",
   "execution_count": 58,
   "metadata": {},
   "outputs": [
    {
     "name": "stdout",
     "output_type": "stream",
     "text": [
      "cg1d:  6512271.475 (n/s/cm^2)\n",
      "venus:  35914705.214 (n/s/cm^2)\n",
      "snap:  67210590.0 (n/s/cm^2)\n"
     ]
    }
   ],
   "source": [
    "for each in df_dict.keys():\n",
    "    integr = np.trapz(y=df_dict[each][1], x=df_dict[each][0], dx=0.01).round(3)\n",
    "    print(each+': ', integr, '(n/s/cm^2)')"
   ]
  },
  {
   "cell_type": "code",
   "execution_count": null,
   "metadata": {},
   "outputs": [],
   "source": []
  }
 ],
 "metadata": {
  "kernelspec": {
   "display_name": "Python 3",
   "language": "python",
   "name": "python3"
  },
  "language_info": {
   "codemirror_mode": {
    "name": "ipython",
    "version": 3
   },
   "file_extension": ".py",
   "mimetype": "text/x-python",
   "name": "python",
   "nbconvert_exporter": "python",
   "pygments_lexer": "ipython3",
   "version": "3.6.8"
  }
 },
 "nbformat": 4,
 "nbformat_minor": 2
}
