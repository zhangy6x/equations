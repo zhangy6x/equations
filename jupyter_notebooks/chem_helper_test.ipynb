{
 "cells": [
  {
   "cell_type": "code",
   "execution_count": 14,
   "metadata": {},
   "outputs": [],
   "source": [
    "import chemhelper as ch # https://github.com/DRosenman/chemhelper#chemhelper.conversions\n",
    "from chemhelper import compounds\n",
    "import periodictable as pt\n",
    "from periodictable import formula"
   ]
  },
  {
   "cell_type": "code",
   "execution_count": 6,
   "metadata": {},
   "outputs": [
    {
     "data": {
      "text/plain": [
       "60.09"
      ]
     },
     "execution_count": 6,
     "metadata": {},
     "output_type": "execute_result"
    }
   ],
   "source": [
    "compounds.mass('SiO2')"
   ]
  },
  {
   "cell_type": "code",
   "execution_count": 9,
   "metadata": {},
   "outputs": [
    {
     "name": "stdout",
     "output_type": "stream",
     "text": [
      "SiO2\n",
      "Si: 28.09\n",
      "O: 2x16.0 = 32.0\n",
      "\n",
      "Mass SiO2 = 28.09 + 32.0 = 60.09\n"
     ]
    }
   ],
   "source": [
    "compounds.mass_steps('SiO2')"
   ]
  },
  {
   "cell_type": "code",
   "execution_count": 7,
   "metadata": {},
   "outputs": [
    {
     "data": {
      "text/plain": [
       "Si        28.09\n",
       "O         32.00\n",
       "Total:    60.09\n",
       "Name: SiO2, dtype: float64"
      ]
     },
     "execution_count": 7,
     "metadata": {},
     "output_type": "execute_result"
    }
   ],
   "source": [
    "compounds.composition('SiO2')"
   ]
  },
  {
   "cell_type": "code",
   "execution_count": 8,
   "metadata": {},
   "outputs": [
    {
     "name": "stdout",
     "output_type": "stream",
     "text": [
      "SiO2\n",
      "Si: 28.09\n",
      "O: 2x16.0 = 32.0\n",
      "\n",
      "Mass SiO2 = 28.09 + 32.0 = 60.09\n",
      "\n",
      "Si        28.09\n",
      "O         32.00\n",
      "Total:    60.09\n",
      "Name: SiO2, dtype: float64\n"
     ]
    }
   ],
   "source": [
    "compounds.composition_steps('SiO2')"
   ]
  },
  {
   "cell_type": "code",
   "execution_count": 10,
   "metadata": {},
   "outputs": [
    {
     "data": {
      "text/plain": [
       "Si         46.747\n",
       "O          53.253\n",
       "Total:    100.000\n",
       "Name: SiO2, dtype: float64"
      ]
     },
     "execution_count": 10,
     "metadata": {},
     "output_type": "execute_result"
    }
   ],
   "source": [
    "compounds.percent_composition('SiO2')"
   ]
  },
  {
   "cell_type": "code",
   "execution_count": 11,
   "metadata": {},
   "outputs": [
    {
     "name": "stdout",
     "output_type": "stream",
     "text": [
      "SiO2\n",
      "Si: 28.09\n",
      "O: 2x16.0 = 32.0\n",
      "\n",
      "Mass SiO2 = 28.09 + 32.0 = 60.09\n",
      "\n",
      "Si        28.09\n",
      "O         32.00\n",
      "Total:    60.09\n",
      "Name: SiO2, dtype: float64\n",
      "Si: 100 x 28.09g Si/60.09g SiO2 = 46.75%\n",
      "O: 100 x 32.00g O/60.09g SiO2 = 53.25%\n"
     ]
    }
   ],
   "source": [
    "compounds.percent_composition_steps('SiO2')"
   ]
  },
  {
   "cell_type": "code",
   "execution_count": 12,
   "metadata": {},
   "outputs": [],
   "source": [
    "total_density = 1.5 # g/cm3"
   ]
  },
  {
   "cell_type": "code",
   "execution_count": 21,
   "metadata": {},
   "outputs": [],
   "source": [
    "sio2 = formula(\"SiO2@1n\")"
   ]
  },
  {
   "cell_type": "code",
   "execution_count": 22,
   "metadata": {},
   "outputs": [
    {
     "name": "stdout",
     "output_type": "stream",
     "text": [
      "1.0\n"
     ]
    }
   ],
   "source": [
    "print(sio2.density)"
   ]
  },
  {
   "cell_type": "code",
   "execution_count": null,
   "metadata": {},
   "outputs": [],
   "source": []
  }
 ],
 "metadata": {
  "kernelspec": {
   "display_name": "Python 3",
   "language": "python",
   "name": "python3"
  },
  "language_info": {
   "codemirror_mode": {
    "name": "ipython",
    "version": 3
   },
   "file_extension": ".py",
   "mimetype": "text/x-python",
   "name": "python",
   "nbconvert_exporter": "python",
   "pygments_lexer": "ipython3",
   "version": "3.6.1"
  }
 },
 "nbformat": 4,
 "nbformat_minor": 2
}
