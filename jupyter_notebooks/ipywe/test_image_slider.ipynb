{
 "cells": [
  {
   "cell_type": "code",
   "execution_count": 1,
   "metadata": {},
   "outputs": [],
   "source": [
    "import ipywe.imageslider\n",
    "\n",
    "import numpy as np\n",
    "\n",
    "xg,yg = np.mgrid[1:500, 1:500]\n",
    "\n",
    "class Image:\n",
    "    def __init__(self, x0, y0, sigma):\n",
    "        self.data = np.exp(-((xg-x0)**2+(yg-y0)**2)/2/sigma**2)\n",
    "\n",
    "images = [Image(250., 250., s) for s in np.arange(5, 30, 1.)]"
   ]
  },
  {
   "cell_type": "code",
   "execution_count": 6,
   "metadata": {},
   "outputs": [
    {
     "data": {
      "application/vnd.jupyter.widget-view+json": {
       "model_id": "b0d210508d774bf8ae6714863b8efa62"
      }
     },
     "metadata": {},
     "output_type": "display_data"
    }
   ],
   "source": [
    "ipywe.imageslider.ImageSlider(images, 400, 400)"
   ]
  },
  {
   "cell_type": "code",
   "execution_count": null,
   "metadata": {
    "collapsed": true
   },
   "outputs": [],
   "source": []
  }
 ],
 "metadata": {
  "kernelspec": {
   "display_name": "Python 3",
   "language": "python",
   "name": "python3"
  },
  "language_info": {
   "codemirror_mode": {
    "name": "ipython",
    "version": 3
   },
   "file_extension": ".py",
   "mimetype": "text/x-python",
   "name": "python",
   "nbconvert_exporter": "python",
   "pygments_lexer": "ipython3",
   "version": "3.6.1"
  }
 },
 "nbformat": 4,
 "nbformat_minor": 1
}
