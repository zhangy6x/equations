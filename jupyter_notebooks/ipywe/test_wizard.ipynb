{
 "cells": [
  {
   "cell_type": "code",
   "execution_count": 1,
   "metadata": {
    "collapsed": true
   },
   "outputs": [],
   "source": [
    "import sys, os\n",
    "sys.path.insert(0, os.path.abspath('..'))\n",
    "import ipywe.wizard as wiz\n",
    "import ipywidgets as ipyw\n",
    "from __future__ import print_function"
   ]
  },
  {
   "cell_type": "code",
   "execution_count": 2,
   "metadata": {
    "collapsed": true
   },
   "outputs": [],
   "source": [
    "class Step1(wiz.Step):\n",
    "    \n",
    "    def createPanel(self):\n",
    "        self.text = text = ipyw.Text(description=\"sample\", place_holder='sample name')\n",
    "        OK = ipyw.Button(description='OK')\n",
    "        OK.on_click(self.handle_next_button_click)\n",
    "        widgets= [text, OK]\n",
    "        return ipyw.VBox(children=widgets)\n",
    "    \n",
    "    def validate(self):\n",
    "        text = self.text.value\n",
    "        # check user input\n",
    "        if not text:\n",
    "            wiz.js_alert(\"Please input the sample name\")\n",
    "            return False\n",
    "        self.context.text = text # save user input\n",
    "        return True\n",
    "        \n",
    "    def nextStep(self):\n",
    "        step2 = Step2(self.context)\n",
    "        step2.show()\n",
    "        \n",
    "class Step2(wiz.Step):\n",
    "    \n",
    "    def createPanel(self):\n",
    "        self.select = select = ipyw.IntSlider(description=\"counts\", value=1, min=0, max=10)\n",
    "        OK = ipyw.Button(description='OK')\n",
    "        OK.on_click(self.handle_next_button_click)\n",
    "        widgets= [select, OK]\n",
    "        return ipyw.VBox(children=widgets)\n",
    "    \n",
    "    def validate(self):\n",
    "        v = self.select.value\n",
    "        self.context.counts = v\n",
    "        return True\n",
    "    \n",
    "    def nextStep(self):\n",
    "        return"
   ]
  },
  {
   "cell_type": "code",
   "execution_count": 3,
   "metadata": {
    "collapsed": true
   },
   "outputs": [],
   "source": [
    "context=wiz.Context()\n",
    "step1 = Step1(context)"
   ]
  },
  {
   "cell_type": "code",
   "execution_count": 4,
   "metadata": {},
   "outputs": [
    {
     "data": {
      "application/vnd.jupyter.widget-view+json": {
       "model_id": "5b8581d9c6c64d5591245be82775abd3"
      }
     },
     "metadata": {},
     "output_type": "display_data"
    },
    {
     "data": {
      "application/vnd.jupyter.widget-view+json": {
       "model_id": "4c45bc44a1ab4bb0970e968ff4a4ee97"
      }
     },
     "metadata": {},
     "output_type": "display_data"
    }
   ],
   "source": [
    "step1.show()"
   ]
  },
  {
   "cell_type": "code",
   "execution_count": 5,
   "metadata": {},
   "outputs": [
    {
     "name": "stdout",
     "output_type": "stream",
     "text": [
      "1555\n",
      "7\n"
     ]
    }
   ],
   "source": [
    "print(context.text)\n",
    "print(context.counts)"
   ]
  },
  {
   "cell_type": "code",
   "execution_count": null,
   "metadata": {
    "collapsed": true
   },
   "outputs": [],
   "source": []
  }
 ],
 "metadata": {
  "kernelspec": {
   "display_name": "Python 3",
   "language": "python",
   "name": "python3"
  },
  "language_info": {
   "codemirror_mode": {
    "name": "ipython",
    "version": 3
   },
   "file_extension": ".py",
   "mimetype": "text/x-python",
   "name": "python",
   "nbconvert_exporter": "python",
   "pygments_lexer": "ipython3",
   "version": "3.6.1"
  }
 },
 "nbformat": 4,
 "nbformat_minor": 2
}
