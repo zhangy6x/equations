{
 "cells": [
  {
   "cell_type": "code",
   "execution_count": 1,
   "metadata": {
    "collapsed": true
   },
   "outputs": [],
   "source": [
    "%matplotlib inline\n",
    "import os\n",
    "from pprint import pprint\n",
    "import shutil\n",
    "import subprocess\n",
    "import urllib.request\n",
    "\n",
    "import h5py\n",
    "import numpy as np\n",
    "import matplotlib.pyplot as plt\n",
    "import matplotlib.cm\n",
    "from matplotlib.patches import Rectangle\n",
    "\n",
    "import openmc.data"
   ]
  },
  {
   "cell_type": "code",
   "execution_count": 3,
   "metadata": {},
   "outputs": [
    {
     "data": {
      "text/plain": [
       "{0: 'n',\n",
       " 1: 'H',\n",
       " 2: 'He',\n",
       " 3: 'Li',\n",
       " 4: 'Be',\n",
       " 5: 'B',\n",
       " 6: 'C',\n",
       " 7: 'N',\n",
       " 8: 'O',\n",
       " 9: 'F',\n",
       " 10: 'Ne',\n",
       " 11: 'Na',\n",
       " 12: 'Mg',\n",
       " 13: 'Al',\n",
       " 14: 'Si',\n",
       " 15: 'P',\n",
       " 16: 'S',\n",
       " 17: 'Cl',\n",
       " 18: 'Ar',\n",
       " 19: 'K',\n",
       " 20: 'Ca',\n",
       " 21: 'Sc',\n",
       " 22: 'Ti',\n",
       " 23: 'V',\n",
       " 24: 'Cr',\n",
       " 25: 'Mn',\n",
       " 26: 'Fe',\n",
       " 27: 'Co',\n",
       " 28: 'Ni',\n",
       " 29: 'Cu',\n",
       " 30: 'Zn',\n",
       " 31: 'Ga',\n",
       " 32: 'Ge',\n",
       " 33: 'As',\n",
       " 34: 'Se',\n",
       " 35: 'Br',\n",
       " 36: 'Kr',\n",
       " 37: 'Rb',\n",
       " 38: 'Sr',\n",
       " 39: 'Y',\n",
       " 40: 'Zr',\n",
       " 41: 'Nb',\n",
       " 42: 'Mo',\n",
       " 43: 'Tc',\n",
       " 44: 'Ru',\n",
       " 45: 'Rh',\n",
       " 46: 'Pd',\n",
       " 47: 'Ag',\n",
       " 48: 'Cd',\n",
       " 49: 'In',\n",
       " 50: 'Sn',\n",
       " 51: 'Sb',\n",
       " 52: 'Te',\n",
       " 53: 'I',\n",
       " 54: 'Xe',\n",
       " 55: 'Cs',\n",
       " 56: 'Ba',\n",
       " 57: 'La',\n",
       " 58: 'Ce',\n",
       " 59: 'Pr',\n",
       " 60: 'Nd',\n",
       " 61: 'Pm',\n",
       " 62: 'Sm',\n",
       " 63: 'Eu',\n",
       " 64: 'Gd',\n",
       " 65: 'Tb',\n",
       " 66: 'Dy',\n",
       " 67: 'Ho',\n",
       " 68: 'Er',\n",
       " 69: 'Tm',\n",
       " 70: 'Yb',\n",
       " 71: 'Lu',\n",
       " 72: 'Hf',\n",
       " 73: 'Ta',\n",
       " 74: 'W',\n",
       " 75: 'Re',\n",
       " 76: 'Os',\n",
       " 77: 'Ir',\n",
       " 78: 'Pt',\n",
       " 79: 'Au',\n",
       " 80: 'Hg',\n",
       " 81: 'Tl',\n",
       " 82: 'Pb',\n",
       " 83: 'Bi',\n",
       " 84: 'Po',\n",
       " 85: 'At',\n",
       " 86: 'Rn',\n",
       " 87: 'Fr',\n",
       " 88: 'Ra',\n",
       " 89: 'Ac',\n",
       " 90: 'Th',\n",
       " 91: 'Pa',\n",
       " 92: 'U',\n",
       " 93: 'Np',\n",
       " 94: 'Pu',\n",
       " 95: 'Am',\n",
       " 96: 'Cm',\n",
       " 97: 'Bk',\n",
       " 98: 'Cf',\n",
       " 99: 'Es',\n",
       " 100: 'Fm',\n",
       " 101: 'Md',\n",
       " 102: 'No',\n",
       " 103: 'Lr',\n",
       " 104: 'Rf',\n",
       " 105: 'Db',\n",
       " 106: 'Sg',\n",
       " 107: 'Bh',\n",
       " 108: 'Hs',\n",
       " 109: 'Mt',\n",
       " 110: 'Ds',\n",
       " 111: 'Rg',\n",
       " 112: 'Cn',\n",
       " 113: 'Nh',\n",
       " 114: 'Fl',\n",
       " 115: 'Mc',\n",
       " 116: 'Lv',\n",
       " 117: 'Ts',\n",
       " 118: 'Og'}"
      ]
     },
     "execution_count": 3,
     "metadata": {},
     "output_type": "execute_result"
    }
   ],
   "source": [
    "openmc.data.ATOMIC_SYMBOL"
   ]
  },
  {
   "cell_type": "code",
   "execution_count": 17,
   "metadata": {},
   "outputs": [
    {
     "name": "stdout",
     "output_type": "stream",
     "text": [
      "53.939608986\n"
     ]
    }
   ],
   "source": [
    "print(openmc.data.atomic_mass('Fe54'))"
   ]
  },
  {
   "cell_type": "code",
   "execution_count": 18,
   "metadata": {},
   "outputs": [
    {
     "name": "stdout",
     "output_type": "stream",
     "text": [
      "None\n"
     ]
    }
   ],
   "source": [
    "print(openmc.data.atomic_mass('Fe-54'))"
   ]
  },
  {
   "cell_type": "code",
   "execution_count": 13,
   "metadata": {},
   "outputs": [
    {
     "data": {
      "text/plain": [
       "<IncidentNeutron: U238>"
      ]
     },
     "execution_count": 13,
     "metadata": {},
     "output_type": "execute_result"
    }
   ],
   "source": [
    "# Download ENDF file\n",
    "# url = 'https://t2.lanl.gov/nis/data/data/ENDFB-VII.1-neutron/U/238'\n",
    "# filename, headers = urllib.request.urlretrieve(url, 'u238.endf')\n",
    "\n",
    "# Load into memory\n",
    "filename = 'u238.endf'\n",
    "u238_endf = openmc.data.IncidentNeutron.from_endf(filename)\n",
    "u238_endf\n"
   ]
  },
  {
   "cell_type": "code",
   "execution_count": 20,
   "metadata": {
    "collapsed": true
   },
   "outputs": [],
   "source": [
    "u235 = openmc.data.Evaluation(\"u238.endf\")"
   ]
  },
  {
   "cell_type": "code",
   "execution_count": 21,
   "metadata": {},
   "outputs": [
    {
     "data": {
      "text/plain": [
       "{'author': ' Young,Chadwick,Derrien,Courcelle ',\n",
       " 'date': 'EVAL-SEP06',\n",
       " 'date_distribution': 'DIST-DEC06',\n",
       " 'date_entry': '20111222',\n",
       " 'date_release': 'REV2-     ',\n",
       " 'derived': False,\n",
       " 'description': ['***************************************************************** ',\n",
       "  '12/09/2010  S.T. Holloway on behalf of LANL                       ',\n",
       "  '  Reverted MF=1/5, MT=455 Delayed-neutron 6-grp data to           ',\n",
       "  '  ENDF/B-VI.8 values.                                             ',\n",
       "  '***************************************************************** ',\n",
       "  '                                                                  ',\n",
       "  '                    ENDF/B-VII EVALUATION                         ',\n",
       "  '                                                                  ',\n",
       "  'P.G.Young, M.B.Chadwick, R.E.MacFarlane, W.B.Wilson, D.G.Madland, ',\n",
       "  '                P.Talou, T. Kawano (LANL)                         ',\n",
       "  '                          and                                     ',\n",
       "  '   H. Derrien, A. Courcelle, L. C. Leal, N. Larson (ORNL)         ',\n",
       "  '                                                                  ',\n",
       "  '                ----- SUMMARY -----                               ',\n",
       "  '                                                                  ',\n",
       "  '   The ENDF/B-VII evaluation is a complete revision of almost all ',\n",
       "  'the data in the 238U evaluation. Major features of the evaluation ',\n",
       "  'are:                                                              ',\n",
       "  '1. A new evaluation of the (n,f) cross section based on the       ',\n",
       "  '   ENDF/B-VII standard cross section analysis is incorporated.    ',\n",
       "  '2. New resolved resonance parameter data are incorporated.        ',\n",
       "  '3. A new analysis of the prompt fission neutron spectrum matrix   ',\n",
       "  '   based on the Los Alamos model is used to calculate neutron     ',\n",
       "  '   spectra at all incident energies.                              ',\n",
       "  '4. Improved delayed neutron data are incorporated.                ',\n",
       "  '5. A new theoretical analysis utilizing coupled-channels optical  ',\n",
       "  '   model and reaction theory calculations was performed and used  ',\n",
       "  '   with experimental data to provide new scattering cross         ',\n",
       "  '   sections and angular distributions.                            ',\n",
       "  '6. The reaction theory calculations are utilized for (n,xn) and   ',\n",
       "  '   other reactions.                                               ',\n",
       "  '7. New calculations with coupled-channels optical model           ',\n",
       "  '   parameters are used to extend direct reaction cross sections   ',\n",
       "  '   and angular distributions to an excitation energy of 3.9 MeV.  ',\n",
       "  '8. Improved fission energy release values are incorporated.       ',\n",
       "  '9. A covariance evaluation was performed in the resolved energy   ',\n",
       "  '   region (1.0-5 eV to 20.0 keV) at ORNL and above 20.0 keV at    ',\n",
       "  '   LANL.                                                          ',\n",
       "  '                                                                  ',\n",
       "  '             ----- DETAILED DESCRIPTION -----                     ',\n",
       "  '                                                                  ',\n",
       "  '>> MF=1 GENERAL INFORMATION                                       ',\n",
       "  '                                                                  ',\n",
       "  'MT=452: TOTAL AVERAGE NEUTRON MULTIPLICITY PER FISSION (TOTAL     ',\n",
       "  '        NUBAR)                                                    ',\n",
       "  '   Sum of MT=455 and 456.                                         ',\n",
       "  '                                                                  ',\n",
       "  'MT=455: AVERAGE DELAYED NEUTRON MULTIPLICITY PER FISSION          ',\n",
       "  \"   Based on new delayed neutron 6-group parameters from CINDER'90 \",\n",
       "  'summation calculations.  The CINDER calculations (Wi05) are based ',\n",
       "  'on a new CINDER library in which beta-decay half-lives and beta-  ',\n",
       "  'delayed neutron-emission probablities are obtained from the       ',\n",
       "  'evaluated experimental data file NuBase2003 (Au03), when          ',\n",
       "  'available there. When experimental data are not available, the    ',\n",
       "  'data are calculated using a model where allowed Gamow-Teller      ',\n",
       "  'decays are treated in a microscopic quasi-particle random-phase   ',\n",
       "  'approximation (QRPA) and the first forbidden decays are treated   ',\n",
       "  'in the statistical gross theory (Mo03). The data were             ',\n",
       "  'extrapolated to 30 MeV.                                           ',\n",
       "  '                                                                  ',\n",
       "  'MT=456: AVERAGE PROMPT NEUTRON MULTIPLICITY PER FISSION           ',\n",
       "  '   1.e-5 eV - 30 MeV:  Taken from the ENDF/B-VI evaluation,       ',\n",
       "  'except nubar was extended to 30 MeV. Values above 4-6 MeV were    ',\n",
       "  'renormalized to match the ENDF/B-VII standard 252Cf nubar value.  ',\n",
       "  'The values below 6 MeV were left at the ENDF/B-VI values because  ',\n",
       "  'of good agreement with fast criticals. The new evaluation agrees  ',\n",
       "  'generally with exp. data within errors. The original ENDF/B-VI    ',\n",
       "  'evaluation is based on an evaluation by Frehaut (Fr86), with an   ',\n",
       "  'approximate correction for ENDF/B-VI standards. That evaluation   ',\n",
       "  'made use of the experimental database, especially the extensive   ',\n",
       "  'measurements of Frehaut et al. (Fr80).                            ',\n",
       "  '                                                                  ',\n",
       "  'MT=458:  ENERGY RELEASE FROM FISSION                              ',\n",
       "  '   Modifications were made to MT=458 based on a new analysis by   ',\n",
       "  'Madland (Ma06). The average total fission product kinetic energy  ',\n",
       "  '(EFR) and the average total prompt fission gamma-ray energy (EGP) ',\n",
       "  'were taken from the Madland analysis. The average total prompt    ',\n",
       "  'fission neutron kinetic energy (ENP) was obtained from NJOY,      ',\n",
       "  'using the MF=5,MT=18 fission neutron spectra and prompt nubar     ',\n",
       "  '(MT=1,MT=456) from the evaluation. (This value of total neutron   ',\n",
       "  \"energy is close to Madland's result.) The kinetic energy of       \",\n",
       "  'delayed fission neutrons (END), the total energy from delayed     ',\n",
       "  'gamma rays (EGD), the total energy released by delayed betas      ',\n",
       "  '(EB), and the energy released by neutrinos (ENU) were carried     ',\n",
       "  'over from the ENDF/B-VI evaluation. The total energy release per  ',\n",
       "  'fission is: ET = EFR+ENP+END+EGP+EGD+EB+ENU, and the quantity ER  ',\n",
       "  '(total energy less the neutrino energy, or pseudo-Q value) is     ',\n",
       "  'simply ET-ENU. ER is also included as the fission Q-value in      ',\n",
       "  'MF=3, MT=18,19,20,21,38.                                          ',\n",
       "  '   The uncertainties in EFR, ENP, END, EGP, EGD, EB, ENU, ER, and ',\n",
       "  'ET are carried over from ENDF/B-VI.                               ',\n",
       "  '   There is currently no format for including energy dependence   ',\n",
       "  'in the ENDF/B file.  These are included in the NJOY processing.   ',\n",
       "  '                                                                  ',\n",
       "  '            ----- REFERENCES (MF=1) -----                         ',\n",
       "  'Au03 G. Audi, O. Bersillon, J. Blanchot, and A. H. Wapstra, Nucl. ',\n",
       "  '     Phys. A729 (2003) p. 3-129.                                  ',\n",
       "  'Fr80 J. Frehaut, personal communication to NEA Data Bank, Saclay, ',\n",
       "  '     France 1980).                                                ',\n",
       "  'Fr86 J. Frehaut, NEANDC(E) 238/L (1986)                           ',\n",
       "  'Ma06 D. G. Madland, Nucl. Phys. A772, 113 (2006).                 ',\n",
       "  'Mo03 P. Moller, B. Pfeiffer, and K.-L. Kratz, Phys. Rev. C. 67    ',\n",
       "  '     (2003) 055802.                                               ',\n",
       "  'Wi05 W. B. Wilson, personal communication, 2005.                  ',\n",
       "  '                                                                  ',\n",
       "  '>> MF=2 RESONANCE PARAMETERS                                      ',\n",
       "  '                                                                  ',\n",
       "  'MT=151 RESOLVED AND UNRESOLVED RESONANCE PARAMETERS               ',\n",
       "  '                                                                  ',\n",
       "  '  ----- RESOLVED RESONANCE PARAMETERS (1.e-5 ev - 20 keV) -----   ',\n",
       "  'H. Derrien, A. Courcelle, L. C. Leal, N. Larson (ORNL, Oct 2004)  ',\n",
       "  '                                                                  ',\n",
       "  '   A new analysis of the resolved resonance region to 20 keV was  ',\n",
       "  'performed at Oak Ridge National Laboratory, dated October, 2004.  ',\n",
       "  'This evaluation was performed with the computer code SAMMY (La04) ',\n",
       "  'using Reich-Moore formalism. Resonance parameters are obtained    ',\n",
       "  'from 0 to 20 keV. A description of the present evaluation can be  ',\n",
       "  'found in (De04).                                                  ',\n",
       "  '                                                                  ',\n",
       "  '1. 1.e-5 eV to 1 keV                                              ',\n",
       "  '   The thermal capture value was adjusted to sigma0 = 2.683 b     ',\n",
       "  '(Trkov et al. [Tr04]). The shape of the capture cross-section in  ',\n",
       "  'the thermal range was checked with the capture measuremements of  ',\n",
       "  'Corvi et al. [Co87]. For the large s-wave 6.67 eV, 20.8 eV and    ',\n",
       "  '36.6 eV resonances, the seven transmission spectra of Olsen       ',\n",
       "  '[Ol77] were fitted with 4 transmission measurements of Meister et ',\n",
       "  'al. [Me98] and the capture measurements of De-Saussure et al      ',\n",
       "  '[De73]. To get a better correction of residual errors in          ',\n",
       "  'experimental normalizations and backgrounds, SAMMY fits were      ',\n",
       "  'performed resonance by resonance up to 60 eV. The Crystal Lattice ',\n",
       "  'Model of SAMMY for Doppler broadening was used to describe the    ',\n",
       "  'shape of the 6.67 eV resonance.                                   ',\n",
       "  '   From 250 eV to 1 keV the Macklin et al. capture [Ma88]         ',\n",
       "  'measurements were included in the fit. The spin of several p-wave ',\n",
       "  'resonances have been changed from the original evaluation         ',\n",
       "  '([So94]) to account for the spin measurements of Gunsing et al.   ',\n",
       "  '[Gu97]. Reliable estimates of p-wave neutron widths               ',\n",
       "  'below 300 eV were given by Crawford et al. [Cr98] with very thick ',\n",
       "  'uranium sample transmission measurements and were used as prior   ',\n",
       "  'parameters in the fit.                                            ',\n",
       "  '   The fission widths (below 10 keV) are taken from ENDF\\\\B-VI     ',\n",
       "  '[So94] and were deduced from the Measurements of Defilippo et al. ',\n",
       "  '[De80]                                                            ',\n",
       "  '                                                                  ',\n",
       "  ' 2.  1 keV to 20 keV                                              ',\n",
       "  '   The Olsen 1979 transmission data [Ol79] were analyzed in the   ',\n",
       "  'energy range 1 keV to 10 keV and the Harvey transmission data     ',\n",
       "  '[Ha88] in the energy range 1 keV to 20 keV. The capture data of   ',\n",
       "  'de Saussure[De73] and Macklin[Ma88] were analyzed in the energy   ',\n",
       "  'range 1 keV to 10 keV and 1 keV to 20 keV respectively. In        ',\n",
       "  'general, the thick sample transmissions calculated from the       ',\n",
       "  'resonance parameters and averaged over 1 keV energy intervals     ',\n",
       "  'agree within 1% with the experimental values of Harvey and within ',\n",
       "  '1.5% with the experimental values of Olsen, in agreement with the ',\n",
       "  'quoted experimental errors, The fit to the capture cross sections ',\n",
       "  'could not be obtained without large normalization and background  ',\n",
       "  'corrections.                                                      ',\n",
       "  \"   The value of the effective scattering radius, R'=9.48 fm, and  \",\n",
       "  'of the external resonance parameters, were obtained by assuming   ',\n",
       "  'that the normalization coefficients in Harvey and Olsen           ',\n",
       "  'experimental transmission were accurate within 1.0-1.5%. The      ',\n",
       "  'statistical properties of the resonance parameters were checked   ',\n",
       "  'against the Wigner distribution of the level spacing and the      ',\n",
       "  'Porter-Thomas distribution of the reduced neutron widths.         ',\n",
       "  '                                                                  ',\n",
       "  '----- UNRESOLVED RESONANCE PARAMETERS (20 - 149 keV) -----        ',\n",
       "  '   The ENDF/B-VI (Release 8) unresolved resonance parameter       ',\n",
       "  'evaluation by Froehner and Poenitz (see Fr88,Po81) was adopted.   ',\n",
       "  '                                                                  ',\n",
       "  '                 ----- REFERENCES (MF=2) -----                    ',\n",
       "  'Co87 F. Corvi, G. Fioni, Proc. Conf. Nuc. Data for Sci. and       ',\n",
       "  '     Tech., Mito, Japan, (1988).                                  ',\n",
       "  'Co04 A. Courcelle et al., Summary report of the WPEC/Subgroup-22, ',\n",
       "  '     NEA report to be published.                                  ',\n",
       "  'Cr98 B. E. Crawford et al., Phys. Rev. C, 58, Num 2 (1998).       ',\n",
       "  'De73 G. De Saussure, E. G. Silver, R. B. Perez ,R. Ingle and H.   ',\n",
       "  '     Weaver, Nucl. Sci. and Eng., 5, 385 (1973).                  ',\n",
       "  'De80 F.C. Difilippo et al, Phys.Rev.C 21, 1400 (1980).            ',\n",
       "  'De04 H. Derrien, A. Courcelle, L. C. Leal, A.Santamarina Proc.    ',\n",
       "  '     Int. Conf. on Nuc. Data for  Sci. and Tech., Santa-Fe, USA   ',\n",
       "  '     (2004).                                                      ',\n",
       "  'Fr88 F. H. Frohner, Nucl. Sci. and Eng.,103 (1988); F. H.         ',\n",
       "  '     Frohner, Proc. Int. Conf. on Reactor Phys., Jackson Hole,    ',\n",
       "  '     Wyoming (1988) Vol. III, p. 171.                             ',\n",
       "  'Gu97 F. Gunsing, K. Athanassopulos, and F. Corvi, Phys. Rev. C,   ',\n",
       "  '     56, Num 3 (1997).                                            ',\n",
       "  'Ha88 Harvey J. A., Hill N. W., Perey F. G., Tweed G. L. and Leal  ',\n",
       "  '     L. C, Proc. Int. Conf. on nuclear data for Science and       ',\n",
       "  '     Technology, Mito, Japan (1988).                              ',\n",
       "  'La04 N. M. Larson, ORNL/TM-9179/R6 ENDF-364.                      ',\n",
       "  'Ma88 Macklin Roger L., Perez R. B., De Saussure G. and Ingle      ',\n",
       "  '     R. W., Proc. Int. Conf. on nuclear data for Science and      ',\n",
       "  '     Technology, Mito, Japan (1988).                              ',\n",
       "  'Me98 A. Meister et al., Proc. Conf. Nuc. Data, Long Island,       ',\n",
       "  '     October 5-8, (1998).                                         ',\n",
       "  'Ol77 D.K. Olsen, G. De Saussure, R.B. Perez, F.C. Difilippo, R.W. ',\n",
       "  '     Ingle, and H. Weaver, Nucl. Sci. and Eng., 62, 479 (1977).   ',\n",
       "  'Ol79 D.K. Olsen, G. De Saussure, R.B. Perez, F.C. Difilippo, R.W. ',\n",
       "  '     Ingle, and H. Weaver, Nucl. Sci. and Eng., 69, 202-222       ',\n",
       "  '     (1979).                                                      ',\n",
       "  'Po81 W. P. Poenitz, L.R. Fawcett Jr and D.L. Smith, Nucl. Sci.    ',\n",
       "  '     Eng., 78, (1981) 239-247.                                    ',\n",
       "  'So94 M. Moxon and M. Sowerby, NEA-OECD report (1994).             ',\n",
       "  'Tr04 A. Trkov et al., personal communication, submitted to Nucl.  ',\n",
       "  '     Sci. Eng. (2004).                                            ',\n",
       "  '                                                                  ',\n",
       "  '>> MF=3 NEUTRON CROSS SECTIONS                                    ',\n",
       "  '                                                                  ',\n",
       "  '              ----- GENERAL INFORMATION -----                     ',\n",
       "  '   The energy range of the evaluation (Yo04) was increased to 30  ',\n",
       "  'Mev. Above the unresolved resonance region, new evaluations were  ',\n",
       "  \"performed of the neutron total, elastic, (n,n'), (n,2n), (n,3n),  \",\n",
       "  '(n,4n), (n,f), (n,nf), (n,2nf), (n,4nf), and (n,gamma) cross      ',\n",
       "  'sections, as well as their associated angular and energy          ',\n",
       "  'distributions. The total (MT=1), (n,xn) (MT=16,17), fission       ',\n",
       "  '(MT=18), and radiative capture (MT=102) cross sections are based  ',\n",
       "  'mainly on experimental data, complimented by nuclear model        ',\n",
       "  'calculations. Model parameters for the calculations were obtained ',\n",
       "  'by optimization with experimental data. The neutron total and     ',\n",
       "  '(n,f) cross section revisions include new experimental data that  ',\n",
       "  'were not included in the ENDF/B-VI 238U analysis.                 ',\n",
       "  '   To provide the ENDF/B-VII data, a new theoretical analysis was ',\n",
       "  'performed. Coupled-channels optical model calculations were       ',\n",
       "  'performed with the ECIS96 (Ra94) code for the lowest 3 members of ',\n",
       "  'the U238 ground state rotational band. These calculations were    ',\n",
       "  'used to provide elastic and inelastic cross sections and angular  ',\n",
       "  'distributions, and to provide neutron transmission coefficients   ',\n",
       "  'for nuclear reaction theory calculations with the GNASH (Yo98)    ',\n",
       "  'and COMNUC (Du71) Hauser-Feshbach statistical-fission-            ',\n",
       "  'preequilibrium codes.  These model calculations were used to      ',\n",
       "  'provide initial values of the MT=51-72 inelastic, (n,2n), (n,3n), ',\n",
       "  'and (n,f) cross sections, which were then modified somewhat to    ',\n",
       "  'optimize agreement with experimental data. The coupled-channels   ',\n",
       "  'optical model potential used is potential #5 in the International ',\n",
       "  \"Atomic Energy Agency's Reference Input Parameter Library (RIPL-2) \",\n",
       "  'optical model parameter library (see Yo94).                       ',\n",
       "  '   The GNASH calculations were used directly for the correlated   ',\n",
       "  \"energy-angle spectra in MF=6 for the (n,n'continuum), (n,2n),     \",\n",
       "  '(n,3n), and (n,4n) reactions. The continuum data in MF=6          ',\n",
       "  'incorporate the Kalbach systematics (Ka88) to specify the neutron ',\n",
       "  'angular distributions at given emission energies.                 ',\n",
       "  '   The cross sections and angular distributions for MT=73-90 were ',\n",
       "  'obtained by calculations with ECIS96 of DWBA shapes from          ',\n",
       "  'parameters obtained by matching the Baba (Ba89) neutron emission  ',\n",
       "  'data at 14 MeV. These calculations assumed the existence of 2+    ',\n",
       "  'and 3- vibrational states at excitation energies from 1.2 to 3.9  ',\n",
       "  'MeV. Preequilibrium angular distribution shapes were used for     ',\n",
       "  'MT=54-72 above 6 MeV.  Below 6 MeV, the MT=54-72 cross sections   ',\n",
       "  'and angular distributions are combinations of compound nucleus    ',\n",
       "  'and preequilibrium calculations. Some tuning for experimental     ',\n",
       "  \"data was done for the low-lying (n,n') level data.                \",\n",
       "  '   The fission cross section (MT=18) from ENDF/B-VI was modified  ',\n",
       "  'in the energy region above 1.0 MeV to reflect the new ENDF/B-VII  ',\n",
       "  '238U(n,f) cross section obtained from the standards analysis of   ',\n",
       "  'Pronyaev et al. (Pr05)  The modified cross section incorporates   ',\n",
       "  'new fission cross section data, including that of Lisowski        ',\n",
       "  '(Li02), and adjusts the cross section slightly higher from 1.3 -  ',\n",
       "  '5.3 MeV.                                                          ',\n",
       "  '   The present evaluation utilizes some data from the ENDF/B-VI   ',\n",
       "  'evaluation. The total cross section below 6 MeV and the (n,f)     ',\n",
       "  'cross section from 20 to 970 keV are taken from ENDF/B-VI.        ',\n",
       "  '   The (n,5n) cross section becomes significant above about 25    ',\n",
       "  'MeV.  Because there is no ENDF-6 MT number for this reaction, we  ',\n",
       "  'have arbitrarily included this cross section in the (n,4n)        ',\n",
       "  'reaction.  Consequently, the (n,4n) cross section becomes         ',\n",
       "  'somewhat unphysical above about 25 MeV.                           ',\n",
       "  '                                                                  ',\n",
       "  '           ----- DETAILS OF LANL REVISION -----                   ',\n",
       "  '                                                                  ',\n",
       "  'MT=1: TOTAL CROSS SECTION                                         ',\n",
       "  '   20 keV - 6 MeV:  Obtained from the ENDF/B-VI evaluation. In    ',\n",
       "  'the unresolved resonance region (20 to 149 keV, the evaluation by ',\n",
       "  'F.H. Froehner (KFK - Fr88), which is based on a FITACS fit to     ',\n",
       "  'experimental data, is used.                                       ',\n",
       "  '   The results of a covariance analysis performed for the ENDF/B- ',\n",
       "  'VI evaluation are used from the unresolved energy region to 6     ',\n",
       "  'MeV. The analysis was performed using the GLUCS code system       ',\n",
       "  '(He80) and included the measurements of (Fo71), (Sc74), (Po81),   ',\n",
       "  '(Po83), (Ha73),  (Br58), (Ca73), (Pe60), (Wh71), (Ba65), (Ut66),  ',\n",
       "  '(Sh79), and (Li79). Data exclusions similar to the covariance     ',\n",
       "  'analysis by Smith et al. [Sm82] were used, but additional data    ',\n",
       "  'were included in the analysis.  The prior cross section for the   ',\n",
       "  'analysis was taken from the coupled-channel analysis, described   ',\n",
       "  'above.                                                            ',\n",
       "  '   6 - 30 MeV:  The neutron total cross section from the          ',\n",
       "  'covariance analysis was revised above En=6 MeV to agree more      ',\n",
       "  'closely with the experimental data of Abfaulterer et al. [Ab00].  ',\n",
       "  'The changes were generally a lowering of the cross section        ',\n",
       "  'between 6 and 17 MeV, and an increase above 17 MeV.  The maximum  ',\n",
       "  'change was about 1.7% but generally the changes were of the order ',\n",
       "  'of a few tenths of a percent.  Additionally, the Abfaulterer data ',\n",
       "  'were used to extend the evaluation from 20 to 30 MeV.             ',\n",
       "  '                                                                  ',\n",
       "  'MT=2: ELASTIC SCATTERING CROSS SECTION                            ',\n",
       "  '   The elastic cross section is obtained by subtracting the       ',\n",
       "  'nonelastic cross section (MT=3) from the total cross section      ',\n",
       "  '(MT=1).                                                           ',\n",
       "  '                                                                  ',\n",
       "  'MT=3: NONELASTIC CROSS SECTION                                    ',\n",
       "  '   The (redundant) nonelastic cross section is the sum of the     ',\n",
       "  'following reactions: MT=4,16,17,18,37,102.                        ',\n",
       "  '                                                                  ',\n",
       "  'MT=4: INELASTIC CROSS SECTION                                     ',\n",
       "  '   Sum of MT=51-91.                                               ',\n",
       "  '                                                                  ',\n",
       "  'MT=16: (n,2n) CROSS SECTION                                       ',\n",
       "  '    Based on a combination of results from the GNASH calculations ',\n",
       "  '(see above), the covariance analysis used for the ENDF/B-VI       ',\n",
       "  'analysis, and new experimental data.  The ENDF/B-VI covariance    ',\n",
       "  'analysis included the measurements of (Ba66), (Fr80), (Ko80),     ',\n",
       "  '(Yo78), (Ma69), (Ma72), (Ka79), (La73), (Ro57), (Ph56), (Pe61),   ',\n",
       "  '(Ve78), (An58), and (Ry80). It utilized the GLUCS code of Hetrick ',\n",
       "  'and Fu (He80).                                                    ',\n",
       "  '                                                                  ',\n",
       "  'MT=17: (n,3n) CROSS SECTION                                       ',\n",
       "  '   Same comment as MT=16. In this case the experimental data of   ',\n",
       "  '(Fr80), (Wh62), (Ro57), (Ma69), (Al61), and (Ve78) were used in   ',\n",
       "  'the covariance analysis.                                          ',\n",
       "  '                                                                  ',\n",
       "  'MT=18: FISSION NEUTRON CROSS SECTION                              ',\n",
       "  '   20 keV - 1.0 MeV:  The fission cross section in this energy    ',\n",
       "  'range is the same as ENDF/B-VI. That is, it is based on the       ',\n",
       "  'unresolved resonance parameter analysis of Froehner and Poenitz   ',\n",
       "  '(Fr88,Po81) and on the ENDF/B-VI standards analysis, which is     ',\n",
       "  'similar to the ENDF/B-VII analysis at these energies.             ',\n",
       "  '   1.0 - 30.0 MeV:  The fission cross section in the energy       ',\n",
       "  'region above 1.0 MeV is based on results from the ENDF/B-VII      ',\n",
       "  'standards cross section analysis of Pronyaev et al. (Pr05).  The  ',\n",
       "  '238U(n,f) cross section is taken directly from the Version VII    ',\n",
       "  'standards analysis. The original standards energy grid is         ',\n",
       "  'included as a subset of a larger energy grid for the cross        ',\n",
       "  'section.  The expansion to the denser grid was accomplished using ',\n",
       "  'a spline fit to a log-log file of the 238U(n,f) data from the     ',\n",
       "  'standards analysis.                                               ',\n",
       "  '   The Q-value was changed from 198.06 MeV to 198.032 MeV to      ',\n",
       "  'maintain consistency with the MF=1,MT=458 data.                   ',\n",
       "  '                                                                  ',\n",
       "  'MT=19,20,21,38: MULTI-CHANCE FISSION CROSS SECTIONS               ',\n",
       "  '   The ratios of the multi-chance fission cross sections to the   ',\n",
       "  'total fission cross section were obtained from GNASH              ',\n",
       "  'calculations.  The evaluated multi-chance fission cross sections  ',\n",
       "  'were then obtained by multiplying the MT=18 total fission cross   ',\n",
       "  'section by the ratios.                                            ',\n",
       "  '   The Q-value was changed from 198.06 MeV to 198.032 MeV to      ',\n",
       "  'maintain consistency with the MF=1,MT=458 data.                   ',\n",
       "  '                                                                  ',\n",
       "  'MT=37: (n,4n) CROSS SECTION                                       ',\n",
       "  '   Threshold to 20 MeV, taken directly from the GNASH analysis    ',\n",
       "  'described above.  Above about 25 MeV, it also includes the        ',\n",
       "  '238U(n,5n) cross section.                                         ',\n",
       "  '                                                                  ',\n",
       "  'MT=51-71 DISCRETE INELASTIC LEVEL CROSS SECTIONS                  ',\n",
       "  '   Coupled channel optical model calculations were performed with ',\n",
       "  'the ECIS96 code for the lowest 3 members of the U238 ground state ',\n",
       "  'rotational band (MT=2,51,52), including compound nucleus          ',\n",
       "  'contributions. These calculations were also used to provide       ',\n",
       "  'neutron transmission coefficients for nuclear reaction theory     ',\n",
       "  'calculations with the GNASH (Yo98) and COMNUC (Du71) Hauser-      ',\n",
       "  'Feshbach statistical-fission-preequilibrium codes.  See           ',\n",
       "  'description above under GENERAL INFORMATION. These latter theory  ',\n",
       "  'calculations were used to provide the MT=54-72 inelastic cross    ',\n",
       "  'sections, and separate coupled-channels calculations were         ',\n",
       "  'utilized for MT=53. Several of the low-lying level cross sections ',\n",
       "  'were modified somewhat, primarily to optimize agreement with      ',\n",
       "  'experimental data.                                                ',\n",
       "  '                                                                  ',\n",
       "  'MT=72-90: DISCRETE INELASTIC LEVEL CROSS SECTIONS (DIRECT         ',\n",
       "  '          REACTIONS TO GROUPS OF STATES)                          ',\n",
       "  \"   The cross section values in MT=72-90 are based upon Baba's     \",\n",
       "  'neutron emission cross section data (Ba89) at 14 MeV for n + 238U ',\n",
       "  'reactions. To accomplish this, new DWBA calculations were run     ',\n",
       "  'with the ECIS96 code, assuming the direct reactions occur mainly  ',\n",
       "  'to 2+ or 3- vibrational states, and deformation parameters were   ',\n",
       "  'determined by matching the 14-MeV Baba data.  The specific J,Pi   ',\n",
       "  'assignments were made initially on the basis of the magnitude of  ',\n",
       "  'the cross sections but were adjusted by trial and error to best   ',\n",
       "  'accommodate the 14-MeV data. The cross section for each MT number ',\n",
       "  'in this range should be interpreted as the integrated cross       ',\n",
       "  'section for several levels populated by direct reactions in the   ',\n",
       "  'neighborhood of the excitation energy given for the MT number.    ',\n",
       "  '   The DWBA calculations were used to extrapolate the 14-MeV      ',\n",
       "  'cross sections to lower and higher energies, and to obtain the    ',\n",
       "  'MF=4 angular distributions for each assumed state. The spins,     ',\n",
       "  'parities, and deformation parameters used in the calculations are ',\n",
       "  'given in the table below. These results affect the evaluation in  ',\n",
       "  'the excitation energy range Ex=1.17-3.91 MeV.                     ',\n",
       "  '                                                                  ',\n",
       "  '  MT    Ex (MeV)    J   Pi    Beta                                ',\n",
       "  '      0.00000000   0.0  +1  0.0000E+00                            ',\n",
       "  '  72  1.17000000   3.0  -1  3.8087E-02                            ',\n",
       "  '  73  1.25000000   2.0  +1  3.0175E-02                            ',\n",
       "  '  74  1.44000000   3.0  -1  5.6001E-02                            ',\n",
       "  '  75  1.59000000   3.0  -1  3.8111E-02                            ',\n",
       "  '  76  1.75000000   3.0  -1  3.9460E-02                            ',\n",
       "  '  77  1.85000000   3.0  -1  3.5265E-02                            ',\n",
       "  '  78  1.95000000   3.0  -1  4.0750E-02                            ',\n",
       "  '  79  2.15000000   3.0  -1  4.7400E-02                            ',\n",
       "  '  80  2.30000000   3.0  -1  5.3002E-02                            ',\n",
       "  '  81  2.39000000   4.0  +1  8.8154E-03                            ',\n",
       "  '  82  2.49000000   2.0  +1  2.5122E-02                            ',\n",
       "  '  83  2.94000000   2.0  +1  2.7150E-02                            ',\n",
       "  '  84  3.18900000   2.0  +1  2.5287E-02                            ',\n",
       "  '  85  3.38800000   2.0  +1  2.5070E-02                            ',\n",
       "  '  86  3.53800000   2.0  +1  1.5390E-02                            ',\n",
       "  '  87  3.63700000   2.0  +1  1.6125E-02                            ',\n",
       "  '  88  3.73700000   2.0  +1  1.6472E-02                            ',\n",
       "  '  89  3.83700000   2.0  +1  1.4293E-02                            ',\n",
       "  '  90  3.90900000   2.0  +1  1.5091E-02                            ',\n",
       "  '                                                                  ',\n",
       "  'MT=91:  INELASTIC CONTINUUM NEUTRON CROSS SECTION                 ',\n",
       "  '   Based on the GNASH Hauser-Feshbach statistical/preequilibrium  ',\n",
       "  'calculations, described above. Note that MT=91 thresholds at 1.11 ',\n",
       "  'MeV.  Therefore, discrete states with excitation energies above   ',\n",
       "  '1.11 MeV (MT=72-90) lie in the MT=91 continuum region.            ',\n",
       "  '                                                                  ',\n",
       "  'MT=102: NEUTRON RADIATIVE CAPTURE CROSS SECTION                   ',\n",
       "  '   10 to 149 keV:  Based on the ENDF/B-VI (Release 8) unresolved  ',\n",
       "  'resonance parameter evaluation by Froehner and Poenitz (see       ',\n",
       "  'Fr88,Po81). That evaluation is based on a FITACS fit to the       ',\n",
       "  'experimental data.                                                ',\n",
       "  '   0.15 to 2.2 MeV:  Based on the simultaneous standards analysis ',\n",
       "  'by Pronyaev et al. (Pr05).                                        ',\n",
       "  '   2.2 - 30 MeV:  Follows the JENDL-3.0 evaluation.  The results  ',\n",
       "  'in the 8-14 MeV range agree closely with the measurements of      ',\n",
       "  'McDaniels et al. (Mc82) and Drake et al. (Dr71).                  ',\n",
       "  '                                                                  ',\n",
       "  '             ----- REFERENCES (MF=3) -----                        ',\n",
       "  'Al61 K. Allen et al., J.Nuc.En. 14, 100 (1961).                   ',\n",
       "  'An58 G. Antropov et al., At.En. 5, 456 (1958).                    ',\n",
       "  'Ba66 D. Barr, Los Aalamos National Lab., private communication    ',\n",
       "  '     to R.Howerton (1966).                                        ',\n",
       "  'Ba65 R. Batchelor et al., Nuc.Phys. 65, 236 (1965).               ',\n",
       "  'Ba89 M. Baba, H. Wakabayashi, N. Itoh, K. Maeda, and N. Hirakawa, ',\n",
       "  '     \"Measurements of Prompt Fission Neutron Spectra and Double-  ',\n",
       "  '     Differential Neutron Inelastic Scattering Cross Sections for ',\n",
       "  '     238-U and 232-Th,\" IAEA Int. Nucl. Data report INDC(JPN)-129 ',\n",
       "  '     (1989).                                                      ',\n",
       "  'Br58 A. Bratenahl et al., Phys.Rev. 110, 927 (1958).              ',\n",
       "  'Ca73 J. Cabe et al., CEN Saclay report CEA-R-4524 (1973).         ',\n",
       "  'Ca85 A. Carlson et al., Nucl. Data for Basic & Applied Science,   ',\n",
       "  '     Proc.Conf., Santa Fe, NM 1985 [] p.1429.                     ',\n",
       "  'Di80 F.C. Difillippo et al., Phys.Rev.C 21, 1400 (1980).          ',\n",
       "  'Dr71 D. Drake, M. I. Bergqvist, and D. K. McDaniels, Phys. Lett.  ',\n",
       "  '     B36, 557 (1971).                                             ',\n",
       "  'Du71 C.L.Dunford, \"Compound Nucleus Reaction Analysis Programs    ',\n",
       "  '     COMNUC and CASCADE,\" Atomics International North American    ',\n",
       "  '     Rockwell report AI-AEC-12931 (document no. TI-707-130-013)   ',\n",
       "  '     (February, 1971).                                            ',\n",
       "  'Fo71 D. Foster and D. Glasgow, Phys.Rev.C 3, 576 (1971).          ',\n",
       "  'Fr80 J. Frehaut et al., Nucl.Sci.Eng. 74, 29 (1980); J. Frehaut   ',\n",
       "  '     et al., Brookhaven National Lab. report BNL-NCS-512457       ',\n",
       "  '     (1980) p.399.                                                ',\n",
       "  'Fr86 J. Frehaut, NEANDC(E) 238/L (1986).                          ',\n",
       "  'Fr88 F. H. Frohner, Nucl. Sci. and Eng.,103 (1988); F. H.         ',\n",
       "  '     Frohner, Proc. Int. Conf. on Reactor Phys., Jackson Hole,    ',\n",
       "  '     Wyoming (1988) Vol. III, p. 171.                             ',\n",
       "  'Ha73 S. Hayes et al., Nuc.Sci.Eng. 50, 243 (1973).                ',\n",
       "  'He80 D. Hetrick and C.Y. Fu, Oak Ridge National Lab. report       ',\n",
       "  '     ORNL/TM-7341 (1980).                                         ',\n",
       "  'Ka78 R. Kaiser and S. Carpenter (ANL-West) private                ',\n",
       "  '     communication (1978).                                        ',\n",
       "  'Ka88 C. Kalbach, \"Systematics of Continuum Angular                ',\n",
       "  '     Distributions: Extensions to Higher Energies,\" Phys.Rev.C    ',\n",
       "  '     37, 2350 (1988); see also C. Kalbach and F. M. Mann,         ',\n",
       "  '     \"Phenomenology of Continuum Angular Distributions. I.        ',\n",
       "  '     Systematics and Parameterization,\" Phys.Rev.C 23, 112        ',\n",
       "  '     (1981).                                                      ',\n",
       "  'Ko80 N. Kornilov et al., report ZFK-410 (1980) p.68.              ',\n",
       "  'La73 J. Landrum et al., Phys.Rev.C 8, 1938 (1973).                ',\n",
       "  'Li79 P. Lisowski et al., (LANL WNR measurement) private           ',\n",
       "  '     communication (1979).                                        ',\n",
       "  'Ma69 D. Mather, report AWRE-O-47 (1969).                          ',\n",
       "  'Ma72 D. Mather et al., report AWRE-O-72 (1972).                   ',\n",
       "  'Mc82 D. K. McDaniels, P. Varghese, D. M. Drake, E. Arthur, A.     ',\n",
       "  '     Lindholm, M. I. Bergqvist, and J. Krumlinde, Nuc. Phys.      ',\n",
       "  '     A384, 88 (1982).                                             ',\n",
       "  'Pe60 J. Peterson et al., Phys.Rev. 120, 521 (1960).               ',\n",
       "  'Pe61 J. Perkin, J.Nuc.En. 14, 69 (1961).                          ',\n",
       "  'Ph56 J. Phillips, report AERE-NP/R-2033 (1956).                   ',\n",
       "  'Po81 W. P. Poenitz, L.R. Fawcett Jr and D.L. Smith, Nucl. Sci.    ',\n",
       "  '     Eng., 78, (1981) 239-247.                                    ',\n",
       "  'Po83 W.Poenitz et al., Argonne National Lab. report               ',\n",
       "  '     ANL-NDM-80 (1983).                                           ',\n",
       "  'Po89 W. Poenitz, ANL-West, private communication (1989).          ',\n",
       "  'Pr05 V.G. Pronyaev, S.A.Badikov, A.D. Carlson, Z. Chen, E.V. Gai, ',\n",
       "  '     G.M. Hale, F.-J. Hambsch, H.M. Hofmann, T. Kawano, N.M.      ',\n",
       "  '     Larson, S.-Y. Oh, D.L. Smith, S. Tagesen, and H. Vonach,     ',\n",
       "  '     personal communication (2005); see also: \"An International   ',\n",
       "  '     Evaluation of the Neutron Cross Section Standards,\" to be    ',\n",
       "  '     published as an IAEA Technical report (2006).                ',\n",
       "  'Ra94 J. Raynal, \"Notes on ECIS94,\" Centre d\\'Etudes Nucleaires     ',\n",
       "  '     (Saclay) report CEA-N-2772 (1994).                           ',\n",
       "  'Ro57 L. Rosen et al., Los Alamos National Lab. report LA-2111     ',\n",
       "  '     (1958).                                                      ',\n",
       "  'Ry80 T. Ryves, J.Phys.G 6, 771 (1980).                            ',\n",
       "  'Sc74 R. Schwartz et al., Nuc.Sci.Eng. 54, 322 (1974).             ',\n",
       "  'Sh78 R. Shamu et al., private communication (1978).               ',\n",
       "  'Sl77 R. Slovacek et al., Nuc.Sci.Eng. 62, 455 (1977).             ',\n",
       "  'Sm82 A. Smith et al., Argonne National Lab. report ANL/NDM-74     ',\n",
       "  '     (1982).                                                      ',\n",
       "  'Ut66 C. Uttley et al., Paris Conf. (1966) vol.1, p.165.           ',\n",
       "  'Ve78 L. Veeser and E. Arthur, Harwell Nuc.Data Conf. (1978)       ',\n",
       "  '     p 1054.                                                      ',\n",
       "  'Wh62 P. White et al., J.Nuc.En.A/B 16, 261 (1962).                ',\n",
       "  'Wh71 J. Whalen et al., Argonne National Lab. report ANL-7710      ',\n",
       "  '     (1971) p.9.                                                  ',\n",
       "  'Yo78 Chou You-Pu, report HSJ-77091 (1978).                        ',\n",
       "  'Yo94 P. G. Young, \"Experience at Los Alamos with Use of the       ',\n",
       "  '     Optical Model for Applied Nuclear Data Calculations,\" Los    ',\n",
       "  '     Alamos National Laboratory report LA-UR-94-3104 (1994).      ',\n",
       "  'Yo96 P. G. Young, E. D. Arthur, and M. B. Chadwick,               ',\n",
       "  '     \"Comprehensive Nuclear Model Calculations: Theory and Use of ',\n",
       "  '     the GNASH Code,\" Proc. Workshop on Nuclear Reaction Data and ',\n",
       "  '     Nuclear Reactors, ICTP, Trieste, Italy, 15 April - 17 May    ',\n",
       "  '     1996 [Ed: A. Gandini and G. Reffo, World Scientific Publ.    ',\n",
       "  '     Co., Singapore (1999)] p. 227-404 (LA-UR-96-3739).           ',\n",
       "  'Yo04 P. G. Young, M. B. Chadwick, R. E. MacFarlane, P. Talou, T.  ',\n",
       "  '     Kawano, D. G. Madland, and W. B. Wilson, \"Analysis and       ',\n",
       "  '     Evaluation of Neutron Reactions on 238U,\" Los Alamos         ',\n",
       "  '     National Laboratory report LA-UR-04-6456 (2004).             ',\n",
       "  '                                                                  ',\n",
       "  '>> MF=4 ANGULAR DISTRIBUTIONS OF SECONDARY PARTICLES              ',\n",
       "  '                                                                  ',\n",
       "  'MT=2: NEUTRON ELASTIC SCATTERING ANGULAR DISTRIBUTIONS            ',\n",
       "  '   1.e-5 eV - 10.0 MeV:   Elastic scattering angular distribution ',\n",
       "  'up to 10 MeV are taken from the evaluation of Maslov (Ma03).      ',\n",
       "  '   10 - 30 MeV:  Elastic angular distributions are based on the   ',\n",
       "  'coupled-channels optical model calculations with the ECIS96 code  ',\n",
       "  '(Ra94,Yo94) of the lowest 3 members of the ground-state           ',\n",
       "  'rotational band, described above.  The calculations include       ',\n",
       "  'direct and compound elastic contributions.                        ',\n",
       "  '                                                                  ',\n",
       "  'MT=51-53: DISCRETE INELASTIC NEUTRON ANGULAR DISTRIBUTIONS FOR    ',\n",
       "  '          THE GROUND-STATE ROTATIONAL BAND                        ',\n",
       "  '   Threshold to 30.0 MeV:  Angular distributions again are based  ',\n",
       "  'on coupled-channels optical model calculations with the ECIS96    ',\n",
       "  'code (Ra94) of the ground-state rotational band, described above, ',\n",
       "  'including direct and compound elastic contributions.              ',\n",
       "  '                                                                  ',\n",
       "  'MT=54-71: DISCRETE INELASTIC NEUTRON ANGULAR DISTRIBUTIONS        ',\n",
       "  '   Threshold to 30.0 MeV:  Angular distributions determined from  ',\n",
       "  'Hauser-Feshbach calculations with the COMNUC code (Du71) and      ',\n",
       "  'preequilibrium calculations with the GNASH code (Yo98). Above     ',\n",
       "  'about 6 MeV, the angular distribution shapes are entirely from    ',\n",
       "  'preequilibrium calculations.                                      ',\n",
       "  '                                                                  ',\n",
       "  'MT=72-90: DISCRETE INELASTIC NEUTRON ANGULAR DISTRIBUTIONS FOR    ',\n",
       "  '          DIRECT REACTIONS                                        ',\n",
       "  '   Threshold to 30.0 MeV:  DWBA calculations were run with the    ',\n",
       "  'ECIS96 code (Ra94), assuming the direct reactions occurred mainly ',\n",
       "  'to 2+ or 3- vibrational states.  See description under MF=3,      ',\n",
       "  'MT=72-90. Deformation parameters were determined by matching the  ',\n",
       "  '14-MeV Baba data (Ba89), and the angular distributions are        ',\n",
       "  'generally consistent with those of the Baba data.                 ',\n",
       "  '                                                                  ',\n",
       "  '            ----- REFERENCES (MF=4) -----                         ',\n",
       "  'Ba89 M. Baba, H. Wakabayashi, N. Itoh, K. Maeda, and N. Hirakawa, ',\n",
       "  '     \"Measurements of Prompt Fission Neutron Spectra and Double-  ',\n",
       "  '     Differential Neutron Inelastic Scattering Cross Sections for ',\n",
       "  '     238-U and 232-Th,\" IAEA Int. Nucl. Data report INDC(JPN)-129 ',\n",
       "  '     (1989).                                                      ',\n",
       "  'Du71 C.L.Dunford, \"Compound Nucleus Reaction Analysis Programs    ',\n",
       "  '     COMNUC and CASCADE,\" Atomics International North American    ',\n",
       "  '     Rockwell report AI-AEC-12931 (document no. TI-707-130-013)   ',\n",
       "  '     (February, 1971).                                            ',\n",
       "  'Ma03 V. Maslov, Yu. V. Porodzinskij, N. A. Tetereva, A. B.        ',\n",
       "  '     Tagalenko, N. V. Kornilov, M. Baba, and A. Hasegawa,         ',\n",
       "  '     \"Neutron Data Evaluation of 238U,\" International Atomic      ',\n",
       "  '     Energy Agency report INDC(BLR)-014, March, 2003.             ',\n",
       "  'Ra94 J. Raynal, \"Notes on ECIS94,\" Centre d\\'Etudes Nucleaires     ',\n",
       "  '     (Saclay) report CEA-N-2772 (1994).                           ',\n",
       "  'Yo94 P. G. Young, \"Experience at Los Alamos with Use of the       ',\n",
       "  '     Optical Model for Applied Nuclear Data Calculations,\" Los    ',\n",
       "  '     Alamos National Laboratory report LA-UR-94-3104 (1994).      ',\n",
       "  'Yo98 P. G. Young, E. D. Arthur, and M. B. Chadwick,               ',\n",
       "  '     \"Comprehensive Nuclear Model Calculations: Theory and Use of ',\n",
       "  '     the GNASH Code,\" Proc. Workshop on Nuclear Reaction Data and ',\n",
       "  '     Nuclear Reactors, ICTP, Trieste, Italy, 15 April - 17 May    ',\n",
       "  '     1996 [Ed: A. Gandini and G. Reffo, World Scientific Publ.    ',\n",
       "  '     Co., Singapore (1998)] p. 227-404.                           ',\n",
       "  '                                                                  ',\n",
       "  '>> MF=5 ENERGY DISTRIBUTIONS OF SECONDARY PARTICLES               ',\n",
       "  '                                                                  ',\n",
       "  'MT=18: PROMPT FISSION NEUTRON SPECTRUM MATRIX                     ',\n",
       "  '   Prompt fission neutron spectrum matrix for the n + 238U system ',\n",
       "  'was calculated (Ma02) using the Los Alamos (Madland-Nix) model    ',\n",
       "  '(MN82) in its exact formulation with energy-dependent compound    ',\n",
       "  'nucleus formation cross sections for the inverse processes. The   ',\n",
       "  'matrix includes first-, second-, third-, and fourth-chance        ',\n",
       "  'fission components and also includes the neutrons emitted prior   ',\n",
       "  'to fission in second-, third-, and fourth-chance fission. The     ',\n",
       "  'tabulated distribution law (LF=1) is used.                        ',\n",
       "  '   The matrix contains vectors (spectra) for 24 incident neutron  ',\n",
       "  'energies inducing the fission. These are:                         ',\n",
       "  '        0.0 0.5 1.0 1.5 2.0 2.5 3.0 4.0 5.0 6.0 7.0 8.0 9.0 10.0  ',\n",
       "  '        11.0 12.0 13.0 14.0 15.0 16.0 17.0 18.0 19.0 20.0 MeV     ',\n",
       "  '   Until more experimental data become available, spectra for     ',\n",
       "  'incident neutron energies above 20 MeV can be roughly             ',\n",
       "  'approximated by using the 20 MeV spectrum.  An average over the   ',\n",
       "  'spectra from 13 MeV to 18 MeV would be a better approximation.    ',\n",
       "  'The 30-MeV spectrum in the evaluation is the same as the 20-MeV   ',\n",
       "  'spectrum.                                                         ',\n",
       "  '   The multiple-chance fission average prompt neutron             ',\n",
       "  'multiplicity was calculated simultaneously and, in reproducing    ',\n",
       "  'experiment, was important in determining the matrix.              ',\n",
       "  '   The lowest incident neutron energy for a measured fission      ',\n",
       "  'cross section for n + 238U is just under 2 eV with a value of     ',\n",
       "  'about 5 microbarns.                                               ',\n",
       "  '                                                                  ',\n",
       "  'MT=455: DELAYED NEUTRON EMISSION SPECTRA FROM FISSION             ',\n",
       "  '   The abundances are based on the new delayed-neutron            ',\n",
       "  'calculations (Wi05) described under MF=1, MT=455. However, the    ',\n",
       "  'earlier six-group spectra from ENDF/B-VI are carried over to      ',\n",
       "  'ENDF/B-VII because new multigroup spectra have not yet been       ',\n",
       "  'calculated with the new library.                                  ',\n",
       "  '                                                                  ',\n",
       "  '           ----- REFERENCES (MF=5) -----                          ',\n",
       "  'Ma02 D. G. Madland, private communication, 12 December 2002.      ',\n",
       "  'MN82 D. G. Madland and J. R. Nix, Nucl. Sci. Eng. 81 (1982)       ',\n",
       "  '     213-271.                                                     ',\n",
       "  'Wi05 W. B. Wilson, personal communication, 2005.                  ',\n",
       "  '                                                                  ',\n",
       "  '>> MF=6 PRODUCT ENERGY-ANGULAR DISTRIBUTIONS                      ',\n",
       "  '                                                                  ',\n",
       "  'MT=16,17,37: (n,xn) CONTINUUM DISTRIBUTIONS                       ',\n",
       "  '   Based on the GNASH Hauser-Feshbach statistical/preequilibrium  ',\n",
       "  'calculations described above. Updated Kalbach-Mann systematics    ',\n",
       "  'are used for specifying neutron distributions (Ka88). Only        ',\n",
       "  'neutron distributions are given.                                  ',\n",
       "  '                                                                  ',\n",
       "  \"MT=91: (n,n') CONTINUUM DISTRIBUTIONS                             \",\n",
       "  '   Based on the GNASH Hauser-Feshbach statistical/preequilibrium  ',\n",
       "  'calculations described above. Updated Kalbach-Mann systematics    ',\n",
       "  'are used for specifying neutron distributions (Ka88). Only        ',\n",
       "  'neutron distributions are given.                                  ',\n",
       "  '                                                                  ',\n",
       "  '         ----- REFERENCES (MF=6) -----                            ',\n",
       "  'Ka88 C. Kalbach, \"Systematics of Continuum Angular                ',\n",
       "  '     Distributions: Extensions to Higher Energies,\" Phys.Rev.C    ',\n",
       "  '     37, 2350 (1988); see also C. Kalbach and F. M. Mann,         ',\n",
       "  '     \"Phenomenology of Continuum Angular Distributions. I.        ',\n",
       "  '     Systematics and Parameterization,\" Phys.Rev.C 23, 112        ',\n",
       "  '     (1981).                                                      ',\n",
       "  '                                                                  ',\n",
       "  '>> MF=12 PHOTON PRODUCTION MULTIPLICITIES AND TRANSITION          ',\n",
       "  '         PROBABILITIES                                            ',\n",
       "  '                                                                  ',\n",
       "  'MT=18,102: PHOTON MULTIPLICITIES FROM INELASTIC SCATTERING,       ',\n",
       "  '           FISSION, AND RADIATIVE CAPTURE                         ',\n",
       "  '   Taken from ENDF/B-V.2. See reference Po77.                     ',\n",
       "  '                                                                  ',\n",
       "  '>> MF=13 PHOTON PRODUCTION CROSS SECTIONS                         ',\n",
       "  '                                                                  ',\n",
       "  'MT=3: PHOTON PRODUCTION CROSS SECTIONS FROM NONELASTIC REACTIONS  ',\n",
       "  '   Taken from ENDF/B-V.2. See reference Po77. An exception is     ',\n",
       "  'that the yield for MT=18 is changed from 8.18 to 7.5326 in order  ',\n",
       "  'to maintain consistency with the MF=1,MT=458 data.                ',\n",
       "  '                                                                  ',\n",
       "  '>> MF=14 PHOTON ANGULAR DISTRIBUTIONS                             ',\n",
       "  '                                                                  ',\n",
       "  'MT=3,18,102: PHOTON ANGULAR DISTRIBUTIONS FROM NONELASTIC,        ',\n",
       "  '             FISSION, AND RADIATIVE CAPTURE REACTIONS             ',\n",
       "  '   Taken from ENDF/B-V.2. See reference Po77.                     ',\n",
       "  '                                                                  ',\n",
       "  '>> MF=15 CONTINUOUS PHOTON ENERGY SPECTRA                         ',\n",
       "  '                                                                  ',\n",
       "  'MT = 3,18,102: PHOTON ENERGY SPECTRA FROM NONELASTIC REACTIONS,   ',\n",
       "  '               FISSION AND RADIATIVE CAPTURE                      ',\n",
       "  '   Taken from ENDF/B-V.2. See reference Po77.                     ',\n",
       "  '                                                                  ',\n",
       "  '            ----- REFERENCES (MF=12-15) -----                     ',\n",
       "  'Po77 W. Poenitz, E. Pennington, A. Smith, and R. Howerton,        ',\n",
       "  '     \"Evaluated Fast Neutron Cross Sections of Uranium-238,\"      ',\n",
       "  '     Argonne National Laboratory report ANL-ADM-32                ',\n",
       "  '     (October, 1977).                                             ',\n",
       "  '                                                                  ',\n",
       "  '>> MF=33 CROSS-SECTION COVARIANCE MATRICES                        ',\n",
       "  '                                                                  ',\n",
       "  '>>> MF=33 RESONANCE PARAMETER COVARIANCE (ORNL)                   ',\n",
       "  '                                                                  ',\n",
       "  'Resonance parameter covariance was generated in the resolved      ',\n",
       "  'energy region (1.0-5 eV to 20.0 keV) with the computer code SAMMY ',\n",
       "  'at ORNL. Experimental data and uncertainties were used to generate',\n",
       "  'covariance data. SAMMY covariance information was converted in    ',\n",
       "  'the ENDF FILE32 representation. However, because of computer      ',\n",
       "  'storage concern the FILE32 was converted into the FILE33 (MT=1,   ',\n",
       "  '2, 18, and 102) representation with reduced computer storage but  ',\n",
       "  'approximating the features of the FILE32 representation. The full ',\n",
       "  'FILE32 matrices can be obtained directly from ORNL. The           ',\n",
       "  'conversion was done with the PUFF-IV code. Above the unresolved   ',\n",
       "  'resonance region (> 20.0 keV) covariance data were generated at   ',\n",
       "  'LANL. Uncertainty on nubar was also generated at LANL.            ',\n",
       "  '                                                                  ',\n",
       "  '>>> MF=33 FAST-ENERGY COVARIANCE (LANL)                           ',\n",
       "  '                                                                  ',\n",
       "  'Cross-section covariance matrices in the fast energy region were  ',\n",
       "  'obtained through a combination of nuclear reaction sensitivity    ',\n",
       "  'calculations using the GNASH code, and available information on   ',\n",
       "  'experimental uncertainties for some of the cross sections. The    ',\n",
       "  'sensitivity of GNASH results on the choice of model parameters    ',\n",
       "  'was assessed, and the KALMAN code (Ka97) was used to merge        ',\n",
       "  'sensitivity calculations with experimental uncertainties.         ',\n",
       "  '                                                                  ',\n",
       "  'Prompt (MT456) and total (MT452) neutron multiplicity covariance  ',\n",
       "  'matrices were obtained from a generalized least-squares study of  ',\n",
       "  'experimental data alone, and no model calculation were used.      ',\n",
       "  '                                                                  ',\n",
       "  'More details on this work can be found in (Ta08).                 ',\n",
       "  '                                                                  ',\n",
       "  '        ------------- REFERENCES (MF=33) ---------------          ',\n",
       "  'Ka97 T.Kawano and K.Shibata, \"Covariance Evaluation System\"       ',\n",
       "  '     JAERI-Data/Code 97-037, 1997 (in Japanese).                  ',\n",
       "  'Ta08 P.Talou, T.Kawano and P.G.Young, \"Covariance matrices for    ',\n",
       "  '     ENDF/B-VII 235,238U and 239Pu evaluated files in the fast    ',\n",
       "  '     energy range\", Proc. of the ND2007 Conference, April 22-27,  ',\n",
       "  '     2007, Nice, France. [Los Alamos report LA-UR-07-2501].       ',\n",
       "  '                                                                  ',\n",
       "  '                                                                  ',\n",
       "  '>>> MF=35 PROMPT FISSION NEUTRON SPECTRUM COVARIANCE (LANL)       ',\n",
       "  '                                                                  ',\n",
       "  'MT=18: A covariance matrix was evaluated for the prompt fission   ',\n",
       "  'neutron spectrum (MF5,MT18) at 0.5 MeV incident neutron energy.   ',\n",
       "  'A combination of Madland-Nix model calculations and experimental  ',\n",
       "  'data (for U235) were used in a Bayesian filter to obtain the      ',\n",
       "  'covariance matrix. The calculated spectrum was very close to the  ',\n",
       "  'evaluated one, but the covariance matrix was still renormalized   ',\n",
       "  'to insure the required zero-sum rule.                             ',\n",
       "  '                                                                  ',\n",
       "  ' ************************ C O N T E N T S *********************** '],\n",
       " 'energy_max': 30000000.0,\n",
       " 'format': 6,\n",
       " 'identifier': ['----ENDF/B-VII.1      MATERIAL 9237         REVISION 2            ',\n",
       "  '-----INCIDENT NEUTRON DATA                                        ',\n",
       "  '------ENDF-6 FORMAT                                               '],\n",
       " 'laboratory': 'ORNL,LANL+ ',\n",
       " 'library': ('ENDF/B', 7, 1),\n",
       " 'modification': 5,\n",
       " 'reference': '                     ',\n",
       " 'sublibrary': 10}"
      ]
     },
     "execution_count": 21,
     "metadata": {},
     "output_type": "execute_result"
    }
   ],
   "source": [
    "u235.info"
   ]
  },
  {
   "cell_type": "code",
   "execution_count": 22,
   "metadata": {
    "scrolled": true
   },
   "outputs": [
    {
     "data": {
      "text/plain": [
       "{'atomic_number': 92,\n",
       " 'excitation_energy': 0.0,\n",
       " 'fissionable': True,\n",
       " 'isomeric_state': 0,\n",
       " 'mass': 236.0058,\n",
       " 'mass_number': 238,\n",
       " 'stable': False,\n",
       " 'state': 0,\n",
       " 'temperature': 0.0,\n",
       " 'zsymam': ' 92-U -238 '}"
      ]
     },
     "execution_count": 22,
     "metadata": {},
     "output_type": "execute_result"
    }
   ],
   "source": [
    "u235.target"
   ]
  },
  {
   "cell_type": "code",
   "execution_count": 25,
   "metadata": {},
   "outputs": [
    {
     "data": {
      "text/plain": [
       "[(1, 451, 865, 5),\n",
       " (1, 452, 7, 5),\n",
       " (1, 455, 7, 5),\n",
       " (1, 456, 7, 5),\n",
       " (1, 458, 11, 4),\n",
       " (2, 151, 3454, 5),\n",
       " (3, 1, 135, 5),\n",
       " (3, 2, 135, 5),\n",
       " (3, 3, 135, 5),\n",
       " (3, 4, 62, 5),\n",
       " (3, 16, 30, 5),\n",
       " (3, 17, 22, 5),\n",
       " (3, 18, 99, 5),\n",
       " (3, 19, 99, 5),\n",
       " (3, 20, 32, 5),\n",
       " (3, 21, 25, 5),\n",
       " (3, 37, 13, 5),\n",
       " (3, 38, 20, 5),\n",
       " (3, 51, 62, 5),\n",
       " (3, 52, 59, 5),\n",
       " (3, 53, 55, 5),\n",
       " (3, 54, 51, 5),\n",
       " (3, 55, 49, 5),\n",
       " (3, 56, 49, 5),\n",
       " (3, 57, 48, 5),\n",
       " (3, 58, 47, 5),\n",
       " (3, 59, 46, 5),\n",
       " (3, 60, 46, 5),\n",
       " (3, 61, 45, 5),\n",
       " (3, 62, 45, 5),\n",
       " (3, 63, 45, 5),\n",
       " (3, 64, 44, 5),\n",
       " (3, 65, 44, 5),\n",
       " (3, 66, 43, 5),\n",
       " (3, 67, 43, 5),\n",
       " (3, 68, 42, 5),\n",
       " (3, 69, 42, 5),\n",
       " (3, 70, 42, 5),\n",
       " (3, 71, 41, 5),\n",
       " (3, 72, 40, 5),\n",
       " (3, 73, 39, 5),\n",
       " (3, 74, 37, 5),\n",
       " (3, 75, 36, 5),\n",
       " (3, 76, 35, 5),\n",
       " (3, 77, 34, 5),\n",
       " (3, 78, 33, 5),\n",
       " (3, 79, 32, 5),\n",
       " (3, 80, 31, 5),\n",
       " (3, 81, 30, 5),\n",
       " (3, 82, 30, 5),\n",
       " (3, 83, 28, 5),\n",
       " (3, 84, 27, 5),\n",
       " (3, 85, 26, 5),\n",
       " (3, 86, 26, 5),\n",
       " (3, 87, 25, 5),\n",
       " (3, 88, 25, 5),\n",
       " (3, 89, 24, 5),\n",
       " (3, 90, 24, 5),\n",
       " (3, 91, 41, 5),\n",
       " (3, 102, 37, 5),\n",
       " (4, 2, 162, 5),\n",
       " (4, 18, 2, 0),\n",
       " (4, 51, 169, 5),\n",
       " (4, 52, 165, 5),\n",
       " (4, 53, 161, 5),\n",
       " (4, 54, 104, 5),\n",
       " (4, 55, 99, 5),\n",
       " (4, 56, 97, 5),\n",
       " (4, 57, 100, 5),\n",
       " (4, 58, 95, 5),\n",
       " (4, 59, 95, 5),\n",
       " (4, 60, 93, 5),\n",
       " (4, 61, 91, 5),\n",
       " (4, 62, 93, 5),\n",
       " (4, 63, 91, 5),\n",
       " (4, 64, 91, 5),\n",
       " (4, 65, 91, 5),\n",
       " (4, 66, 91, 5),\n",
       " (4, 67, 91, 5),\n",
       " (4, 68, 91, 5),\n",
       " (4, 69, 91, 5),\n",
       " (4, 70, 92, 5),\n",
       " (4, 71, 89, 5),\n",
       " (4, 72, 97, 5),\n",
       " (4, 73, 97, 5),\n",
       " (4, 74, 94, 5),\n",
       " (4, 75, 94, 5),\n",
       " (4, 76, 93, 5),\n",
       " (4, 77, 93, 5),\n",
       " (4, 78, 90, 5),\n",
       " (4, 79, 89, 5),\n",
       " (4, 80, 89, 5),\n",
       " (4, 81, 85, 5),\n",
       " (4, 82, 85, 5),\n",
       " (4, 83, 81, 5),\n",
       " (4, 84, 80, 5),\n",
       " (4, 85, 77, 5),\n",
       " (4, 86, 77, 5),\n",
       " (4, 87, 77, 5),\n",
       " (4, 88, 77, 5),\n",
       " (4, 89, 77, 5),\n",
       " (4, 90, 74, 5),\n",
       " (5, 18, 5431, 5),\n",
       " (5, 455, 589, 5),\n",
       " (6, 16, 1522, 5),\n",
       " (6, 17, 743, 5),\n",
       " (6, 37, 284, 5),\n",
       " (6, 91, 3515, 5),\n",
       " (12, 18, 4, 0),\n",
       " (12, 102, 4, 0),\n",
       " (13, 3, 40, 0),\n",
       " (14, 3, 1, 0),\n",
       " (14, 18, 1, 0),\n",
       " (14, 102, 1, 0),\n",
       " (15, 3, 299, 0),\n",
       " (15, 18, 32, 0),\n",
       " (15, 102, 70, 0),\n",
       " (31, 452, 7, 0),\n",
       " (31, 456, 7, 0),\n",
       " (33, 1, 167170, 0),\n",
       " (33, 2, 119140, 0),\n",
       " (33, 4, 418, 0),\n",
       " (33, 16, 140, 0),\n",
       " (33, 17, 81, 0),\n",
       " (33, 18, 71781, 0),\n",
       " (33, 102, 27660, 0),\n",
       " (35, 18, 6606, 0)]"
      ]
     },
     "execution_count": 25,
     "metadata": {},
     "output_type": "execute_result"
    }
   ],
   "source": [
    "u235.reaction_list"
   ]
  },
  {
   "cell_type": "code",
   "execution_count": 6,
   "metadata": {},
   "outputs": [
    {
     "data": {
      "text/plain": [
       "[(1, 451, 861, 7),\n",
       " (1, 452, 30, 6),\n",
       " (1, 455, 7, 7),\n",
       " (1, 456, 30, 6),\n",
       " (1, 458, 5, 3),\n",
       " (1, 460, 253745, 0),\n",
       " (2, 151, 3298, 7),\n",
       " (3, 1, 124, 7),\n",
       " (3, 2, 124, 7),\n",
       " (3, 3, 124, 7),\n",
       " (3, 4, 106, 7),\n",
       " (3, 16, 21, 6),\n",
       " (3, 17, 12, 6),\n",
       " (3, 18, 108, 7),\n",
       " (3, 19, 108, 7),\n",
       " (3, 20, 24, 6),\n",
       " (3, 21, 16, 6),\n",
       " (3, 37, 5, 6),\n",
       " (3, 38, 9, 6),\n",
       " (3, 51, 94, 6),\n",
       " (3, 52, 77, 6),\n",
       " (3, 53, 72, 6),\n",
       " (3, 54, 57, 6),\n",
       " (3, 55, 43, 6),\n",
       " (3, 56, 47, 6),\n",
       " (3, 57, 34, 7),\n",
       " (3, 58, 45, 7),\n",
       " (3, 59, 33, 7),\n",
       " (3, 60, 43, 7),\n",
       " (3, 61, 30, 7),\n",
       " (3, 62, 29, 7),\n",
       " (3, 63, 29, 7),\n",
       " (3, 64, 28, 7),\n",
       " (3, 65, 39, 7),\n",
       " (3, 66, 27, 7),\n",
       " (3, 67, 37, 7),\n",
       " (3, 68, 36, 7),\n",
       " (3, 69, 35, 7),\n",
       " (3, 70, 34, 7),\n",
       " (3, 71, 33, 7),\n",
       " (3, 72, 33, 7),\n",
       " (3, 73, 32, 7),\n",
       " (3, 74, 31, 7),\n",
       " (3, 75, 30, 7),\n",
       " (3, 76, 29, 7),\n",
       " (3, 77, 28, 7),\n",
       " (3, 78, 28, 7),\n",
       " (3, 79, 27, 7),\n",
       " (3, 80, 26, 7),\n",
       " (3, 81, 26, 7),\n",
       " (3, 82, 25, 7),\n",
       " (3, 83, 24, 7),\n",
       " (3, 84, 23, 7),\n",
       " (3, 85, 22, 7),\n",
       " (3, 86, 22, 7),\n",
       " (3, 87, 21, 7),\n",
       " (3, 88, 21, 7),\n",
       " (3, 89, 20, 7),\n",
       " (3, 90, 20, 7),\n",
       " (3, 91, 37, 7),\n",
       " (3, 102, 106, 6),\n",
       " (4, 2, 184, 6),\n",
       " (4, 18, 2, 6),\n",
       " (4, 51, 65, 6),\n",
       " (4, 52, 59, 6),\n",
       " (4, 53, 178, 6),\n",
       " (4, 54, 57, 6),\n",
       " (4, 55, 57, 6),\n",
       " (4, 56, 176, 6),\n",
       " (4, 57, 53, 7),\n",
       " (4, 58, 172, 7),\n",
       " (4, 59, 55, 7),\n",
       " (4, 60, 172, 7),\n",
       " (4, 61, 53, 7),\n",
       " (4, 62, 53, 7),\n",
       " (4, 63, 53, 7),\n",
       " (4, 64, 51, 7),\n",
       " (4, 65, 69, 7),\n",
       " (4, 66, 51, 7),\n",
       " (4, 67, 69, 7),\n",
       " (4, 68, 69, 7),\n",
       " (4, 69, 69, 7),\n",
       " (4, 70, 66, 7),\n",
       " (4, 71, 69, 7),\n",
       " (4, 72, 72, 7),\n",
       " (4, 73, 72, 7),\n",
       " (4, 74, 69, 7),\n",
       " (4, 75, 69, 7),\n",
       " (4, 76, 68, 7),\n",
       " (4, 77, 68, 7),\n",
       " (4, 78, 65, 7),\n",
       " (4, 79, 64, 7),\n",
       " (4, 80, 64, 7),\n",
       " (4, 81, 60, 7),\n",
       " (4, 82, 60, 7),\n",
       " (4, 83, 56, 7),\n",
       " (4, 84, 55, 7),\n",
       " (4, 85, 52, 7),\n",
       " (4, 86, 52, 7),\n",
       " (4, 87, 52, 7),\n",
       " (4, 88, 52, 7),\n",
       " (4, 89, 52, 7),\n",
       " (4, 90, 49, 7),\n",
       " (5, 18, 3806, 7),\n",
       " (5, 455, 589, 7),\n",
       " (6, 16, 699, 6),\n",
       " (6, 17, 210, 6),\n",
       " (6, 37, 42, 6),\n",
       " (6, 91, 1320, 6),\n",
       " (12, 4, 253, 6),\n",
       " (12, 18, 5, 6),\n",
       " (12, 102, 5, 6),\n",
       " (12, 460, 12928, 0),\n",
       " (13, 3, 8, 6),\n",
       " (14, 3, 1, 6),\n",
       " (14, 4, 1, 6),\n",
       " (14, 18, 1, 6),\n",
       " (14, 102, 1, 6),\n",
       " (14, 460, 1, 0),\n",
       " (15, 3, 127, 6),\n",
       " (15, 18, 54, 6),\n",
       " (15, 102, 58, 6),\n",
       " (31, 452, 56, 7),\n",
       " (31, 456, 233, 7)]"
      ]
     },
     "execution_count": 6,
     "metadata": {},
     "output_type": "execute_result"
    }
   ],
   "source": [
    "u235.reaction_list"
   ]
  },
  {
   "cell_type": "code",
   "execution_count": 14,
   "metadata": {
    "collapsed": true
   },
   "outputs": [],
   "source": [
    "u238_endf[1]\n",
    "total = u238_endf[1]"
   ]
  },
  {
   "cell_type": "code",
   "execution_count": 15,
   "metadata": {},
   "outputs": [
    {
     "data": {
      "text/plain": [
       "{'0K': <openmc.data.function.Tabulated1D at 0x11f2fceb8>}"
      ]
     },
     "execution_count": 15,
     "metadata": {},
     "output_type": "execute_result"
    }
   ],
   "source": [
    "total.xs"
   ]
  },
  {
   "cell_type": "code",
   "execution_count": 16,
   "metadata": {},
   "outputs": [
    {
     "data": {
      "text/plain": [
       "{}"
      ]
     },
     "execution_count": 16,
     "metadata": {},
     "output_type": "execute_result"
    }
   ],
   "source": [
    "u238_endf.energy"
   ]
  },
  {
   "cell_type": "code",
   "execution_count": 17,
   "metadata": {},
   "outputs": [
    {
     "data": {
      "text/plain": [
       "{'0K': <openmc.data.function.Tabulated1D at 0x11f2fceb8>}"
      ]
     },
     "execution_count": 17,
     "metadata": {},
     "output_type": "execute_result"
    }
   ],
   "source": [
    "u238_endf[1].xs"
   ]
  },
  {
   "cell_type": "code",
   "execution_count": 27,
   "metadata": {},
   "outputs": [
    {
     "ename": "FileNotFoundError",
     "evalue": "[Errno 2] No such file or directory: 'njoy'",
     "output_type": "error",
     "traceback": [
      "\u001b[0;31m---------------------------------------------------------------------------\u001b[0m",
      "\u001b[0;31mFileNotFoundError\u001b[0m                         Traceback (most recent call last)",
      "\u001b[0;32m<ipython-input-27-1bad3d5423ed>\u001b[0m in \u001b[0;36m<module>\u001b[0;34m()\u001b[0m\n\u001b[0;32m----> 1\u001b[0;31m \u001b[0mu238_2\u001b[0m \u001b[0;34m=\u001b[0m \u001b[0mopenmc\u001b[0m\u001b[0;34m.\u001b[0m\u001b[0mdata\u001b[0m\u001b[0;34m.\u001b[0m\u001b[0mIncidentNeutron\u001b[0m\u001b[0;34m.\u001b[0m\u001b[0mfrom_njoy\u001b[0m\u001b[0;34m(\u001b[0m\u001b[0;34m'u238.endf'\u001b[0m\u001b[0;34m,\u001b[0m \u001b[0mtemperatures\u001b[0m\u001b[0;34m=\u001b[0m\u001b[0;34m[\u001b[0m\u001b[0;36m300.\u001b[0m\u001b[0;34m,\u001b[0m \u001b[0;36m400.\u001b[0m\u001b[0;34m,\u001b[0m \u001b[0;36m500.\u001b[0m\u001b[0;34m]\u001b[0m\u001b[0;34m,\u001b[0m \u001b[0mstdout\u001b[0m\u001b[0;34m=\u001b[0m\u001b[0;32mTrue\u001b[0m\u001b[0;34m)\u001b[0m\u001b[0;34m\u001b[0m\u001b[0m\n\u001b[0m",
      "\u001b[0;32m~/anaconda/envs/py36/lib/python3.6/site-packages/openmc/data/neutron.py\u001b[0m in \u001b[0;36mfrom_njoy\u001b[0;34m(cls, filename, temperatures, **kwargs)\u001b[0m\n\u001b[1;32m    853\u001b[0m             \u001b[0mpendf_file\u001b[0m \u001b[0;34m=\u001b[0m \u001b[0mos\u001b[0m\u001b[0;34m.\u001b[0m\u001b[0mpath\u001b[0m\u001b[0;34m.\u001b[0m\u001b[0mjoin\u001b[0m\u001b[0;34m(\u001b[0m\u001b[0mtmpdir\u001b[0m\u001b[0;34m,\u001b[0m \u001b[0;34m'pendf'\u001b[0m\u001b[0;34m)\u001b[0m\u001b[0;34m\u001b[0m\u001b[0m\n\u001b[1;32m    854\u001b[0m             make_ace(filename, temperatures, ace_file, xsdir_file,\n\u001b[0;32m--> 855\u001b[0;31m                      pendf_file, **kwargs)\n\u001b[0m\u001b[1;32m    856\u001b[0m \u001b[0;34m\u001b[0m\u001b[0m\n\u001b[1;32m    857\u001b[0m             \u001b[0;31m# Create instance from ACE tables within library\u001b[0m\u001b[0;34m\u001b[0m\u001b[0;34m\u001b[0m\u001b[0m\n",
      "\u001b[0;32m~/anaconda/envs/py36/lib/python3.6/site-packages/openmc/data/njoy.py\u001b[0m in \u001b[0;36mmake_ace\u001b[0;34m(filename, temperatures, ace, xsdir, pendf, **kwargs)\u001b[0m\n\u001b[1;32m    282\u001b[0m         \u001b[0mtapeout\u001b[0m\u001b[0;34m[\u001b[0m\u001b[0mndir\u001b[0m\u001b[0;34m]\u001b[0m \u001b[0;34m=\u001b[0m \u001b[0mfname\u001b[0m\u001b[0;34m.\u001b[0m\u001b[0mformat\u001b[0m\u001b[0;34m(\u001b[0m\u001b[0mxsdir\u001b[0m\u001b[0;34m,\u001b[0m \u001b[0mtemperature\u001b[0m\u001b[0;34m)\u001b[0m\u001b[0;34m\u001b[0m\u001b[0m\n\u001b[1;32m    283\u001b[0m     \u001b[0mcommands\u001b[0m \u001b[0;34m+=\u001b[0m \u001b[0;34m'stop\\n'\u001b[0m\u001b[0;34m\u001b[0m\u001b[0m\n\u001b[0;32m--> 284\u001b[0;31m     \u001b[0mretcode\u001b[0m \u001b[0;34m=\u001b[0m \u001b[0mrun\u001b[0m\u001b[0;34m(\u001b[0m\u001b[0mcommands\u001b[0m\u001b[0;34m,\u001b[0m \u001b[0mtapein\u001b[0m\u001b[0;34m,\u001b[0m \u001b[0mtapeout\u001b[0m\u001b[0;34m,\u001b[0m \u001b[0;34m**\u001b[0m\u001b[0mkwargs\u001b[0m\u001b[0;34m)\u001b[0m\u001b[0;34m\u001b[0m\u001b[0m\n\u001b[0m\u001b[1;32m    285\u001b[0m \u001b[0;34m\u001b[0m\u001b[0m\n\u001b[1;32m    286\u001b[0m     \u001b[0;32mif\u001b[0m \u001b[0mretcode\u001b[0m \u001b[0;34m==\u001b[0m \u001b[0;36m0\u001b[0m\u001b[0;34m:\u001b[0m\u001b[0;34m\u001b[0m\u001b[0m\n",
      "\u001b[0;32m~/anaconda/envs/py36/lib/python3.6/site-packages/openmc/data/njoy.py\u001b[0m in \u001b[0;36mrun\u001b[0;34m(commands, tapein, tapeout, stdout, njoy_exec)\u001b[0m\n\u001b[1;32m    171\u001b[0m         \u001b[0;31m# Start up NJOY process\u001b[0m\u001b[0;34m\u001b[0m\u001b[0;34m\u001b[0m\u001b[0m\n\u001b[1;32m    172\u001b[0m         njoy = Popen([njoy_exec], cwd=tmpdir, stdin=PIPE, stdout=PIPE,\n\u001b[0;32m--> 173\u001b[0;31m                      stderr=STDOUT, universal_newlines=True)\n\u001b[0m\u001b[1;32m    174\u001b[0m \u001b[0;34m\u001b[0m\u001b[0m\n\u001b[1;32m    175\u001b[0m         \u001b[0mnjoy\u001b[0m\u001b[0;34m.\u001b[0m\u001b[0mstdin\u001b[0m\u001b[0;34m.\u001b[0m\u001b[0mwrite\u001b[0m\u001b[0;34m(\u001b[0m\u001b[0mcommands\u001b[0m\u001b[0;34m)\u001b[0m\u001b[0;34m\u001b[0m\u001b[0m\n",
      "\u001b[0;32m~/anaconda/envs/py36/lib/python3.6/subprocess.py\u001b[0m in \u001b[0;36m__init__\u001b[0;34m(self, args, bufsize, executable, stdin, stdout, stderr, preexec_fn, close_fds, shell, cwd, env, universal_newlines, startupinfo, creationflags, restore_signals, start_new_session, pass_fds, encoding, errors)\u001b[0m\n\u001b[1;32m    705\u001b[0m                                 \u001b[0mc2pread\u001b[0m\u001b[0;34m,\u001b[0m \u001b[0mc2pwrite\u001b[0m\u001b[0;34m,\u001b[0m\u001b[0;34m\u001b[0m\u001b[0m\n\u001b[1;32m    706\u001b[0m                                 \u001b[0merrread\u001b[0m\u001b[0;34m,\u001b[0m \u001b[0merrwrite\u001b[0m\u001b[0;34m,\u001b[0m\u001b[0;34m\u001b[0m\u001b[0m\n\u001b[0;32m--> 707\u001b[0;31m                                 restore_signals, start_new_session)\n\u001b[0m\u001b[1;32m    708\u001b[0m         \u001b[0;32mexcept\u001b[0m\u001b[0;34m:\u001b[0m\u001b[0;34m\u001b[0m\u001b[0m\n\u001b[1;32m    709\u001b[0m             \u001b[0;31m# Cleanup if the child failed starting.\u001b[0m\u001b[0;34m\u001b[0m\u001b[0;34m\u001b[0m\u001b[0m\n",
      "\u001b[0;32m~/anaconda/envs/py36/lib/python3.6/subprocess.py\u001b[0m in \u001b[0;36m_execute_child\u001b[0;34m(self, args, executable, preexec_fn, close_fds, pass_fds, cwd, env, startupinfo, creationflags, shell, p2cread, p2cwrite, c2pread, c2pwrite, errread, errwrite, restore_signals, start_new_session)\u001b[0m\n\u001b[1;32m   1324\u001b[0m                             \u001b[0;32melse\u001b[0m\u001b[0;34m:\u001b[0m\u001b[0;34m\u001b[0m\u001b[0m\n\u001b[1;32m   1325\u001b[0m                                 \u001b[0merr_msg\u001b[0m \u001b[0;34m+=\u001b[0m \u001b[0;34m': '\u001b[0m \u001b[0;34m+\u001b[0m \u001b[0mrepr\u001b[0m\u001b[0;34m(\u001b[0m\u001b[0morig_executable\u001b[0m\u001b[0;34m)\u001b[0m\u001b[0;34m\u001b[0m\u001b[0m\n\u001b[0;32m-> 1326\u001b[0;31m                     \u001b[0;32mraise\u001b[0m \u001b[0mchild_exception_type\u001b[0m\u001b[0;34m(\u001b[0m\u001b[0merrno_num\u001b[0m\u001b[0;34m,\u001b[0m \u001b[0merr_msg\u001b[0m\u001b[0;34m)\u001b[0m\u001b[0;34m\u001b[0m\u001b[0m\n\u001b[0m\u001b[1;32m   1327\u001b[0m                 \u001b[0;32mraise\u001b[0m \u001b[0mchild_exception_type\u001b[0m\u001b[0;34m(\u001b[0m\u001b[0merr_msg\u001b[0m\u001b[0;34m)\u001b[0m\u001b[0;34m\u001b[0m\u001b[0m\n\u001b[1;32m   1328\u001b[0m \u001b[0;34m\u001b[0m\u001b[0m\n",
      "\u001b[0;31mFileNotFoundError\u001b[0m: [Errno 2] No such file or directory: 'njoy'"
     ]
    }
   ],
   "source": [
    "u238_2 = openmc.data.IncidentNeutron.from_njoy('u238.endf', temperatures=[300., 400., 500.], stdout=True)"
   ]
  },
  {
   "cell_type": "code",
   "execution_count": 32,
   "metadata": {},
   "outputs": [
    {
     "data": {
      "text/plain": [
       "OrderedDict()"
      ]
     },
     "execution_count": 32,
     "metadata": {},
     "output_type": "execute_result"
    }
   ],
   "source": [
    "u238_endf.summed_reactions"
   ]
  },
  {
   "cell_type": "code",
   "execution_count": 30,
   "metadata": {},
   "outputs": [
    {
     "data": {
      "text/plain": [
       "[<Reaction: MT=1 (n,total)>,\n",
       " <Reaction: MT=2 (n,elastic)>,\n",
       " <Reaction: MT=3>,\n",
       " <Reaction: MT=4 (n,level)>,\n",
       " <Reaction: MT=16 (n,2n)>,\n",
       " <Reaction: MT=17 (n,3n)>,\n",
       " <Reaction: MT=18 (n,fission)>,\n",
       " <Reaction: MT=19 (n,f)>,\n",
       " <Reaction: MT=20 (n,nf)>,\n",
       " <Reaction: MT=21 (n,2nf)>,\n",
       " <Reaction: MT=37 (n,4n)>,\n",
       " <Reaction: MT=38 (n,3nf)>,\n",
       " <Reaction: MT=51 (n,n1)>,\n",
       " <Reaction: MT=52 (n,n2)>,\n",
       " <Reaction: MT=53 (n,n3)>,\n",
       " <Reaction: MT=54 (n,n4)>,\n",
       " <Reaction: MT=55 (n,n5)>,\n",
       " <Reaction: MT=56 (n,n6)>,\n",
       " <Reaction: MT=57 (n,n7)>,\n",
       " <Reaction: MT=58 (n,n8)>,\n",
       " <Reaction: MT=59 (n,n9)>,\n",
       " <Reaction: MT=60 (n,n10)>,\n",
       " <Reaction: MT=61 (n,n11)>,\n",
       " <Reaction: MT=62 (n,n12)>,\n",
       " <Reaction: MT=63 (n,n13)>,\n",
       " <Reaction: MT=64 (n,n14)>,\n",
       " <Reaction: MT=65 (n,n15)>,\n",
       " <Reaction: MT=66 (n,n16)>,\n",
       " <Reaction: MT=67 (n,n17)>,\n",
       " <Reaction: MT=68 (n,n18)>,\n",
       " <Reaction: MT=69 (n,n19)>,\n",
       " <Reaction: MT=70 (n,n20)>,\n",
       " <Reaction: MT=71 (n,n21)>,\n",
       " <Reaction: MT=72 (n,n22)>,\n",
       " <Reaction: MT=73 (n,n23)>,\n",
       " <Reaction: MT=74 (n,n24)>,\n",
       " <Reaction: MT=75 (n,n25)>,\n",
       " <Reaction: MT=76 (n,n26)>,\n",
       " <Reaction: MT=77 (n,n27)>,\n",
       " <Reaction: MT=78 (n,n28)>,\n",
       " <Reaction: MT=79 (n,n29)>,\n",
       " <Reaction: MT=80 (n,n30)>,\n",
       " <Reaction: MT=81 (n,n31)>,\n",
       " <Reaction: MT=82 (n,n32)>,\n",
       " <Reaction: MT=83 (n,n33)>,\n",
       " <Reaction: MT=84 (n,n34)>,\n",
       " <Reaction: MT=85 (n,n35)>,\n",
       " <Reaction: MT=86 (n,n36)>,\n",
       " <Reaction: MT=87 (n,n37)>,\n",
       " <Reaction: MT=88 (n,n38)>,\n",
       " <Reaction: MT=89 (n,n39)>,\n",
       " <Reaction: MT=90 (n,n40)>,\n",
       " <Reaction: MT=91 (n,nc)>,\n",
       " <Reaction: MT=102 (n,gamma)>]"
      ]
     },
     "execution_count": 30,
     "metadata": {},
     "output_type": "execute_result"
    }
   ],
   "source": [
    "list(u238_endf.reactions.values())"
   ]
  },
  {
   "cell_type": "code",
   "execution_count": 23,
   "metadata": {},
   "outputs": [
    {
     "data": {
      "text/plain": [
       "0.0"
      ]
     },
     "execution_count": 23,
     "metadata": {},
     "output_type": "execute_result"
    }
   ],
   "source": [
    "u238_endf[1].xs['0K'](700.0)"
   ]
  },
  {
   "cell_type": "code",
   "execution_count": 24,
   "metadata": {},
   "outputs": [
    {
     "data": {
      "text/plain": [
       "12.424712562613369"
      ]
     },
     "execution_count": 24,
     "metadata": {},
     "output_type": "execute_result"
    }
   ],
   "source": [
    "u238_endf[2].xs['0K'](700.0)"
   ]
  },
  {
   "cell_type": "code",
   "execution_count": 107,
   "metadata": {},
   "outputs": [
    {
     "ename": "AttributeError",
     "evalue": "'Reaction' object has no attribute 'energy'",
     "output_type": "error",
     "traceback": [
      "\u001b[0;31m---------------------------------------------------------------------------\u001b[0m",
      "\u001b[0;31mAttributeError\u001b[0m                            Traceback (most recent call last)",
      "\u001b[0;32m<ipython-input-107-653f79455cae>\u001b[0m in \u001b[0;36m<module>\u001b[0;34m()\u001b[0m\n\u001b[0;32m----> 1\u001b[0;31m \u001b[0mgd157_endf\u001b[0m\u001b[0;34m[\u001b[0m\u001b[0;36m2\u001b[0m\u001b[0;34m]\u001b[0m\u001b[0;34m.\u001b[0m\u001b[0menergy\u001b[0m\u001b[0;34m\u001b[0m\u001b[0m\n\u001b[0m",
      "\u001b[0;31mAttributeError\u001b[0m: 'Reaction' object has no attribute 'energy'"
     ]
    }
   ],
   "source": [
    "gd157_endf[2].energy"
   ]
  },
  {
   "cell_type": "code",
   "execution_count": 70,
   "metadata": {},
   "outputs": [
    {
     "ename": "FileNotFoundError",
     "evalue": "[Errno 2] No such file or directory: 'njoy'",
     "output_type": "error",
     "traceback": [
      "\u001b[0;31m---------------------------------------------------------------------------\u001b[0m",
      "\u001b[0;31mFileNotFoundError\u001b[0m                         Traceback (most recent call last)",
      "\u001b[0;32m<ipython-input-70-f50d5df3c4e2>\u001b[0m in \u001b[0;36m<module>\u001b[0;34m()\u001b[0m\n\u001b[0;32m----> 1\u001b[0;31m \u001b[0mh2\u001b[0m \u001b[0;34m=\u001b[0m \u001b[0mopenmc\u001b[0m\u001b[0;34m.\u001b[0m\u001b[0mdata\u001b[0m\u001b[0;34m.\u001b[0m\u001b[0mIncidentNeutron\u001b[0m\u001b[0;34m.\u001b[0m\u001b[0mfrom_njoy\u001b[0m\u001b[0;34m(\u001b[0m\u001b[0;34m'gd157.endf'\u001b[0m\u001b[0;34m,\u001b[0m \u001b[0mtemperatures\u001b[0m\u001b[0;34m=\u001b[0m\u001b[0;34m[\u001b[0m\u001b[0;36m300.\u001b[0m\u001b[0;34m,\u001b[0m \u001b[0;36m400.\u001b[0m\u001b[0;34m,\u001b[0m \u001b[0;36m500.\u001b[0m\u001b[0;34m]\u001b[0m\u001b[0;34m,\u001b[0m \u001b[0mstdout\u001b[0m\u001b[0;34m=\u001b[0m\u001b[0;32mTrue\u001b[0m\u001b[0;34m)\u001b[0m\u001b[0;34m\u001b[0m\u001b[0m\n\u001b[0m",
      "\u001b[0;32m~/anaconda/envs/py36/lib/python3.6/site-packages/openmc/data/neutron.py\u001b[0m in \u001b[0;36mfrom_njoy\u001b[0;34m(cls, filename, temperatures, **kwargs)\u001b[0m\n\u001b[1;32m    853\u001b[0m             \u001b[0mpendf_file\u001b[0m \u001b[0;34m=\u001b[0m \u001b[0mos\u001b[0m\u001b[0;34m.\u001b[0m\u001b[0mpath\u001b[0m\u001b[0;34m.\u001b[0m\u001b[0mjoin\u001b[0m\u001b[0;34m(\u001b[0m\u001b[0mtmpdir\u001b[0m\u001b[0;34m,\u001b[0m \u001b[0;34m'pendf'\u001b[0m\u001b[0;34m)\u001b[0m\u001b[0;34m\u001b[0m\u001b[0m\n\u001b[1;32m    854\u001b[0m             make_ace(filename, temperatures, ace_file, xsdir_file,\n\u001b[0;32m--> 855\u001b[0;31m                      pendf_file, **kwargs)\n\u001b[0m\u001b[1;32m    856\u001b[0m \u001b[0;34m\u001b[0m\u001b[0m\n\u001b[1;32m    857\u001b[0m             \u001b[0;31m# Create instance from ACE tables within library\u001b[0m\u001b[0;34m\u001b[0m\u001b[0;34m\u001b[0m\u001b[0m\n",
      "\u001b[0;32m~/anaconda/envs/py36/lib/python3.6/site-packages/openmc/data/njoy.py\u001b[0m in \u001b[0;36mmake_ace\u001b[0;34m(filename, temperatures, ace, xsdir, pendf, **kwargs)\u001b[0m\n\u001b[1;32m    282\u001b[0m         \u001b[0mtapeout\u001b[0m\u001b[0;34m[\u001b[0m\u001b[0mndir\u001b[0m\u001b[0;34m]\u001b[0m \u001b[0;34m=\u001b[0m \u001b[0mfname\u001b[0m\u001b[0;34m.\u001b[0m\u001b[0mformat\u001b[0m\u001b[0;34m(\u001b[0m\u001b[0mxsdir\u001b[0m\u001b[0;34m,\u001b[0m \u001b[0mtemperature\u001b[0m\u001b[0;34m)\u001b[0m\u001b[0;34m\u001b[0m\u001b[0m\n\u001b[1;32m    283\u001b[0m     \u001b[0mcommands\u001b[0m \u001b[0;34m+=\u001b[0m \u001b[0;34m'stop\\n'\u001b[0m\u001b[0;34m\u001b[0m\u001b[0m\n\u001b[0;32m--> 284\u001b[0;31m     \u001b[0mretcode\u001b[0m \u001b[0;34m=\u001b[0m \u001b[0mrun\u001b[0m\u001b[0;34m(\u001b[0m\u001b[0mcommands\u001b[0m\u001b[0;34m,\u001b[0m \u001b[0mtapein\u001b[0m\u001b[0;34m,\u001b[0m \u001b[0mtapeout\u001b[0m\u001b[0;34m,\u001b[0m \u001b[0;34m**\u001b[0m\u001b[0mkwargs\u001b[0m\u001b[0;34m)\u001b[0m\u001b[0;34m\u001b[0m\u001b[0m\n\u001b[0m\u001b[1;32m    285\u001b[0m \u001b[0;34m\u001b[0m\u001b[0m\n\u001b[1;32m    286\u001b[0m     \u001b[0;32mif\u001b[0m \u001b[0mretcode\u001b[0m \u001b[0;34m==\u001b[0m \u001b[0;36m0\u001b[0m\u001b[0;34m:\u001b[0m\u001b[0;34m\u001b[0m\u001b[0m\n",
      "\u001b[0;32m~/anaconda/envs/py36/lib/python3.6/site-packages/openmc/data/njoy.py\u001b[0m in \u001b[0;36mrun\u001b[0;34m(commands, tapein, tapeout, stdout, njoy_exec)\u001b[0m\n\u001b[1;32m    171\u001b[0m         \u001b[0;31m# Start up NJOY process\u001b[0m\u001b[0;34m\u001b[0m\u001b[0;34m\u001b[0m\u001b[0m\n\u001b[1;32m    172\u001b[0m         njoy = Popen([njoy_exec], cwd=tmpdir, stdin=PIPE, stdout=PIPE,\n\u001b[0;32m--> 173\u001b[0;31m                      stderr=STDOUT, universal_newlines=True)\n\u001b[0m\u001b[1;32m    174\u001b[0m \u001b[0;34m\u001b[0m\u001b[0m\n\u001b[1;32m    175\u001b[0m         \u001b[0mnjoy\u001b[0m\u001b[0;34m.\u001b[0m\u001b[0mstdin\u001b[0m\u001b[0;34m.\u001b[0m\u001b[0mwrite\u001b[0m\u001b[0;34m(\u001b[0m\u001b[0mcommands\u001b[0m\u001b[0;34m)\u001b[0m\u001b[0;34m\u001b[0m\u001b[0m\n",
      "\u001b[0;32m~/anaconda/envs/py36/lib/python3.6/subprocess.py\u001b[0m in \u001b[0;36m__init__\u001b[0;34m(self, args, bufsize, executable, stdin, stdout, stderr, preexec_fn, close_fds, shell, cwd, env, universal_newlines, startupinfo, creationflags, restore_signals, start_new_session, pass_fds, encoding, errors)\u001b[0m\n\u001b[1;32m    705\u001b[0m                                 \u001b[0mc2pread\u001b[0m\u001b[0;34m,\u001b[0m \u001b[0mc2pwrite\u001b[0m\u001b[0;34m,\u001b[0m\u001b[0;34m\u001b[0m\u001b[0m\n\u001b[1;32m    706\u001b[0m                                 \u001b[0merrread\u001b[0m\u001b[0;34m,\u001b[0m \u001b[0merrwrite\u001b[0m\u001b[0;34m,\u001b[0m\u001b[0;34m\u001b[0m\u001b[0m\n\u001b[0;32m--> 707\u001b[0;31m                                 restore_signals, start_new_session)\n\u001b[0m\u001b[1;32m    708\u001b[0m         \u001b[0;32mexcept\u001b[0m\u001b[0;34m:\u001b[0m\u001b[0;34m\u001b[0m\u001b[0m\n\u001b[1;32m    709\u001b[0m             \u001b[0;31m# Cleanup if the child failed starting.\u001b[0m\u001b[0;34m\u001b[0m\u001b[0;34m\u001b[0m\u001b[0m\n",
      "\u001b[0;32m~/anaconda/envs/py36/lib/python3.6/subprocess.py\u001b[0m in \u001b[0;36m_execute_child\u001b[0;34m(self, args, executable, preexec_fn, close_fds, pass_fds, cwd, env, startupinfo, creationflags, shell, p2cread, p2cwrite, c2pread, c2pwrite, errread, errwrite, restore_signals, start_new_session)\u001b[0m\n\u001b[1;32m   1324\u001b[0m                             \u001b[0;32melse\u001b[0m\u001b[0;34m:\u001b[0m\u001b[0;34m\u001b[0m\u001b[0m\n\u001b[1;32m   1325\u001b[0m                                 \u001b[0merr_msg\u001b[0m \u001b[0;34m+=\u001b[0m \u001b[0;34m': '\u001b[0m \u001b[0;34m+\u001b[0m \u001b[0mrepr\u001b[0m\u001b[0;34m(\u001b[0m\u001b[0morig_executable\u001b[0m\u001b[0;34m)\u001b[0m\u001b[0;34m\u001b[0m\u001b[0m\n\u001b[0;32m-> 1326\u001b[0;31m                     \u001b[0;32mraise\u001b[0m \u001b[0mchild_exception_type\u001b[0m\u001b[0;34m(\u001b[0m\u001b[0merrno_num\u001b[0m\u001b[0;34m,\u001b[0m \u001b[0merr_msg\u001b[0m\u001b[0;34m)\u001b[0m\u001b[0;34m\u001b[0m\u001b[0m\n\u001b[0m\u001b[1;32m   1327\u001b[0m                 \u001b[0;32mraise\u001b[0m \u001b[0mchild_exception_type\u001b[0m\u001b[0;34m(\u001b[0m\u001b[0merr_msg\u001b[0m\u001b[0;34m)\u001b[0m\u001b[0;34m\u001b[0m\u001b[0m\n\u001b[1;32m   1328\u001b[0m \u001b[0;34m\u001b[0m\u001b[0m\n",
      "\u001b[0;31mFileNotFoundError\u001b[0m: [Errno 2] No such file or directory: 'njoy'"
     ]
    }
   ],
   "source": [
    "h2 = openmc.data.IncidentNeutron.from_njoy('gd157.endf', temperatures=[300., 400., 500.], stdout=True)"
   ]
  },
  {
   "cell_type": "code",
   "execution_count": null,
   "metadata": {
    "collapsed": true
   },
   "outputs": [],
   "source": []
  },
  {
   "cell_type": "code",
   "execution_count": 65,
   "metadata": {},
   "outputs": [
    {
     "data": {
      "text/plain": [
       "OrderedDict([(1, <Reaction: MT=1 (n,total)>),\n",
       "             (2, <Reaction: MT=2 (n,elastic)>),\n",
       "             (4, <Reaction: MT=4 (n,level)>),\n",
       "             (16, <Reaction: MT=16 (n,2n)>),\n",
       "             (17, <Reaction: MT=17 (n,3n)>),\n",
       "             (22, <Reaction: MT=22 (n,na)>),\n",
       "             (24, <Reaction: MT=24 (n,2na)>),\n",
       "             (28, <Reaction: MT=28 (n,np)>),\n",
       "             (41, <Reaction: MT=41 (n,2np)>),\n",
       "             (51, <Reaction: MT=51 (n,n1)>),\n",
       "             (52, <Reaction: MT=52 (n,n2)>),\n",
       "             (53, <Reaction: MT=53 (n,n3)>),\n",
       "             (54, <Reaction: MT=54 (n,n4)>),\n",
       "             (55, <Reaction: MT=55 (n,n5)>),\n",
       "             (56, <Reaction: MT=56 (n,n6)>),\n",
       "             (57, <Reaction: MT=57 (n,n7)>),\n",
       "             (58, <Reaction: MT=58 (n,n8)>),\n",
       "             (59, <Reaction: MT=59 (n,n9)>),\n",
       "             (60, <Reaction: MT=60 (n,n10)>),\n",
       "             (61, <Reaction: MT=61 (n,n11)>),\n",
       "             (62, <Reaction: MT=62 (n,n12)>),\n",
       "             (63, <Reaction: MT=63 (n,n13)>),\n",
       "             (64, <Reaction: MT=64 (n,n14)>),\n",
       "             (65, <Reaction: MT=65 (n,n15)>),\n",
       "             (66, <Reaction: MT=66 (n,n16)>),\n",
       "             (67, <Reaction: MT=67 (n,n17)>),\n",
       "             (68, <Reaction: MT=68 (n,n18)>),\n",
       "             (69, <Reaction: MT=69 (n,n19)>),\n",
       "             (70, <Reaction: MT=70 (n,n20)>),\n",
       "             (71, <Reaction: MT=71 (n,n21)>),\n",
       "             (72, <Reaction: MT=72 (n,n22)>),\n",
       "             (73, <Reaction: MT=73 (n,n23)>),\n",
       "             (74, <Reaction: MT=74 (n,n24)>),\n",
       "             (75, <Reaction: MT=75 (n,n25)>),\n",
       "             (76, <Reaction: MT=76 (n,n26)>),\n",
       "             (77, <Reaction: MT=77 (n,n27)>),\n",
       "             (78, <Reaction: MT=78 (n,n28)>),\n",
       "             (79, <Reaction: MT=79 (n,n29)>),\n",
       "             (80, <Reaction: MT=80 (n,n30)>),\n",
       "             (81, <Reaction: MT=81 (n,n31)>),\n",
       "             (82, <Reaction: MT=82 (n,n32)>),\n",
       "             (83, <Reaction: MT=83 (n,n33)>),\n",
       "             (84, <Reaction: MT=84 (n,n34)>),\n",
       "             (85, <Reaction: MT=85 (n,n35)>),\n",
       "             (86, <Reaction: MT=86 (n,n36)>),\n",
       "             (87, <Reaction: MT=87 (n,n37)>),\n",
       "             (88, <Reaction: MT=88 (n,n38)>),\n",
       "             (89, <Reaction: MT=89 (n,n39)>),\n",
       "             (91, <Reaction: MT=91 (n,nc)>),\n",
       "             (102, <Reaction: MT=102 (n,gamma)>),\n",
       "             (103, <Reaction: MT=103 (n,p)>),\n",
       "             (107, <Reaction: MT=107 (n,a)>),\n",
       "             (600, <Reaction: MT=600 (n,p0)>),\n",
       "             (601, <Reaction: MT=601 (n,p1)>),\n",
       "             (602, <Reaction: MT=602 (n,p2)>),\n",
       "             (603, <Reaction: MT=603 (n,p3)>),\n",
       "             (604, <Reaction: MT=604 (n,p4)>),\n",
       "             (605, <Reaction: MT=605 (n,p5)>),\n",
       "             (606, <Reaction: MT=606 (n,p6)>),\n",
       "             (607, <Reaction: MT=607 (n,p7)>),\n",
       "             (608, <Reaction: MT=608 (n,p8)>),\n",
       "             (609, <Reaction: MT=609 (n,p9)>),\n",
       "             (610, <Reaction: MT=610 (n,p10)>),\n",
       "             (611, <Reaction: MT=611 (n,p11)>),\n",
       "             (612, <Reaction: MT=612 (n,p12)>),\n",
       "             (613, <Reaction: MT=613 (n,p13)>),\n",
       "             (614, <Reaction: MT=614 (n,p14)>),\n",
       "             (615, <Reaction: MT=615 (n,p15)>),\n",
       "             (616, <Reaction: MT=616 (n,p16)>),\n",
       "             (617, <Reaction: MT=617 (n,p17)>),\n",
       "             (618, <Reaction: MT=618 (n,p18)>),\n",
       "             (619, <Reaction: MT=619 (n,p19)>),\n",
       "             (620, <Reaction: MT=620 (n,p20)>),\n",
       "             (621, <Reaction: MT=621 (n,p21)>),\n",
       "             (622, <Reaction: MT=622 (n,p22)>),\n",
       "             (623, <Reaction: MT=623 (n,p23)>),\n",
       "             (624, <Reaction: MT=624 (n,p24)>),\n",
       "             (625, <Reaction: MT=625 (n,p25)>),\n",
       "             (626, <Reaction: MT=626 (n,p26)>),\n",
       "             (627, <Reaction: MT=627 (n,p27)>),\n",
       "             (628, <Reaction: MT=628 (n,p28)>),\n",
       "             (629, <Reaction: MT=629 (n,p29)>),\n",
       "             (630, <Reaction: MT=630 (n,p30)>),\n",
       "             (631, <Reaction: MT=631 (n,p31)>),\n",
       "             (632, <Reaction: MT=632 (n,p32)>),\n",
       "             (633, <Reaction: MT=633 (n,p33)>),\n",
       "             (634, <Reaction: MT=634 (n,p34)>),\n",
       "             (635, <Reaction: MT=635 (n,p35)>),\n",
       "             (649, <Reaction: MT=649 (n,pc)>)])"
      ]
     },
     "execution_count": 65,
     "metadata": {},
     "output_type": "execute_result"
    }
   ],
   "source": [
    "gd157_endf.reactions"
   ]
  },
  {
   "cell_type": "code",
   "execution_count": 48,
   "metadata": {},
   "outputs": [
    {
     "data": {
      "text/plain": [
       "<openmc.data.function.ResonancesWithBackground at 0x11e3df588>"
      ]
     },
     "execution_count": 48,
     "metadata": {},
     "output_type": "execute_result"
    }
   ],
   "source": [
    "elastic = gd157_endf[2]\n",
    "elastic.xs\n",
    "elastic.xs['0K']"
   ]
  },
  {
   "cell_type": "code",
   "execution_count": null,
   "metadata": {
    "collapsed": true
   },
   "outputs": [],
   "source": []
  },
  {
   "cell_type": "code",
   "execution_count": null,
   "metadata": {
    "collapsed": true
   },
   "outputs": [],
   "source": []
  },
  {
   "cell_type": "code",
   "execution_count": null,
   "metadata": {
    "collapsed": true
   },
   "outputs": [],
   "source": []
  },
  {
   "cell_type": "code",
   "execution_count": null,
   "metadata": {
    "collapsed": true
   },
   "outputs": [],
   "source": []
  },
  {
   "cell_type": "code",
   "execution_count": null,
   "metadata": {
    "collapsed": true
   },
   "outputs": [],
   "source": []
  },
  {
   "cell_type": "code",
   "execution_count": null,
   "metadata": {
    "collapsed": true
   },
   "outputs": [],
   "source": []
  },
  {
   "cell_type": "code",
   "execution_count": null,
   "metadata": {
    "collapsed": true
   },
   "outputs": [],
   "source": []
  },
  {
   "cell_type": "code",
   "execution_count": null,
   "metadata": {
    "collapsed": true
   },
   "outputs": [],
   "source": []
  },
  {
   "cell_type": "code",
   "execution_count": null,
   "metadata": {
    "collapsed": true
   },
   "outputs": [],
   "source": []
  },
  {
   "cell_type": "code",
   "execution_count": null,
   "metadata": {
    "collapsed": true
   },
   "outputs": [],
   "source": []
  },
  {
   "cell_type": "code",
   "execution_count": null,
   "metadata": {
    "collapsed": true
   },
   "outputs": [],
   "source": []
  },
  {
   "cell_type": "code",
   "execution_count": null,
   "metadata": {
    "collapsed": true
   },
   "outputs": [],
   "source": []
  },
  {
   "cell_type": "code",
   "execution_count": null,
   "metadata": {
    "collapsed": true
   },
   "outputs": [],
   "source": []
  },
  {
   "cell_type": "code",
   "execution_count": null,
   "metadata": {
    "collapsed": true
   },
   "outputs": [],
   "source": []
  },
  {
   "cell_type": "code",
   "execution_count": null,
   "metadata": {
    "collapsed": true
   },
   "outputs": [],
   "source": [
    "aaa"
   ]
  },
  {
   "cell_type": "code",
   "execution_count": 32,
   "metadata": {},
   "outputs": [
    {
     "data": {
      "text/plain": [
       "18.393302210853296"
      ]
     },
     "execution_count": 32,
     "metadata": {},
     "output_type": "execute_result"
    }
   ],
   "source": [
    "pt.elements.isotope('231-U').density"
   ]
  },
  {
   "cell_type": "code",
   "execution_count": 34,
   "metadata": {},
   "outputs": [
    {
     "data": {
      "text/plain": [
       "231.036289"
      ]
     },
     "execution_count": 34,
     "metadata": {},
     "output_type": "execute_result"
    }
   ],
   "source": [
    "pt.elements.isotope('231-U').mass"
   ]
  },
  {
   "cell_type": "code",
   "execution_count": 35,
   "metadata": {},
   "outputs": [
    {
     "data": {
      "text/plain": [
       "232.0371463"
      ]
     },
     "execution_count": 35,
     "metadata": {},
     "output_type": "execute_result"
    }
   ],
   "source": [
    "pt.elements.isotope('232-U').mass"
   ]
  },
  {
   "cell_type": "code",
   "execution_count": 33,
   "metadata": {},
   "outputs": [
    {
     "data": {
      "text/plain": [
       "18.472982640575044"
      ]
     },
     "execution_count": 33,
     "metadata": {},
     "output_type": "execute_result"
    }
   ],
   "source": [
    "pt.elements.isotope('232-U').density"
   ]
  },
  {
   "cell_type": "code",
   "execution_count": 36,
   "metadata": {},
   "outputs": [
    {
     "data": {
      "text/plain": [
       "18.95"
      ]
     },
     "execution_count": 36,
     "metadata": {},
     "output_type": "execute_result"
    }
   ],
   "source": [
    "pt.elements.U.density"
   ]
  },
  {
   "cell_type": "code",
   "execution_count": 37,
   "metadata": {},
   "outputs": [
    {
     "data": {
      "text/plain": [
       "238.02891"
      ]
     },
     "execution_count": 37,
     "metadata": {},
     "output_type": "execute_result"
    }
   ],
   "source": [
    "pt.elements.U.mass"
   ]
  },
  {
   "cell_type": "code",
   "execution_count": 38,
   "metadata": {},
   "outputs": [
    {
     "data": {
      "text/plain": [
       "12.56089234828496"
      ]
     },
     "execution_count": 38,
     "metadata": {},
     "output_type": "execute_result"
    }
   ],
   "source": [
    "pt.elements.U.mass/pt.elements.U.density"
   ]
  },
  {
   "cell_type": "code",
   "execution_count": 39,
   "metadata": {},
   "outputs": [
    {
     "data": {
      "text/plain": [
       "12.56089234828496"
      ]
     },
     "execution_count": 39,
     "metadata": {},
     "output_type": "execute_result"
    }
   ],
   "source": [
    "pt.elements.isotope('232-U').mass/pt.elements.isotope('232-U').density"
   ]
  },
  {
   "cell_type": "code",
   "execution_count": null,
   "metadata": {
    "collapsed": true
   },
   "outputs": [],
   "source": []
  }
 ],
 "metadata": {
  "kernelspec": {
   "display_name": "Python 3",
   "language": "python",
   "name": "python3"
  },
  "language_info": {
   "codemirror_mode": {
    "name": "ipython",
    "version": 3
   },
   "file_extension": ".py",
   "mimetype": "text/x-python",
   "name": "python",
   "nbconvert_exporter": "python",
   "pygments_lexer": "ipython3",
   "version": "3.6.1"
  }
 },
 "nbformat": 4,
 "nbformat_minor": 2
}
