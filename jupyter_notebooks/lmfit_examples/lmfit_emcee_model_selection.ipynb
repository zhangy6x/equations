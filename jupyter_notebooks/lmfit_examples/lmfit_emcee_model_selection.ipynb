{
 "cells": [
  {
   "cell_type": "markdown",
   "metadata": {},
   "source": [
    "# Model selection using lmfit and emcee "
   ]
  },
  {
   "cell_type": "markdown",
   "metadata": {},
   "source": [
    "`lmfit.emcee` can be used to obtain the posterior probability distribution of parameters, given a set of experimental data. This notebook shows how it can be used for Bayesian model selection."
   ]
  },
  {
   "cell_type": "code",
   "execution_count": 1,
   "metadata": {
    "collapsed": false
   },
   "outputs": [],
   "source": [
    "import numpy as np\n",
    "import lmfit\n",
    "import matplotlib.pyplot as plt\n",
    "import corner\n",
    "%matplotlib inline"
   ]
  },
  {
   "cell_type": "code",
   "execution_count": 2,
   "metadata": {
    "collapsed": true
   },
   "outputs": [],
   "source": [
    "# calculate a Gaussian\n",
    "def gauss(x, a_max, loc, sd):\n",
    "    return a_max * np.exp(-((x - loc) / sd)**2)"
   ]
  },
  {
   "cell_type": "code",
   "execution_count": 3,
   "metadata": {
    "collapsed": false
   },
   "outputs": [],
   "source": [
    "# Generate some data\n",
    "x = np.linspace(3, 7, 250)\n",
    "np.random.seed(0)\n",
    "y = 4 + 10 * x + gauss(x, 200, 5, 0.5) + gauss(x, 60, 5.8, 0.2)\n",
    "dy = np.sqrt(y)\n",
    "y += dy * np.random.randn(np.size(y))"
   ]
  },
  {
   "cell_type": "code",
   "execution_count": 4,
   "metadata": {
    "collapsed": false
   },
   "outputs": [
    {
     "data": {
      "text/plain": [
       "<Container object of 3 artists>"
      ]
     },
     "execution_count": 4,
     "metadata": {},
     "output_type": "execute_result"
    },
    {
     "data": {
      "image/png": "[encoded data removed]",
      "text/plain": [
       "<matplotlib.figure.Figure at 0x104aa4208>"
      ]
     },
     "metadata": {},
     "output_type": "display_data"
    }
   ],
   "source": [
    "plt.errorbar(x, y)"
   ]
  },
  {
   "cell_type": "code",
   "execution_count": 5,
   "metadata": {
    "collapsed": true
   },
   "outputs": [],
   "source": [
    "# the normalised residual for the data\n",
    "def residual(p, just_generative=False):\n",
    "    v = p.valuesdict()\n",
    "    generative = v['a'] + v['b'] * x\n",
    "    M = 0\n",
    "    while 'a_max%d' % M in v:\n",
    "        generative += gauss(x, v['a_max%d'%M], v['loc%d'%M], v['sd%d'%M])\n",
    "        M += 1\n",
    "\n",
    "    if just_generative:\n",
    "        return generative\n",
    "    return (generative - y) / dy"
   ]
  },
  {
   "cell_type": "code",
   "execution_count": 6,
   "metadata": {
    "collapsed": false
   },
   "outputs": [],
   "source": [
    "# create a Parameter set for the initial guesses\n",
    "def initial_peak_params(M):\n",
    "    p = lmfit.Parameters()\n",
    "    \n",
    "    # a and b give a linear background\n",
    "    a = np.mean(y)\n",
    "    b = 1\n",
    "    \n",
    "    # a_max, loc and sd are the amplitude, location and SD of each gaussian component\n",
    "    a_max = np.max(y)\n",
    "    loc = np.mean(x)\n",
    "    sd = (np.max(x) - np.min(x)) * 0.5\n",
    "\n",
    "    p.add_many(('a', np.mean(y), True, 0, 10), ('b', b, True, 1, 15))\n",
    "\n",
    "    for i in range(M):\n",
    "        p.add_many(('a_max%d'%i, 0.5 * a_max, True, 10, a_max),\n",
    "                   ('loc%d'%i, loc, True, np.min(x), np.max(x)),\n",
    "                   ('sd%d'%i, sd, True, 0.1, np.max(x) - np.min(x)))\n",
    "    return p"
   ]
  },
  {
   "cell_type": "markdown",
   "metadata": {},
   "source": [
    "Solving with `minimize` gives the Maximum Likelihood solution."
   ]
  },
  {
   "cell_type": "code",
   "execution_count": 7,
   "metadata": {
    "collapsed": false
   },
   "outputs": [
    {
     "name": "stdout",
     "output_type": "stream",
     "text": [
      "[[Variables]]\n",
      "    a:        1.51236732 (init= 10)\n",
      "    b:        10.5608914 (init= 1)\n",
      "    a_max0:   193.129348 (init= 141.2683)\n",
      "    loc0:     5.03878685 (init= 5)\n",
      "    sd0:      0.57126003 (init= 2)\n",
      "[[Correlations]] (unreported correlations are <  0.500)\n"
     ]
    }
   ],
   "source": [
    "p1 = initial_peak_params(1)\n",
    "mi1 = lmfit.minimize(residual, p1, method='differential_evolution')\n",
    "\n",
    "lmfit.printfuncs.report_fit(mi1.params, min_correl=0.5)"
   ]
  },
  {
   "cell_type": "markdown",
   "metadata": {},
   "source": [
    "From inspection of the data above we can tell that there is going to be more than 1 Gaussian component, but how many are there? A Bayesian approach can be used for this model selection problem. We can do this with `lmfit.emcee`, which uses the `emcee` package to do a Markov Chain Monte Carlo sampling of the posterior probability distribution. `lmfit.emcee` requires a function that returns the log-posterior probability. The log-posterior probability is a sum of the log-prior probability and log-likelihood functions. \n",
    "\n",
    "The log-prior probability encodes information about what you already believe about the system. `lmfit.emcee` assumes that this log-prior probability is zero if all the parameters are within their bounds and `-np.inf` if any of the parameters are outside their bounds. As such it's a uniform prior. \n",
    "\n",
    "The log-likelihood function is given below.\n",
    "\n",
    "To use non-uniform priors then should include these terms in `lnprob`."
   ]
  },
  {
   "cell_type": "code",
   "execution_count": 8,
   "metadata": {
    "collapsed": false
   },
   "outputs": [],
   "source": [
    "# This is the log-likelihood probability for the sampling.\n",
    "def lnprob(p):\n",
    "    resid = residual(p, just_generative=True)\n",
    "    return -0.5 * np.sum(((resid - y) / dy)**2 + np.log(2 * np.pi * dy**2))"
   ]
  },
  {
   "cell_type": "markdown",
   "metadata": {},
   "source": [
    "To start with we have to create the minimizers and *burn* them in. We create 4 different minimizers representing 0, 1, 2 or 3 Gaussian contributions. To do the model selection we have to integrate the over the log-posterior distribution to see which has the higher probability. This is done using the `thermodynamic_integration_log_evidence` method of the `sampler` attribute contained in the `lmfit.Minimizer` object."
   ]
  },
  {
   "cell_type": "code",
   "execution_count": 9,
   "metadata": {
    "collapsed": false
   },
   "outputs": [
    {
     "name": "stdout",
     "output_type": "stream",
     "text": [
      "0 310 (-4394.1394141818528, 0.78699415494884306)\n",
      "1 310 (-1038.5082602579189, 3.5440488907950112)\n",
      "2 310 (-923.39096623751232, 5.0783786979153547)\n",
      "3 310 (-923.6894069769952, 5.6418844327914712)\n"
     ]
    }
   ],
   "source": [
    "# Work out the log-evidence for different numbers of peaks\n",
    "total_steps = 310\n",
    "burn = 300\n",
    "thin = 10\n",
    "ntemps = 15\n",
    "workers=4\n",
    "log_evidence = []\n",
    "mini = []\n",
    "res = []\n",
    "\n",
    "# set up the Minimizers\n",
    "for i in range(4):\n",
    "    p0 = initial_peak_params(i)\n",
    "    mini.append(lmfit.Minimizer(lnprob, p0))\n",
    "    out = mini[i].minimize(method='differential_evolution')\n",
    "    res.append(out)\n",
    "\n",
    "# burn in the samplers\n",
    "for i in range(4):\n",
    "    # do the sampling\n",
    "    out = mini[i].emcee(steps=total_steps, ntemps=ntemps, workers=workers, reuse_sampler=False,\n",
    "                       params=res[i].params)\n",
    "    # get the evidence\n",
    "    print(i, total_steps, mini[i].sampler.thermodynamic_integration_log_evidence())\n",
    "    log_evidence.append(mini[i].sampler.thermodynamic_integration_log_evidence()[0])"
   ]
  },
  {
   "cell_type": "markdown",
   "metadata": {},
   "source": [
    "Once we've burned in the samplers we have to do a collection run. We thin out the MCMC chain to reduce autocorrelation between successive samples."
   ]
  },
  {
   "cell_type": "code",
   "execution_count": 10,
   "metadata": {
    "collapsed": false
   },
   "outputs": [
    {
     "name": "stdout",
     "output_type": "stream",
     "text": [
      "0 410 (-4394.2785416442975, 0.83244601315891487)\n",
      "1 410 (-1038.6450874311915, 3.5634191857072892)\n",
      "2 410 (-923.45302756653928, 5.0966495848754221)\n",
      "3 410 (-923.82736691825357, 5.6538341407954249)\n",
      "0 510 (-4394.3487587435875, 0.85588467626166675)\n",
      "1 510 (-1038.6934181814577, 3.5598495634503706)\n",
      "2 510 (-923.53824600518396, 5.1203799324430292)\n",
      "3 510 (-923.82578592837626, 5.6281725406512351)\n",
      "0 610 (-4394.401228206887, 0.87176207214633905)\n",
      "1 610 (-1038.7503716831113, 3.5601188237437782)\n",
      "2 610 (-923.61139504744551, 5.1481129345677346)\n",
      "3 610 (-923.77987084071901, 5.5961124574821497)\n",
      "0 710 (-4394.4249700306227, 0.87627960796453408)\n",
      "1 710 (-1038.7884107190625, 3.5548852825279482)\n",
      "2 710 (-923.77476076212815, 5.2038245396746561)\n",
      "3 710 (-923.83444327268512, 5.6099999289124298)\n",
      "0 810 (-4394.4437133300844, 0.88390942394744343)\n",
      "1 810 (-1038.8249727101168, 3.5588724286415072)\n",
      "2 810 (-923.92607632064164, 5.248356094005203)\n",
      "3 810 (-923.8713318333505, 5.6097200131257523)\n",
      "0 910 (-4394.4482814566245, 0.88343021249966114)\n",
      "1 910 (-1038.8457492992793, 3.5558249795581105)\n",
      "2 910 (-924.07527838691749, 5.3002800701458455)\n",
      "3 910 (-923.98092996478613, 5.625742358755133)\n"
     ]
    }
   ],
   "source": [
    "for j in range(6):\n",
    "    total_steps += 100\n",
    "    for i in range(4):\n",
    "        # do the sampling\n",
    "        res = mini[i].emcee(burn=burn, steps=100, thin=thin, ntemps=ntemps,\n",
    "                         workers=workers, reuse_sampler=True)\n",
    "        # get the evidence\n",
    "        print(i, total_steps, mini[i].sampler.thermodynamic_integration_log_evidence())\n",
    "        log_evidence.append(mini[i].sampler.thermodynamic_integration_log_evidence()[0])"
   ]
  },
  {
   "cell_type": "code",
   "execution_count": 11,
   "metadata": {
    "collapsed": false
   },
   "outputs": [
    {
     "data": {
      "text/plain": [
       "<matplotlib.text.Text at 0x1096be7b8>"
      ]
     },
     "execution_count": 11,
     "metadata": {},
     "output_type": "execute_result"
    },
    {
     "data": {
      "image/png": "[encoded data removed]",
      "text/plain": [
       "<matplotlib.figure.Figure at 0x1095c0fd0>"
      ]
     },
     "metadata": {},
     "output_type": "display_data"
    }
   ],
   "source": [
    "plt.plot(log_evidence[-4:])\n",
    "plt.ylabel('Log-evidence')\n",
    "plt.xlabel('number of peaks')"
   ]
  },
  {
   "cell_type": "markdown",
   "metadata": {},
   "source": [
    "The Bayes factor is related to the exponential of the difference between the log-evidence values.  Thus, 0 peaks is not very likely compared to 1 peak. But 1 peak is not as good as 2 peaks. 3 peaks is not that much better than 2 peaks."
   ]
  },
  {
   "cell_type": "code",
   "execution_count": 12,
   "metadata": {
    "collapsed": false
   },
   "outputs": [],
   "source": [
    "r01 = np.exp(log_evidence[-4] - log_evidence[-3])\n",
    "r12 = np.exp(log_evidence[-3] - log_evidence[-2])\n",
    "r23 = np.exp(log_evidence[-2] - log_evidence[-1])"
   ]
  },
  {
   "cell_type": "code",
   "execution_count": 13,
   "metadata": {
    "collapsed": false
   },
   "outputs": [
    {
     "name": "stdout",
     "output_type": "stream",
     "text": [
      "0.0 1.43158716924e-50 0.909965654827\n"
     ]
    }
   ],
   "source": [
    "print(r01, r12, r23)"
   ]
  },
  {
   "cell_type": "markdown",
   "metadata": {},
   "source": [
    "These numbers tell us that zero peaks is 0 times as likely as one peak. Two peaks is 7e49 times more likely than one peak. Three peaks is 1.1 times more likely than two peaks. With this data one would say that two peaks is sufficient. Caution has to be taken with these values. The log-priors for this sampling are uniform but improper, i.e. they are not normalised properly.  Internally the lnprior probability is calculated as 0 if all parameters are within their bounds and `-np.inf` if any parameter is outside the bounds. The `lnprob` function defined above is the log-likelihood alone. Remember, that the log-posterior probability is equal to the sum of the log-prior and log-likelihood probabilities. Extra terms can be added to the lnprob function to calculate the normalised log-probability.  These terms would look something like:\n",
    "\n",
    "$\\log \\left(\\prod_i \\frac{1}{\\max_i - \\min_i}\\right)$\n",
    "\n",
    "where $\\max_i$ and $\\min_i$ are the upper and lower bounds for the parameter, and the prior is a uniform distribution. Other types of prior are possible. For example, you might expect the prior to be Gaussian."
   ]
  }
 ],
 "metadata": {
  "kernelspec": {
   "display_name": "Python 3",
   "language": "python",
   "name": "python3"
  },
  "language_info": {
   "codemirror_mode": {
    "name": "ipython",
    "version": 3
   },
   "file_extension": ".py",
   "mimetype": "text/x-python",
   "name": "python",
   "nbconvert_exporter": "python",
   "pygments_lexer": "ipython3",
   "version": "3.4.4"
  }
 },
 "nbformat": 4,
 "nbformat_minor": 0
}
